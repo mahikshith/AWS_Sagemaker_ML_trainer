{
  "nbformat": 4,
  "nbformat_minor": 0,
  "metadata": {
    "colab": {
      "provenance": []
    },
    "kernelspec": {
      "name": "python3",
      "display_name": "Python 3"
    },
    "language_info": {
      "name": "python"
    }
  },
  "cells": [
    {
      "cell_type": "code",
      "source": [
        "# awi spawn emr instance -- python code in s3://python_code.py -master-node  m5.2xlarge -worker-node m5.xlarge -worker-node 10"
      ],
      "metadata": {
        "id": "OkudKTCQUe8e"
      },
      "execution_count": null,
      "outputs": []
    },
    {
      "cell_type": "code",
      "source": [
        "!pip install pyspark py4j"
      ],
      "metadata": {
        "colab": {
          "base_uri": "https://localhost:8080/"
        },
        "id": "nPdnllhOxL1P",
        "outputId": "12ffa45b-e2fa-4ce9-e9ea-8b6e0d02a736"
      },
      "execution_count": null,
      "outputs": [
        {
          "output_type": "stream",
          "name": "stdout",
          "text": [
            "Requirement already satisfied: pyspark in /usr/local/lib/python3.10/dist-packages (3.5.0)\n",
            "Requirement already satisfied: py4j in /usr/local/lib/python3.10/dist-packages (0.10.9.7)\n"
          ]
        }
      ]
    },
    {
      "cell_type": "code",
      "execution_count": null,
      "metadata": {
        "id": "_DNzXRl7xEoX"
      },
      "outputs": [],
      "source": [
        "from pyspark.sql import SparkSession\n",
        "import pyspark.sql.functions as sf"
      ]
    },
    {
      "cell_type": "code",
      "source": [
        "spark = SparkSession.builder.appName('SparkByExamples.com').master(\"local[*]\").getOrCreate()\n"
      ],
      "metadata": {
        "id": "expKZlyVxZeA"
      },
      "execution_count": null,
      "outputs": []
    },
    {
      "cell_type": "markdown",
      "source": [
        "# Reading Data"
      ],
      "metadata": {
        "id": "sdOmEBCzxlt1"
      }
    },
    {
      "cell_type": "code",
      "source": [
        "df = spark.read.csv('click_stream.csv', header=True, inferSchema=True)"
      ],
      "metadata": {
        "id": "5mZubjWBxZbq"
      },
      "execution_count": null,
      "outputs": []
    },
    {
      "cell_type": "code",
      "source": [
        "df.printSchema()"
      ],
      "metadata": {
        "colab": {
          "base_uri": "https://localhost:8080/"
        },
        "id": "hkEfuxAHBId9",
        "outputId": "5b1e4d45-4517-4cbe-e646-94fb79937053"
      },
      "execution_count": null,
      "outputs": [
        {
          "output_type": "stream",
          "name": "stdout",
          "text": [
            "root\n",
            " |-- hotel_id: long (nullable = true)\n",
            " |-- uuid: string (nullable = true)\n",
            " |-- profile_type: string (nullable = true)\n",
            " |-- device_id: string (nullable = true)\n",
            " |-- visitor_id: string (nullable = true)\n",
            " |-- user_mcid: string (nullable = true)\n",
            " |-- page_name: string (nullable = true)\n",
            " |-- meta_activity_name: string (nullable = true)\n",
            " |-- meta_act_cntnt: long (nullable = true)\n",
            " |-- meta_timezone: string (nullable = true)\n",
            " |-- meta_user_agent: string (nullable = true)\n",
            " |-- lob_name: string (nullable = true)\n",
            " |-- pg_nm_omniture: string (nullable = true)\n",
            " |-- device_type: string (nullable = true)\n",
            " |-- dvc_g_city: string (nullable = true)\n",
            " |-- os: string (nullable = true)\n",
            " |-- os_version: string (nullable = true)\n",
            " |-- app_version: string (nullable = true)\n",
            " |-- query_city: string (nullable = true)\n",
            " |-- query_country: string (nullable = true)\n",
            " |-- query_travel_purpose_optd: string (nullable = true)\n",
            " |-- travel_purpose: string (nullable = true)\n",
            " |-- query_type: string (nullable = true)\n",
            " |-- query_value: string (nullable = true)\n",
            " |-- checkin_date: string (nullable = true)\n",
            " |-- checkout_date: date (nullable = true)\n",
            " |-- total_adults: string (nullable = true)\n",
            " |-- total_children: double (nullable = true)\n",
            " |-- total_guests: double (nullable = true)\n",
            " |-- total_room_nights: double (nullable = true)\n",
            " |-- total_rooms: double (nullable = true)\n",
            " |-- ap: double (nullable = true)\n",
            " |-- is_multi_room: double (nullable = true)\n",
            " |-- length_of_stay: double (nullable = true)\n",
            " |-- disp_sell_amt: double (nullable = true)\n",
            " |-- disp_sell_amt_dis: double (nullable = true)\n",
            " |-- is_free_cncl: double (nullable = true)\n",
            " |-- htl_meal_plan_code: string (nullable = true)\n",
            " |-- is_pah: string (nullable = true)\n",
            " |-- usr_wal_bonus_bal: double (nullable = true)\n",
            " |-- usr_wal_plus_bal: double (nullable = true)\n",
            " |-- usr_wal_real_bal: double (nullable = true)\n",
            " |-- room_code: double (nullable = true)\n",
            " |-- room_name: string (nullable = true)\n",
            " |-- room_type: string (nullable = true)\n",
            " |-- roomstayqualifier: string (nullable = true)\n",
            " |-- prc_aaj_ka_bhao_flg: string (nullable = true)\n",
            " |-- prc_absrpn_amt: string (nullable = true)\n",
            " |-- prc_amt_chrgd: string (nullable = true)\n",
            " |-- prc_commission: string (nullable = true)\n",
            " |-- prc_disp_amt_w_dis_srvr: string (nullable = true)\n",
            " |-- prc_disp_amt_wo_dis_srvr: string (nullable = true)\n",
            " |-- prc_div_fac: string (nullable = true)\n",
            " |-- prc_extrapax_amt: string (nullable = true)\n",
            " |-- prc_hotelier_promotion: string (nullable = true)\n",
            " |-- prc_htl_base_prc: string (nullable = true)\n",
            " |-- prc_mkpsrv_fee: string (nullable = true)\n",
            " |-- prc_pay_mod: string (nullable = true)\n",
            " |-- prc_profit: string (nullable = true)\n",
            " |-- prc_sell_amt_w_tax: string (nullable = true)\n",
            " |-- prc_sell_amt_wo_tax: string (nullable = true)\n",
            " |-- prc_surge_applcbl_on: string (nullable = true)\n",
            " |-- prc_surge_prcnt: string (nullable = true)\n",
            " |-- prc_tax_htl: string (nullable = true)\n",
            " |-- prc_wal_amt: string (nullable = true)\n",
            " |-- prc_wallet_balance: double (nullable = true)\n",
            " |-- prc_mmt_markup: double (nullable = true)\n",
            " |-- cpn_amt: string (nullable = true)\n",
            " |-- cpn_blckd_m: string (nullable = true)\n",
            " |-- cpn_cashbck_amt: string (nullable = true)\n",
            " |-- cpn_cd: string (nullable = true)\n",
            " |-- cpn_code_main: string (nullable = true)\n",
            " |-- cpn_dbl_dis: string (nullable = true)\n",
            " |-- cpn_dd_surge_amt: string (nullable = true)\n",
            " |-- cpn_dis_types_arr: string (nullable = true)\n",
            " |-- cpn_mode_typ: string (nullable = true)\n",
            " |-- cpn_orig_amt: string (nullable = true)\n",
            " |-- cpn_spl_promo: string (nullable = true)\n",
            " |-- cpn_status: string (nullable = true)\n",
            " |-- cpn_wal_ded_amt: string (nullable = true)\n",
            " |-- cpn_wal_intnsty_prcnt: string (nullable = true)\n",
            " |-- cpn_wal_pls_amt_ded: string (nullable = true)\n",
            " |-- exp_id: integer (nullable = true)\n",
            " |-- exp_city_tax_included: integer (nullable = true)\n",
            " |-- exp_disp_prc: string (nullable = true)\n",
            " |-- exp_disp_prc_multiplier: string (nullable = true)\n",
            " |-- exp_disp_prc_tax_included: string (nullable = true)\n",
            " |-- exp_pol_id: string (nullable = true)\n",
            " |-- exp_pol_ver: string (nullable = true)\n",
            " |-- exp_rnk_algo_ver: string (nullable = true)\n",
            " |-- filter_amenities_arr: string (nullable = true)\n",
            " |-- filter_applied_arr: string (nullable = true)\n",
            " |-- filter_loc_arr: string (nullable = true)\n",
            " |-- filter_prop_type_arr: string (nullable = true)\n",
            " |-- filter_removed_arr: string (nullable = true)\n",
            " |-- filter_star_arr: string (nullable = true)\n",
            " |-- filter_usr_rating_arr: string (nullable = true)\n",
            " |-- filter_clr_all: string (nullable = true)\n",
            " |-- filter_price: string (nullable = true)\n",
            " |-- applied_sort: string (nullable = true)\n",
            " |-- applied_sort_order: string (nullable = true)\n",
            " |-- htl_city_code: string (nullable = true)\n",
            " |-- is_htl_city_sold_out: string (nullable = true)\n",
            " |-- is_htl_sold_out: boolean (nullable = true)\n",
            " |-- htl_rnk_disp_order: integer (nullable = true)\n",
            " |-- htl_rating_disp_lstng: double (nullable = true)\n",
            " |-- htl_rate_plan_code: double (nullable = true)\n",
            " |-- is_htl_shrtlstd_lstng: boolean (nullable = true)\n",
            " |-- is_htl_sold_out_lstng: boolean (nullable = true)\n",
            " |-- policy_id: boolean (nullable = true)\n",
            " |-- policy_version: string (nullable = true)\n",
            " |-- is_htl_fc_lstng: boolean (nullable = true)\n",
            " |-- htl_loc_mtch_prcnt_lstng: string (nullable = true)\n",
            " |-- is_htl_mmt_assrd_lstng: string (nullable = true)\n",
            " |-- is_htl_pah_lstng: boolean (nullable = true)\n",
            " |-- country_code: boolean (nullable = true)\n",
            " |-- client_ip: string (nullable = true)\n",
            " |-- company_id: string (nullable = true)\n",
            " |-- env: string (nullable = true)\n",
            " |-- session_vst_num: string (nullable = true)\n",
            " |-- session_id: string (nullable = true)\n",
            " |-- time_spent: string (nullable = true)\n",
            " |-- meta_row_type: string (nullable = true)\n",
            " |-- record_client_ts: string (nullable = true)\n",
            " |-- record_pdt_ts: timestamp (nullable = true)\n",
            " |-- record_processed_ts: timestamp (nullable = true)\n",
            " |-- bkg_chld_id_arr: timestamp (nullable = true)\n",
            " |-- bkg_txn_id: string (nullable = true)\n",
            " |-- correlation_key: string (nullable = true)\n",
            " |-- meta_row_id: string (nullable = true)\n",
            " |-- meta_row_id_clnt: string (nullable = true)\n",
            " |-- meta_row_id_srvr: string (nullable = true)\n",
            " |-- event_date: string (nullable = true)\n",
            " |-- browsing_date: date (nullable = true)\n",
            " |-- meta_fnnl_step: string (nullable = true)\n",
            "\n"
          ]
        }
      ]
    },
    {
      "cell_type": "code",
      "source": [
        "df.show(1)"
      ],
      "metadata": {
        "colab": {
          "base_uri": "https://localhost:8080/"
        },
        "id": "4qVsdv8NxZZl",
        "outputId": "6a0415df-b634-467d-9b80-8f7b37a7a0ed"
      },
      "execution_count": null,
      "outputs": [
        {
          "output_type": "stream",
          "name": "stdout",
          "text": [
            "+------------------+-----------+------------+----------------+--------------------+--------------------+---------+------------------+--------------+-------------------+---------------+--------+--------------+-----------+-----------+-------+----------+-----------+----------+-------------+-------------------------+--------------+----------+-----------+------------+-------------+------------+--------------+------------+-----------------+-----------+----+-------------+--------------+-------------+-----------------+------------+------------------+------+-----------------+----------------+----------------+---------+---------+---------+-----------------+-------------------+--------------+-------------+--------------+-----------------------+------------------------+-----------+----------------+----------------------+----------------+--------------+-----------+----------+------------------+-------------------+--------------------+---------------+-----------+-----------+------------------+--------------+-------+-----------+---------------+------+-------------+-----------+----------------+-----------------+------------+------------+-------------+----------+---------------+---------------------+-------------------+------+---------------------+------------+-----------------------+-------------------------+----------+-----------+----------------+--------------------+------------------+--------------+--------------------+------------------+---------------+---------------------+--------------+------------+------------+------------------+-------------+--------------------+---------------+------------------+---------------------+------------------+---------------------+---------------------+---------+--------------+---------------+------------------------+----------------------+----------------+------------+-----------+----------+----+---------------+--------------------+----------+-------------+-------------------+-------------------+-------------------+---------------+----------+--------------------+--------------------+--------------------+--------------------+----------+-------------+--------------+\n",
            "|          hotel_id|       uuid|profile_type|       device_id|          visitor_id|           user_mcid|page_name|meta_activity_name|meta_act_cntnt|      meta_timezone|meta_user_agent|lob_name|pg_nm_omniture|device_type| dvc_g_city|     os|os_version|app_version|query_city|query_country|query_travel_purpose_optd|travel_purpose|query_type|query_value|checkin_date|checkout_date|total_adults|total_children|total_guests|total_room_nights|total_rooms|  ap|is_multi_room|length_of_stay|disp_sell_amt|disp_sell_amt_dis|is_free_cncl|htl_meal_plan_code|is_pah|usr_wal_bonus_bal|usr_wal_plus_bal|usr_wal_real_bal|room_code|room_name|room_type|roomstayqualifier|prc_aaj_ka_bhao_flg|prc_absrpn_amt|prc_amt_chrgd|prc_commission|prc_disp_amt_w_dis_srvr|prc_disp_amt_wo_dis_srvr|prc_div_fac|prc_extrapax_amt|prc_hotelier_promotion|prc_htl_base_prc|prc_mkpsrv_fee|prc_pay_mod|prc_profit|prc_sell_amt_w_tax|prc_sell_amt_wo_tax|prc_surge_applcbl_on|prc_surge_prcnt|prc_tax_htl|prc_wal_amt|prc_wallet_balance|prc_mmt_markup|cpn_amt|cpn_blckd_m|cpn_cashbck_amt|cpn_cd|cpn_code_main|cpn_dbl_dis|cpn_dd_surge_amt|cpn_dis_types_arr|cpn_mode_typ|cpn_orig_amt|cpn_spl_promo|cpn_status|cpn_wal_ded_amt|cpn_wal_intnsty_prcnt|cpn_wal_pls_amt_ded|exp_id|exp_city_tax_included|exp_disp_prc|exp_disp_prc_multiplier|exp_disp_prc_tax_included|exp_pol_id|exp_pol_ver|exp_rnk_algo_ver|filter_amenities_arr|filter_applied_arr|filter_loc_arr|filter_prop_type_arr|filter_removed_arr|filter_star_arr|filter_usr_rating_arr|filter_clr_all|filter_price|applied_sort|applied_sort_order|htl_city_code|is_htl_city_sold_out|is_htl_sold_out|htl_rnk_disp_order|htl_rating_disp_lstng|htl_rate_plan_code|is_htl_shrtlstd_lstng|is_htl_sold_out_lstng|policy_id|policy_version|is_htl_fc_lstng|htl_loc_mtch_prcnt_lstng|is_htl_mmt_assrd_lstng|is_htl_pah_lstng|country_code|  client_ip|company_id| env|session_vst_num|          session_id|time_spent|meta_row_type|   record_client_ts|      record_pdt_ts|record_processed_ts|bkg_chld_id_arr|bkg_txn_id|     correlation_key|         meta_row_id|    meta_row_id_clnt|    meta_row_id_srvr|event_date|browsing_date|meta_fnnl_step|\n",
            "+------------------+-----------+------------+----------------+--------------------+--------------------+---------+------------------+--------------+-------------------+---------------+--------+--------------+-----------+-----------+-------+----------+-----------+----------+-------------+-------------------------+--------------+----------+-----------+------------+-------------+------------+--------------+------------+-----------------+-----------+----+-------------+--------------+-------------+-----------------+------------+------------------+------+-----------------+----------------+----------------+---------+---------+---------+-----------------+-------------------+--------------+-------------+--------------+-----------------------+------------------------+-----------+----------------+----------------------+----------------+--------------+-----------+----------+------------------+-------------------+--------------------+---------------+-----------+-----------+------------------+--------------+-------+-----------+---------------+------+-------------+-----------+----------------+-----------------+------------+------------+-------------+----------+---------------+---------------------+-------------------+------+---------------------+------------+-----------------------+-------------------------+----------+-----------+----------------+--------------------+------------------+--------------+--------------------+------------------+---------------+---------------------+--------------+------------+------------+------------------+-------------+--------------------+---------------+------------------+---------------------+------------------+---------------------+---------------------+---------+--------------+---------------+------------------------+----------------------+----------------+------------+-----------+----------+----+---------------+--------------------+----------+-------------+-------------------+-------------------+-------------------+---------------+----------+--------------------+--------------------+--------------------+--------------------+----------+-------------+--------------+\n",
            "|201603091704103064|U2DMB46CCCL|    PERSONAL|296c2cb330cfc79d|2B60E331852A1F17-...|12922965978476714...|  listing|          pageexit|          NULL|India Standard Time|  Android_7.5.7|intl htl|          NULL|     mobile|Tegallalang|ANDROID|       7.0|      7.5.7|  -2554009|           ch|                    False|          Work|       cty| St. Moritz|  2019-05-30|   2019-06-01|           6|           1.0|         7.0|              6.0|        3.0|59.0|         NULL|           2.0|      24152.0|          16263.0|        NULL|              NULL|  NULL|           2000.0|             0.0|             0.0|     NULL|     NULL|     NULL|   2e0e2e0e2e1e2e|               NULL|          NULL|         NULL|          NULL|                   NULL|                    NULL|       NULL|            NULL|                  NULL|            NULL|          NULL|       NULL|      NULL|              NULL|               NULL|                NULL|           NULL|       NULL|       NULL|            2000.0|          NULL|   NULL|       NULL|           NULL|  NULL|         NULL|       NULL|            NULL|             NULL|        NULL|        NULL|         NULL|      NULL|           NULL|                 NULL|               NULL|    31|                 NULL|          PN|                   NULL|                     NULL|      NULL|       NULL|      S_hsq101_B|                NULL|              NULL|          NULL|                NULL|              NULL|           NULL|                 NULL|          NULL|        NULL|  popularity|       high_to_low|         DAVO|               False|           NULL|                 8|                  0.0|              NULL|                false|                false|     NULL|          NULL|           true|                     0.0|                 False|            true|        NULL|192.168.1.2|       mmt|prod|           1381|296c2cb330cfc79d~...|   28614.0|      request|2019-04-01 05:56:15|2019-04-01 05:56:18|2019-04-01 19:05:56|           NULL|      NULL|30ecf709-4b70-4ee...|95e276d5-292b-48b...|f8264304-794d-4c4...|e9e53cfe-7dc6-4a4...|2019-04-01|   2019-04-01|       listing|\n",
            "+------------------+-----------+------------+----------------+--------------------+--------------------+---------+------------------+--------------+-------------------+---------------+--------+--------------+-----------+-----------+-------+----------+-----------+----------+-------------+-------------------------+--------------+----------+-----------+------------+-------------+------------+--------------+------------+-----------------+-----------+----+-------------+--------------+-------------+-----------------+------------+------------------+------+-----------------+----------------+----------------+---------+---------+---------+-----------------+-------------------+--------------+-------------+--------------+-----------------------+------------------------+-----------+----------------+----------------------+----------------+--------------+-----------+----------+------------------+-------------------+--------------------+---------------+-----------+-----------+------------------+--------------+-------+-----------+---------------+------+-------------+-----------+----------------+-----------------+------------+------------+-------------+----------+---------------+---------------------+-------------------+------+---------------------+------------+-----------------------+-------------------------+----------+-----------+----------------+--------------------+------------------+--------------+--------------------+------------------+---------------+---------------------+--------------+------------+------------+------------------+-------------+--------------------+---------------+------------------+---------------------+------------------+---------------------+---------------------+---------+--------------+---------------+------------------------+----------------------+----------------+------------+-----------+----------+----+---------------+--------------------+----------+-------------+-------------------+-------------------+-------------------+---------------+----------+--------------------+--------------------+--------------------+--------------------+----------+-------------+--------------+\n",
            "only showing top 1 row\n",
            "\n"
          ]
        }
      ]
    },
    {
      "cell_type": "code",
      "source": [
        "df.count()"
      ],
      "metadata": {
        "colab": {
          "base_uri": "https://localhost:8080/"
        },
        "id": "-G3kC3jdDpfa",
        "outputId": "8351cc6d-76f7-4f64-b1d5-ee76c990359c"
      },
      "execution_count": null,
      "outputs": [
        {
          "output_type": "execute_result",
          "data": {
            "text/plain": [
              "11715"
            ]
          },
          "metadata": {},
          "execution_count": 10
        }
      ]
    },
    {
      "cell_type": "markdown",
      "source": [
        "# Let's get more detailed info"
      ],
      "metadata": {
        "id": "iC3Gyhq6DwGL"
      }
    },
    {
      "cell_type": "code",
      "source": [
        "df.describe().show()"
      ],
      "metadata": {
        "colab": {
          "base_uri": "https://localhost:8080/"
        },
        "id": "ZrU8jlAyDvYv",
        "outputId": "7dc65f4b-1281-46b7-e18d-5134c35b49f1"
      },
      "execution_count": null,
      "outputs": [
        {
          "output_type": "stream",
          "name": "stdout",
          "text": [
            "+-------+--------------------+-----------+------------+--------------------+--------------------+--------------------+---------------+--------------------+--------------------+-------------+-----------------+--------+--------------------+-----------+----------+-------+------------------+------------------+----------+-------------+-------------------------+--------------+----------+--------------------+---------------+-----------------+-------------------+------------------+------------------+------------------+-----------------+-------------+------------------+-----------------+-----------------+------------------+------------------+------+------------------+-----------------+-----------------+---------+---------+---------+-----------------+-------------------+--------------+-------------+--------------+-----------------------+------------------------+-----------+----------------+----------------------+----------------+--------------+-----------+----------+------------------+-------------------+--------------------+---------------+-----------+-----------+------------------+--------------+-------+-----------+---------------+------+-------------+-----------+----------------+-----------------+------------+------------+-------------+----------+---------------+---------------------+-------------------+------------------+---------------------+------------+-----------------------+-------------------------+----------+-----------+----------------+--------------------+--------------------+--------------+--------------------+------------------+------------------+---------------------+--------------+------------+-----------------+------------------+-------------+--------------------+------------------+---------------------+------------------+--------------+------------------------+----------------------+--------------------+-------------+-----+------------------+--------------------+--------------------+-------------+-------------------+----------+--------------------+--------------------+--------------------+--------------------+--------------------+--------------+\n",
            "|summary|            hotel_id|       uuid|profile_type|           device_id|          visitor_id|           user_mcid|      page_name|  meta_activity_name|      meta_act_cntnt|meta_timezone|  meta_user_agent|lob_name|      pg_nm_omniture|device_type|dvc_g_city|     os|        os_version|       app_version|query_city|query_country|query_travel_purpose_optd|travel_purpose|query_type|         query_value|   checkin_date|     total_adults|     total_children|      total_guests| total_room_nights|       total_rooms|               ap|is_multi_room|    length_of_stay|    disp_sell_amt|disp_sell_amt_dis|      is_free_cncl|htl_meal_plan_code|is_pah| usr_wal_bonus_bal| usr_wal_plus_bal| usr_wal_real_bal|room_code|room_name|room_type|roomstayqualifier|prc_aaj_ka_bhao_flg|prc_absrpn_amt|prc_amt_chrgd|prc_commission|prc_disp_amt_w_dis_srvr|prc_disp_amt_wo_dis_srvr|prc_div_fac|prc_extrapax_amt|prc_hotelier_promotion|prc_htl_base_prc|prc_mkpsrv_fee|prc_pay_mod|prc_profit|prc_sell_amt_w_tax|prc_sell_amt_wo_tax|prc_surge_applcbl_on|prc_surge_prcnt|prc_tax_htl|prc_wal_amt|prc_wallet_balance|prc_mmt_markup|cpn_amt|cpn_blckd_m|cpn_cashbck_amt|cpn_cd|cpn_code_main|cpn_dbl_dis|cpn_dd_surge_amt|cpn_dis_types_arr|cpn_mode_typ|cpn_orig_amt|cpn_spl_promo|cpn_status|cpn_wal_ded_amt|cpn_wal_intnsty_prcnt|cpn_wal_pls_amt_ded|            exp_id|exp_city_tax_included|exp_disp_prc|exp_disp_prc_multiplier|exp_disp_prc_tax_included|exp_pol_id|exp_pol_ver|exp_rnk_algo_ver|filter_amenities_arr|  filter_applied_arr|filter_loc_arr|filter_prop_type_arr|filter_removed_arr|   filter_star_arr|filter_usr_rating_arr|filter_clr_all|filter_price|     applied_sort|applied_sort_order|htl_city_code|is_htl_city_sold_out|htl_rnk_disp_order|htl_rating_disp_lstng|htl_rate_plan_code|policy_version|htl_loc_mtch_prcnt_lstng|is_htl_mmt_assrd_lstng|           client_ip|   company_id|  env|   session_vst_num|          session_id|          time_spent|meta_row_type|   record_client_ts|bkg_txn_id|     correlation_key|         meta_row_id|    meta_row_id_clnt|    meta_row_id_srvr|          event_date|meta_fnnl_step|\n",
            "+-------+--------------------+-----------+------------+--------------------+--------------------+--------------------+---------------+--------------------+--------------------+-------------+-----------------+--------+--------------------+-----------+----------+-------+------------------+------------------+----------+-------------+-------------------------+--------------+----------+--------------------+---------------+-----------------+-------------------+------------------+------------------+------------------+-----------------+-------------+------------------+-----------------+-----------------+------------------+------------------+------+------------------+-----------------+-----------------+---------+---------+---------+-----------------+-------------------+--------------+-------------+--------------+-----------------------+------------------------+-----------+----------------+----------------------+----------------+--------------+-----------+----------+------------------+-------------------+--------------------+---------------+-----------+-----------+------------------+--------------+-------+-----------+---------------+------+-------------+-----------+----------------+-----------------+------------+------------+-------------+----------+---------------+---------------------+-------------------+------------------+---------------------+------------+-----------------------+-------------------------+----------+-----------+----------------+--------------------+--------------------+--------------+--------------------+------------------+------------------+---------------------+--------------+------------+-----------------+------------------+-------------+--------------------+------------------+---------------------+------------------+--------------+------------------------+----------------------+--------------------+-------------+-----+------------------+--------------------+--------------------+-------------+-------------------+----------+--------------------+--------------------+--------------------+--------------------+--------------------+--------------+\n",
            "|  count|               11715|       9661|       11715|               11528|               10698|               11477|          11715|               11715|                4046|        11712|             9366|   11715|                2351|      11715|      8602|  11715|             11528|             11715|     11715|        11715|                    11528|         11579|     11657|               10919|          11715|            11715|              11599|             11715|             11520|             11715|            11715|            3|             11517|            11715|            11715|                 3|                 0|     0|              9460|             9463|             9463|        3|        0|        0|            11525|                  3|             0|            0|             0|                      0|                       0|          0|               0|                     0|               0|             0|          0|         0|                 0|                  0|                   0|              0|          0|          0|              9628|             3|      0|          0|              0|     0|            0|          0|               0|                0|           0|           0|            0|         0|              0|                    0|                  0|             11381|                    3|       11288|                      3|                        0|         0|          0|           11373|                 194|                3121|          5400|                 167|               270|               493|                    0|             0|          73|             5112|              5114|        11715|               11575|             11712|                11421|                 3|             0|                   10852|                 11421|               10304|        11715|11715|             11528|               11388|                6479|        11715|              11715|         0|               11712|               11715|               11715|               11388|               11715|         11715|\n",
            "|   mean|1.683421240560730...|       NULL|        NULL|2.324654825226363...|                NULL|4.785162127719456E37|           NULL|                NULL|1.882936081970680...|         NULL|             NULL|    NULL|                NULL|       NULL|      NULL|   NULL| 8.239546533087264|43.348954285714285|-2554009.0|         NULL|                     NULL|          NULL|      NULL|                50.0|           NULL|2.149077868852459|0.11966548840417278|2.2664959453691846|1.8465277777777778|1.0843363209560393|5.033119931711481|         11.0|1.7089519840236174|4677.764670081093| 3421.62265130175|1198.3333333333333|              NULL|  NULL|1099.8157505285412|92.41065201310367|76.63447109796047|      0.0|     NULL|     NULL|             NULL|               NULL|          NULL|         NULL|          NULL|                   NULL|                    NULL|       NULL|            NULL|                  NULL|            NULL|          NULL|       NULL|      NULL|              NULL|               NULL|                NULL|           NULL|       NULL|       NULL|1256.9116119651019|        2000.0|   NULL|       NULL|           NULL|  NULL|         NULL|       NULL|            NULL|             NULL|        NULL|        NULL|         NULL|      NULL|           NULL|                 NULL|               NULL|22.838239170547403|                 33.0|        NULL|                   NULL|                     NULL|      NULL|       NULL|            NULL|                NULL|                NULL|          50.0|                NULL|              NULL| 4.378787878787879|                 NULL|          NULL|        NULL|             NULL|              NULL|         NULL|                NULL|13.109033469945356|   3.4594518868750326|               2.5|          NULL|        70.1683502911049|                   0.0|                NULL|         NULL| NULL|144.35236442516268|               444.0|2.591813662410191...|      63819.0|               NULL|      NULL|                NULL|                NULL|                NULL|                NULL|                NULL|          NULL|\n",
            "| stddev|7.384817904778987...|       NULL|        NULL|7.710007822365057E62|                NULL|2.570132512517124...|           NULL|                NULL|5.678390921570843...|         NULL|             NULL|    NULL|                NULL|       NULL|      NULL|   NULL|1.2113440616372122| 26.20177147680595|       0.0|         NULL|                     NULL|          NULL|      NULL|                 0.0|           NULL|1.288126515786191| 0.4345312512978306| 1.435542385700858|1.7677617010344868| 0.411200920811679| 360.578475571366|          0.0| 1.577851406721234|3775.486298413514|3332.135396934833|  696.359342102433|              NULL|  NULL|1148.9236161849885|762.4970488770524|5046.463572998343|      0.0|     NULL|     NULL|             NULL|               NULL|          NULL|         NULL|          NULL|                   NULL|                    NULL|       NULL|            NULL|                  NULL|            NULL|          NULL|       NULL|      NULL|              NULL|               NULL|                NULL|           NULL|       NULL|       NULL| 5266.263912698518|           0.0|   NULL|       NULL|           NULL|  NULL|         NULL|       NULL|            NULL|             NULL|        NULL|        NULL|         NULL|      NULL|           NULL|                 NULL|               NULL| 8.778564714449637|                  0.0|        NULL|                   NULL|                     NULL|      NULL|       NULL|            NULL|                NULL|                NULL|           0.0|                NULL|              NULL|0.6814243975573209|                 NULL|          NULL|        NULL|             NULL|              NULL|         NULL|                NULL| 25.74508311186351|   1.3616215791344568|1.3228756555322954|          NULL|       38.33613935452548|                   0.0|                NULL|         NULL| NULL|    278.8729956377|                 0.0|1.990315454099352...|          0.0|               NULL|      NULL|                NULL|                NULL|                NULL|                NULL|                NULL|          NULL|\n",
            "|    min|     201603100421409|U0HGGO6RN6H|    BUSINESS|00097A03-6E7C-44E...|007EDAB3DA9D4150-...|00022466357738219...|        listing|        brin expired|    1370794655847543|         AEDT|    Android_7.3.1| dom htl|funnel:domestic h...|    desktop|  16 Bld-C|ANDROID|             4.4.2|            11.0.3|  -2554009|     \"[\"\"in\"\"|                 \"\"in\"\"]\"|         False|   Leisure|                  50|     2019-02-01|                1|                0.0|               0.0|               1.0|               1.0|         -15888.0|         11.0|               1.0|          -4207.0|          -4207.0|             774.0|              NULL|  NULL|            -100.0|              0.0|              0.0|      0.0|     NULL|     NULL|            10e0e|               2e0e|          NULL|         NULL|          NULL|                   NULL|                    NULL|       NULL|            NULL|                  NULL|            NULL|          NULL|       NULL|      NULL|              NULL|               NULL|                NULL|           NULL|       NULL|       NULL|            -100.0|        2000.0|   NULL|       NULL|           NULL|  NULL|         NULL|       NULL|            NULL|             NULL|        NULL|        NULL|         NULL|      NULL|           NULL|                 NULL|               NULL|                 1|                   33|          PN|                     PN|                     NULL|      NULL|       NULL|      S_MM_AND_B|          Free Wi-fi|              3 Star|            50|           Apartment|            3 Star|                 3|                 NULL|          NULL|      0-1000|PRICE_LOW_TO_HIGH|       high_to_low|         DAVO|                 DED|                 0|                  0.0|               1.0|          NULL|                     0.0|                   0.0|         1.22.78.135|100.88.185.92|debug|                 1|00097A03-6E7C-44E...|                 0.0|      63819.0|2019-03-31 15:50:49|      NULL|00026be8-f979-445...|00060ec9-a6ff-4c3...|00005a98-8a98-424...|00021273-524c-499...|          2019-04-01|    2019-04-01|\n",
            "|    max|  201902242001029877|UZELIZ3ES9M|    PERSONAL|    ff84b6e200f9a4ab|                 vid|ffa16b85-237f-458...|listing mapview|up front filter a...| 2016072005194314060| 印度標準時間|Android_7.5.9.RC1|intl htl|          |corporate|        pwa| नई दिल्ली|WINDOWS|          iOS_12.3|      73.0.3683.86|       xye|           pr|                     True|       leisure|       poi|undefined, undefined|Dehradun, India|                9|                6.0|              24.0|              29.0|              10.0|            313.0|         11.0|              29.0|          58025.0|          50337.0|            2002.0|              NULL|  NULL|            6500.0|          15000.0|         490000.0|      0.0|     NULL|     NULL|             9e0e|               2e0e|          NULL|         NULL|          NULL|                   NULL|                    NULL|       NULL|            NULL|                  NULL|            NULL|          NULL|       NULL|      NULL|              NULL|               NULL|                NULL|           NULL|       NULL|       NULL|          490200.0|        2000.0|   NULL|       NULL|           NULL|  NULL|         NULL|       NULL|            NULL|             NULL|        NULL|        NULL|         NULL|      NULL|           NULL|                 NULL|               NULL|                33|                   33|        PRNT|                     PN|                     NULL|      NULL|       NULL|S_reviewRating_B|       Swimming Pool|spectacular view,...|         other|Villa,Resort,Farm...|     special offer|               5,4|                 NULL|          NULL|   5500-9500|      user rating|        popularity|  high_to_low|               False|               490|                 28.0|               3.5|          NULL|                    True|                  True|fe80::40c:5ec7:77...|          mmt| prod|              prod| ff84b6e200f9a4ab~10|9b6d23e8b942be6d~444|      request|            request|      NULL|fff892fb-3a85-423...|ffffe57c-77a1-421...|fffb64c8-87e0-47b...|fffd4580-61c5-49c...|4c7eee2e-4c2f-48f...|       listing|\n",
            "+-------+--------------------+-----------+------------+--------------------+--------------------+--------------------+---------------+--------------------+--------------------+-------------+-----------------+--------+--------------------+-----------+----------+-------+------------------+------------------+----------+-------------+-------------------------+--------------+----------+--------------------+---------------+-----------------+-------------------+------------------+------------------+------------------+-----------------+-------------+------------------+-----------------+-----------------+------------------+------------------+------+------------------+-----------------+-----------------+---------+---------+---------+-----------------+-------------------+--------------+-------------+--------------+-----------------------+------------------------+-----------+----------------+----------------------+----------------+--------------+-----------+----------+------------------+-------------------+--------------------+---------------+-----------+-----------+------------------+--------------+-------+-----------+---------------+------+-------------+-----------+----------------+-----------------+------------+------------+-------------+----------+---------------+---------------------+-------------------+------------------+---------------------+------------+-----------------------+-------------------------+----------+-----------+----------------+--------------------+--------------------+--------------+--------------------+------------------+------------------+---------------------+--------------+------------+-----------------+------------------+-------------+--------------------+------------------+---------------------+------------------+--------------+------------------------+----------------------+--------------------+-------------+-----+------------------+--------------------+--------------------+-------------+-------------------+----------+--------------------+--------------------+--------------------+--------------------+--------------------+--------------+\n",
            "\n"
          ]
        }
      ]
    },
    {
      "cell_type": "code",
      "source": [
        "df.columns[:10]"
      ],
      "metadata": {
        "colab": {
          "base_uri": "https://localhost:8080/"
        },
        "id": "QujU_57uxZXE",
        "outputId": "653dcc3a-576f-42d7-aa24-13366d7de311"
      },
      "execution_count": null,
      "outputs": [
        {
          "output_type": "execute_result",
          "data": {
            "text/plain": [
              "['hotel_id',\n",
              " 'uuid',\n",
              " 'profile_type',\n",
              " 'device_id',\n",
              " 'visitor_id',\n",
              " 'user_mcid',\n",
              " 'page_name',\n",
              " 'meta_activity_name',\n",
              " 'meta_act_cntnt',\n",
              " 'meta_timezone']"
            ]
          },
          "metadata": {},
          "execution_count": 12
        }
      ]
    },
    {
      "cell_type": "markdown",
      "source": [
        "# How to select rows?"
      ],
      "metadata": {
        "id": "q5RDUibmKCGS"
      }
    },
    {
      "cell_type": "code",
      "source": [
        "df.select('htl_city_code', 'country_code').where(df.htl_city_code.isNotNull() & df.country_code.isNotNull()).show()\n"
      ],
      "metadata": {
        "colab": {
          "base_uri": "https://localhost:8080/"
        },
        "id": "9gSD-v3sKD-J",
        "outputId": "447892cb-838c-4329-aa3f-e3f2838e4902"
      },
      "execution_count": null,
      "outputs": [
        {
          "output_type": "stream",
          "name": "stdout",
          "text": [
            "+-------------+------------+\n",
            "|htl_city_code|country_code|\n",
            "+-------------+------------+\n",
            "|  high_to_low|       false|\n",
            "|  high_to_low|       false|\n",
            "|  high_to_low|       false|\n",
            "+-------------+------------+\n",
            "\n"
          ]
        }
      ]
    },
    {
      "cell_type": "code",
      "source": [
        "df.createOrReplaceTempView(\"click_stream\")\n",
        "spark.sql(\"select htl_city_code, country_code from click_stream where country_code is not NULL\").show()"
      ],
      "metadata": {
        "colab": {
          "base_uri": "https://localhost:8080/"
        },
        "id": "5kn3Kk41KD6L",
        "outputId": "45227710-3dfe-4642-dd3d-54bee83427bb"
      },
      "execution_count": null,
      "outputs": [
        {
          "output_type": "stream",
          "name": "stdout",
          "text": [
            "+-------------+------------+\n",
            "|htl_city_code|country_code|\n",
            "+-------------+------------+\n",
            "|  high_to_low|       false|\n",
            "|  high_to_low|       false|\n",
            "|  high_to_low|       false|\n",
            "+-------------+------------+\n",
            "\n"
          ]
        }
      ]
    },
    {
      "cell_type": "markdown",
      "source": [
        "# Missing Values"
      ],
      "metadata": {
        "id": "c2kPW4fDD_Xc"
      }
    },
    {
      "cell_type": "code",
      "source": [
        "# df = df.dropna()"
      ],
      "metadata": {
        "id": "VsJA59ztyhm3"
      },
      "execution_count": null,
      "outputs": []
    },
    {
      "cell_type": "code",
      "source": [
        "null_counts = df.select([sf.count(sf.when(sf.col(c).isNull(), c)).alias(c) for c in df.columns])\n",
        "\n",
        "total_rows = df.count()\n",
        "# Calculating percentage of nulls for each column\n",
        "null_percentage = null_counts.select([(sf.col(c) / total_rows * 100).alias(c) for c in null_counts.columns])\n",
        "null_percentage.show()"
      ],
      "metadata": {
        "colab": {
          "base_uri": "https://localhost:8080/"
        },
        "id": "lR2-X5w3E3Ni",
        "outputId": "434c7e6a-bee3-43d2-beb7-0f3457cfe031"
      },
      "execution_count": null,
      "outputs": [
        {
          "output_type": "stream",
          "name": "stdout",
          "text": [
            "+--------+------------------+------------+------------------+-----------------+-----------------+---------+------------------+-----------------+-------------------+-----------------+--------+-----------------+-----------+------------------+---+------------------+-----------+----------+-------------+-------------------------+------------------+------------------+-----------------+------------+-------------+------------+-----------------+------------+------------------+-----------+---+-----------------+------------------+-------------+-----------------+-----------------+------------------+------+------------------+------------------+------------------+-----------------+---------+---------+-----------------+-------------------+--------------+-------------+--------------+-----------------------+------------------------+-----------+----------------+----------------------+----------------+--------------+-----------+----------+------------------+-------------------+--------------------+---------------+-----------+-----------+------------------+-----------------+-------+-----------+---------------+------+-------------+-----------+----------------+-----------------+------------+------------+-------------+----------+---------------+---------------------+-------------------+------------------+---------------------+------------------+-----------------------+-------------------------+----------+-----------+------------------+--------------------+------------------+-----------------+--------------------+------------------+-----------------+---------------------+--------------+----------------+-----------------+------------------+-------------+--------------------+-----------------+-------------------+---------------------+------------------+---------------------+---------------------+-----------------+--------------+-----------------+------------------------+----------------------+------------------+-----------------+------------------+----------+---+------------------+-----------------+-----------------+-------------+----------------+-------------+-------------------+-----------------+----------+-------------------+-----------+----------------+-----------------+----------+-------------+--------------+\n",
            "|hotel_id|              uuid|profile_type|         device_id|       visitor_id|        user_mcid|page_name|meta_activity_name|   meta_act_cntnt|      meta_timezone|  meta_user_agent|lob_name|   pg_nm_omniture|device_type|        dvc_g_city| os|        os_version|app_version|query_city|query_country|query_travel_purpose_optd|    travel_purpose|        query_type|      query_value|checkin_date|checkout_date|total_adults|   total_children|total_guests| total_room_nights|total_rooms| ap|    is_multi_room|    length_of_stay|disp_sell_amt|disp_sell_amt_dis|     is_free_cncl|htl_meal_plan_code|is_pah| usr_wal_bonus_bal|  usr_wal_plus_bal|  usr_wal_real_bal|        room_code|room_name|room_type|roomstayqualifier|prc_aaj_ka_bhao_flg|prc_absrpn_amt|prc_amt_chrgd|prc_commission|prc_disp_amt_w_dis_srvr|prc_disp_amt_wo_dis_srvr|prc_div_fac|prc_extrapax_amt|prc_hotelier_promotion|prc_htl_base_prc|prc_mkpsrv_fee|prc_pay_mod|prc_profit|prc_sell_amt_w_tax|prc_sell_amt_wo_tax|prc_surge_applcbl_on|prc_surge_prcnt|prc_tax_htl|prc_wal_amt|prc_wallet_balance|   prc_mmt_markup|cpn_amt|cpn_blckd_m|cpn_cashbck_amt|cpn_cd|cpn_code_main|cpn_dbl_dis|cpn_dd_surge_amt|cpn_dis_types_arr|cpn_mode_typ|cpn_orig_amt|cpn_spl_promo|cpn_status|cpn_wal_ded_amt|cpn_wal_intnsty_prcnt|cpn_wal_pls_amt_ded|            exp_id|exp_city_tax_included|      exp_disp_prc|exp_disp_prc_multiplier|exp_disp_prc_tax_included|exp_pol_id|exp_pol_ver|  exp_rnk_algo_ver|filter_amenities_arr|filter_applied_arr|   filter_loc_arr|filter_prop_type_arr|filter_removed_arr|  filter_star_arr|filter_usr_rating_arr|filter_clr_all|    filter_price|     applied_sort|applied_sort_order|htl_city_code|is_htl_city_sold_out|  is_htl_sold_out| htl_rnk_disp_order|htl_rating_disp_lstng|htl_rate_plan_code|is_htl_shrtlstd_lstng|is_htl_sold_out_lstng|        policy_id|policy_version|  is_htl_fc_lstng|htl_loc_mtch_prcnt_lstng|is_htl_mmt_assrd_lstng|  is_htl_pah_lstng|     country_code|         client_ip|company_id|env|   session_vst_num|       session_id|       time_spent|meta_row_type|record_client_ts|record_pdt_ts|record_processed_ts|  bkg_chld_id_arr|bkg_txn_id|    correlation_key|meta_row_id|meta_row_id_clnt| meta_row_id_srvr|event_date|browsing_date|meta_fnnl_step|\n",
            "+--------+------------------+------------+------------------+-----------------+-----------------+---------+------------------+-----------------+-------------------+-----------------+--------+-----------------+-----------+------------------+---+------------------+-----------+----------+-------------+-------------------------+------------------+------------------+-----------------+------------+-------------+------------+-----------------+------------+------------------+-----------+---+-----------------+------------------+-------------+-----------------+-----------------+------------------+------+------------------+------------------+------------------+-----------------+---------+---------+-----------------+-------------------+--------------+-------------+--------------+-----------------------+------------------------+-----------+----------------+----------------------+----------------+--------------+-----------+----------+------------------+-------------------+--------------------+---------------+-----------+-----------+------------------+-----------------+-------+-----------+---------------+------+-------------+-----------+----------------+-----------------+------------+------------+-------------+----------+---------------+---------------------+-------------------+------------------+---------------------+------------------+-----------------------+-------------------------+----------+-----------+------------------+--------------------+------------------+-----------------+--------------------+------------------+-----------------+---------------------+--------------+----------------+-----------------+------------------+-------------+--------------------+-----------------+-------------------+---------------------+------------------+---------------------+---------------------+-----------------+--------------+-----------------+------------------------+----------------------+------------------+-----------------+------------------+----------+---+------------------+-----------------+-----------------+-------------+----------------+-------------+-------------------+-----------------+----------+-------------------+-----------+----------------+-----------------+----------+-------------+--------------+\n",
            "|     0.0|17.533077251387112|         0.0|1.5962441314553992|8.681177976952625|2.031583440034144|      0.0|               0.0|65.46308151941955|0.02560819462227913|20.05121638924456|     0.0|79.93171148100726|        0.0|26.572769953051644|0.0|1.5962441314553992|        0.0|       0.0|          0.0|       1.5962441314553992|1.1609048228766539|0.4950917626973965|6.794707639778062|         0.0|          0.0|         0.0|0.990183525394793|         0.0|1.6645326504481435|        0.0|0.0|99.97439180537772|1.6901408450704223|          0.0|              0.0|99.97439180537772|             100.0| 100.0|19.248826291079812|19.223218096457533|19.223218096457533|99.97439180537772|    100.0|    100.0|1.621852326077678|  99.97439180537772|         100.0|        100.0|         100.0|                  100.0|                   100.0|      100.0|           100.0|                 100.0|           100.0|         100.0|      100.0|     100.0|             100.0|              100.0|               100.0|          100.0|      100.0|      100.0| 17.81476739223218|99.97439180537772|  100.0|      100.0|          100.0| 100.0|        100.0|      100.0|           100.0|            100.0|       100.0|       100.0|        100.0|     100.0|          100.0|                100.0|              100.0|2.8510456679470764|    99.97439180537772|3.6448997012377298|      99.97439180537772|                    100.0|     100.0|      100.0|2.9193341869398206|   98.34400341442596| 73.35894152795561|53.90524967989757|   98.57447716602647| 97.69526248399488|95.79172001707214|                100.0|         100.0|99.3768672641912|56.36363636363636|56.346564233888174|          0.0|   1.195049082373026|99.97439180537772|0.02560819462227913|   2.5096030729833547| 99.97439180537772|    2.535211267605634|   2.5096030729833547|99.97439180537772|         100.0|2.535211267605634|       7.366623986342296|    2.5096030729833547|2.5096030729833547|99.97439180537772|12.044387537345285|       0.0|0.0|1.5962441314553992|2.791293213828425|44.69483568075117|          0.0|             0.0|          0.0|                0.0|99.97439180537772|     100.0|0.02560819462227913|        0.0|             0.0|2.791293213828425|       0.0|          0.0|           0.0|\n",
            "+--------+------------------+------------+------------------+-----------------+-----------------+---------+------------------+-----------------+-------------------+-----------------+--------+-----------------+-----------+------------------+---+------------------+-----------+----------+-------------+-------------------------+------------------+------------------+-----------------+------------+-------------+------------+-----------------+------------+------------------+-----------+---+-----------------+------------------+-------------+-----------------+-----------------+------------------+------+------------------+------------------+------------------+-----------------+---------+---------+-----------------+-------------------+--------------+-------------+--------------+-----------------------+------------------------+-----------+----------------+----------------------+----------------+--------------+-----------+----------+------------------+-------------------+--------------------+---------------+-----------+-----------+------------------+-----------------+-------+-----------+---------------+------+-------------+-----------+----------------+-----------------+------------+------------+-------------+----------+---------------+---------------------+-------------------+------------------+---------------------+------------------+-----------------------+-------------------------+----------+-----------+------------------+--------------------+------------------+-----------------+--------------------+------------------+-----------------+---------------------+--------------+----------------+-----------------+------------------+-------------+--------------------+-----------------+-------------------+---------------------+------------------+---------------------+---------------------+-----------------+--------------+-----------------+------------------------+----------------------+------------------+-----------------+------------------+----------+---+------------------+-----------------+-----------------+-------------+----------------+-------------+-------------------+-----------------+----------+-------------------+-----------+----------------+-----------------+----------+-------------+--------------+\n",
            "\n"
          ]
        }
      ]
    },
    {
      "cell_type": "code",
      "source": [
        "mean_value = df.select(sf.mean(df['total_children'])).collect()[0][0]\n",
        "\n",
        "df = df.na.fill({'total_children': mean_value})\n"
      ],
      "metadata": {
        "id": "HEgOQ8KYIsQB"
      },
      "execution_count": null,
      "outputs": []
    },
    {
      "cell_type": "markdown",
      "source": [
        "## Why we can't call directly on columns"
      ],
      "metadata": {
        "id": "Od-lMv2vJdcZ"
      }
    },
    {
      "cell_type": "code",
      "source": [
        "sf.mean(df['total_children']).collect()\n",
        "\n",
        "# This error arises because sf.mean(df['total_children']) returns a Column object,\n",
        "# \\which represents a column expression in a DataFrame. You're trying to call collect() directly on this Column object,\n",
        "# but collect() is a method that can be called only on a DataFrame, not on a Column object."
      ],
      "metadata": {
        "colab": {
          "base_uri": "https://localhost:8080/",
          "height": 245
        },
        "id": "sW_EBs8aIt8Q",
        "outputId": "05e8e8c4-345b-4011-8aa0-210af41067f9"
      },
      "execution_count": null,
      "outputs": [
        {
          "output_type": "error",
          "ename": "TypeError",
          "evalue": "'Column' object is not callable",
          "traceback": [
            "\u001b[0;31m---------------------------------------------------------------------------\u001b[0m",
            "\u001b[0;31mTypeError\u001b[0m                                 Traceback (most recent call last)",
            "\u001b[0;32m<ipython-input-17-68b5af45d0f7>\u001b[0m in \u001b[0;36m<cell line: 1>\u001b[0;34m()\u001b[0m\n\u001b[0;32m----> 1\u001b[0;31m \u001b[0msf\u001b[0m\u001b[0;34m.\u001b[0m\u001b[0mmean\u001b[0m\u001b[0;34m(\u001b[0m\u001b[0mdf\u001b[0m\u001b[0;34m[\u001b[0m\u001b[0;34m'total_children'\u001b[0m\u001b[0;34m]\u001b[0m\u001b[0;34m)\u001b[0m\u001b[0;34m.\u001b[0m\u001b[0mcollect\u001b[0m\u001b[0;34m(\u001b[0m\u001b[0;34m)\u001b[0m\u001b[0;34m\u001b[0m\u001b[0;34m\u001b[0m\u001b[0m\n\u001b[0m\u001b[1;32m      2\u001b[0m \u001b[0;34m\u001b[0m\u001b[0m\n\u001b[1;32m      3\u001b[0m \u001b[0;31m# This error arises because sf.mean(df['total_children']) returns a Column object,\u001b[0m\u001b[0;34m\u001b[0m\u001b[0;34m\u001b[0m\u001b[0m\n\u001b[1;32m      4\u001b[0m \u001b[0;31m# \\which represents a column expression in a DataFrame. You're trying to call collect() directly on this Column object,\u001b[0m\u001b[0;34m\u001b[0m\u001b[0;34m\u001b[0m\u001b[0m\n\u001b[1;32m      5\u001b[0m \u001b[0;31m# but collect() is a method that can be called only on a DataFrame, not on a Column object.\u001b[0m\u001b[0;34m\u001b[0m\u001b[0;34m\u001b[0m\u001b[0m\n",
            "\u001b[0;31mTypeError\u001b[0m: 'Column' object is not callable"
          ]
        }
      ]
    },
    {
      "cell_type": "code",
      "source": [
        "type(df.select(sf.mean(df['total_children'])))"
      ],
      "metadata": {
        "colab": {
          "base_uri": "https://localhost:8080/"
        },
        "id": "FEcTsi8HJOsB",
        "outputId": "e8bb501b-ca2f-4f54-97b3-8f5d059b6e78"
      },
      "execution_count": null,
      "outputs": [
        {
          "output_type": "execute_result",
          "data": {
            "text/plain": [
              "pyspark.sql.dataframe.DataFrame"
            ]
          },
          "metadata": {},
          "execution_count": 18
        }
      ]
    },
    {
      "cell_type": "code",
      "source": [
        "type(sf.mean(df['total_children']))"
      ],
      "metadata": {
        "colab": {
          "base_uri": "https://localhost:8080/"
        },
        "id": "WRLk4xoEJUk-",
        "outputId": "27e82aa6-7299-4476-bad7-f63634b9a37f"
      },
      "execution_count": null,
      "outputs": [
        {
          "output_type": "execute_result",
          "data": {
            "text/plain": [
              "pyspark.sql.column.Column"
            ]
          },
          "metadata": {},
          "execution_count": 19
        }
      ]
    },
    {
      "cell_type": "markdown",
      "source": [
        "# Let's try to find out mode"
      ],
      "metadata": {
        "id": "KmidmMeNJgKM"
      }
    },
    {
      "cell_type": "code",
      "source": [
        "df.select('htl_city_code').groupBy('htl_city_code').count().orderBy('count', ascending=False).show()"
      ],
      "metadata": {
        "colab": {
          "base_uri": "https://localhost:8080/"
        },
        "id": "ZXduSrCDGrwN",
        "outputId": "0752ed6b-5320-407d-c12a-cffc4af6d87d"
      },
      "execution_count": null,
      "outputs": [
        {
          "output_type": "stream",
          "name": "stdout",
          "text": [
            "+-------------+-----+\n",
            "|htl_city_code|count|\n",
            "+-------------+-----+\n",
            "|          DEL| 5857|\n",
            "|          DED| 4615|\n",
            "|          DBG|  452|\n",
            "|          DBI|  377|\n",
            "|          DBV|  236|\n",
            "|          DDM|  117|\n",
            "|         DEAS|   28|\n",
            "|         DBV1|   18|\n",
            "|         DAVO|   11|\n",
            "|  high_to_low|    3|\n",
            "|         DCAR|    1|\n",
            "+-------------+-----+\n",
            "\n"
          ]
        }
      ]
    },
    {
      "cell_type": "code",
      "source": [
        "df.select(sf.mode(df['htl_city_code'])).show()"
      ],
      "metadata": {
        "colab": {
          "base_uri": "https://localhost:8080/"
        },
        "id": "dSwY6EuXJnoM",
        "outputId": "5b323f1b-8302-4f05-8103-1efae2920c37"
      },
      "execution_count": null,
      "outputs": [
        {
          "output_type": "stream",
          "name": "stdout",
          "text": [
            "+-------------------+\n",
            "|mode(htl_city_code)|\n",
            "+-------------------+\n",
            "|                DEL|\n",
            "+-------------------+\n",
            "\n"
          ]
        }
      ]
    },
    {
      "cell_type": "markdown",
      "source": [
        "## How to do groupby??"
      ],
      "metadata": {
        "id": "KzCgttkLJ5cz"
      }
    },
    {
      "cell_type": "code",
      "source": [
        "df.groupby(\"htl_city_code\").agg(sf.mean(\"total_adults\").alias('avg_adults_in_city')).show()"
      ],
      "metadata": {
        "colab": {
          "base_uri": "https://localhost:8080/"
        },
        "id": "75-JAKy2HJPO",
        "outputId": "b6b3f2d7-a795-4333-ae22-d662d11b0a0e"
      },
      "execution_count": null,
      "outputs": [
        {
          "output_type": "stream",
          "name": "stdout",
          "text": [
            "+-------------+------------------+\n",
            "|htl_city_code|avg_adults_in_city|\n",
            "+-------------+------------------+\n",
            "|          DDM| 4.119658119658119|\n",
            "|          DBG|1.8141592920353982|\n",
            "|         DEAS|               2.0|\n",
            "|          DBV|1.3008474576271187|\n",
            "|         DBV1|               1.0|\n",
            "|          DED| 2.235969664138678|\n",
            "|  high_to_low|              NULL|\n",
            "|         DAVO| 4.636363636363637|\n",
            "|          DEL| 2.097660918558989|\n",
            "|         DCAR|               2.0|\n",
            "|          DBI|2.1989389920424403|\n",
            "+-------------+------------------+\n",
            "\n"
          ]
        }
      ]
    },
    {
      "cell_type": "code",
      "source": [
        "df.select('htl_city_code', 'country_code').show()\n",
        "\n",
        "# select using sql\n",
        "\n",
        "# df.createOrReplaceTempView(\"click_stream\")\n",
        "# spark.sql(\"select cpn_status, cpn_id from click_stream\").show()"
      ],
      "metadata": {
        "colab": {
          "base_uri": "https://localhost:8080/"
        },
        "id": "OEDkQF6exZUU",
        "outputId": "67162cb0-f97b-4ca7-dcf8-687c41200230"
      },
      "execution_count": null,
      "outputs": [
        {
          "output_type": "stream",
          "name": "stdout",
          "text": [
            "+-------------+------------+\n",
            "|htl_city_code|country_code|\n",
            "+-------------+------------+\n",
            "|         DAVO|        NULL|\n",
            "|          DEL|        NULL|\n",
            "|         DAVO|        NULL|\n",
            "|          DEL|        NULL|\n",
            "|         DAVO|        NULL|\n",
            "|          DEL|        NULL|\n",
            "|         DAVO|        NULL|\n",
            "|          DEL|        NULL|\n",
            "|         DAVO|        NULL|\n",
            "|          DEL|        NULL|\n",
            "|         DAVO|        NULL|\n",
            "|          DEL|        NULL|\n",
            "|         DAVO|        NULL|\n",
            "|          DEL|        NULL|\n",
            "|         DAVO|        NULL|\n",
            "|          DEL|        NULL|\n",
            "|         DAVO|        NULL|\n",
            "|          DEL|        NULL|\n",
            "|         DAVO|        NULL|\n",
            "|          DEL|        NULL|\n",
            "+-------------+------------+\n",
            "only showing top 20 rows\n",
            "\n"
          ]
        }
      ]
    },
    {
      "cell_type": "markdown",
      "source": [
        "## How to Filter?"
      ],
      "metadata": {
        "id": "2b8ngRxnKlP7"
      }
    },
    {
      "cell_type": "code",
      "source": [
        "df.filter(df.total_adults.isin([2, 5, 8, 10])).show()"
      ],
      "metadata": {
        "colab": {
          "base_uri": "https://localhost:8080/"
        },
        "id": "cIXBNoRtxZMq",
        "outputId": "1f4ab4c6-506d-4b04-c1d4-834ae82fac83"
      },
      "execution_count": null,
      "outputs": [
        {
          "output_type": "stream",
          "name": "stdout",
          "text": [
            "+------------------+-----------+------------+--------------------+--------------------+--------------------+---------+------------------+------------------+-------------------+---------------+--------+--------------------+-----------+----------+-------+----------+-----------+----------+-------------+-------------------------+--------------+----------+--------------------+------------+-------------+------------+--------------+------------+-----------------+-----------+-----+-------------+--------------+-------------+-----------------+------------+------------------+------+-----------------+----------------+----------------+---------+---------+---------+-----------------+-------------------+--------------+-------------+--------------+-----------------------+------------------------+-----------+----------------+----------------------+----------------+--------------+-----------+----------+------------------+-------------------+--------------------+---------------+-----------+-----------+------------------+--------------+-------+-----------+---------------+------+-------------+-----------+----------------+-----------------+------------+------------+-------------+----------+---------------+---------------------+-------------------+------+---------------------+------------+-----------------------+-------------------------+----------+-----------+----------------+--------------------+--------------------+--------------------+--------------------+--------------------+---------------+---------------------+--------------+------------+------------+------------------+-------------+--------------------+---------------+------------------+---------------------+------------------+---------------------+---------------------+---------+--------------+---------------+------------------------+----------------------+----------------+------------+---------------+----------+----+---------------+--------------------+----------+-------------+-------------------+-------------------+-------------------+---------------+----------+--------------------+--------------------+--------------------+--------------------+----------+-------------+--------------+\n",
            "|          hotel_id|       uuid|profile_type|           device_id|          visitor_id|           user_mcid|page_name|meta_activity_name|    meta_act_cntnt|      meta_timezone|meta_user_agent|lob_name|      pg_nm_omniture|device_type|dvc_g_city|     os|os_version|app_version|query_city|query_country|query_travel_purpose_optd|travel_purpose|query_type|         query_value|checkin_date|checkout_date|total_adults|total_children|total_guests|total_room_nights|total_rooms|   ap|is_multi_room|length_of_stay|disp_sell_amt|disp_sell_amt_dis|is_free_cncl|htl_meal_plan_code|is_pah|usr_wal_bonus_bal|usr_wal_plus_bal|usr_wal_real_bal|room_code|room_name|room_type|roomstayqualifier|prc_aaj_ka_bhao_flg|prc_absrpn_amt|prc_amt_chrgd|prc_commission|prc_disp_amt_w_dis_srvr|prc_disp_amt_wo_dis_srvr|prc_div_fac|prc_extrapax_amt|prc_hotelier_promotion|prc_htl_base_prc|prc_mkpsrv_fee|prc_pay_mod|prc_profit|prc_sell_amt_w_tax|prc_sell_amt_wo_tax|prc_surge_applcbl_on|prc_surge_prcnt|prc_tax_htl|prc_wal_amt|prc_wallet_balance|prc_mmt_markup|cpn_amt|cpn_blckd_m|cpn_cashbck_amt|cpn_cd|cpn_code_main|cpn_dbl_dis|cpn_dd_surge_amt|cpn_dis_types_arr|cpn_mode_typ|cpn_orig_amt|cpn_spl_promo|cpn_status|cpn_wal_ded_amt|cpn_wal_intnsty_prcnt|cpn_wal_pls_amt_ded|exp_id|exp_city_tax_included|exp_disp_prc|exp_disp_prc_multiplier|exp_disp_prc_tax_included|exp_pol_id|exp_pol_ver|exp_rnk_algo_ver|filter_amenities_arr|  filter_applied_arr|      filter_loc_arr|filter_prop_type_arr|  filter_removed_arr|filter_star_arr|filter_usr_rating_arr|filter_clr_all|filter_price|applied_sort|applied_sort_order|htl_city_code|is_htl_city_sold_out|is_htl_sold_out|htl_rnk_disp_order|htl_rating_disp_lstng|htl_rate_plan_code|is_htl_shrtlstd_lstng|is_htl_sold_out_lstng|policy_id|policy_version|is_htl_fc_lstng|htl_loc_mtch_prcnt_lstng|is_htl_mmt_assrd_lstng|is_htl_pah_lstng|country_code|      client_ip|company_id| env|session_vst_num|          session_id|time_spent|meta_row_type|   record_client_ts|      record_pdt_ts|record_processed_ts|bkg_chld_id_arr|bkg_txn_id|     correlation_key|         meta_row_id|    meta_row_id_clnt|    meta_row_id_srvr|event_date|browsing_date|meta_fnnl_step|\n",
            "+------------------+-----------+------------+--------------------+--------------------+--------------------+---------+------------------+------------------+-------------------+---------------+--------+--------------------+-----------+----------+-------+----------+-----------+----------+-------------+-------------------------+--------------+----------+--------------------+------------+-------------+------------+--------------+------------+-----------------+-----------+-----+-------------+--------------+-------------+-----------------+------------+------------------+------+-----------------+----------------+----------------+---------+---------+---------+-----------------+-------------------+--------------+-------------+--------------+-----------------------+------------------------+-----------+----------------+----------------------+----------------+--------------+-----------+----------+------------------+-------------------+--------------------+---------------+-----------+-----------+------------------+--------------+-------+-----------+---------------+------+-------------+-----------+----------------+-----------------+------------+------------+-------------+----------+---------------+---------------------+-------------------+------+---------------------+------------+-----------------------+-------------------------+----------+-----------+----------------+--------------------+--------------------+--------------------+--------------------+--------------------+---------------+---------------------+--------------+------------+------------+------------------+-------------+--------------------+---------------+------------------+---------------------+------------------+---------------------+---------------------+---------+--------------+---------------+------------------------+----------------------+----------------+------------+---------------+----------+----+---------------+--------------------+----------+-------------+-------------------+-------------------+-------------------+---------------+----------+--------------------+--------------------+--------------------+--------------------+----------+-------------+--------------+\n",
            "|   674463971971841|UF6M5VOS4SM|    PERSONAL|62F01728-685B-443...|2DE040A9052A52B2-...|00234541700726785...|  listing| listing to detail|              NULL|                IST|           NULL|intl htl|mob:funnel:intl h...|     mobile| New Delhi|    IOS|iOS_12.1.4|      6.2.8|      davo|           ch|                    False|       Leisure|    google|InterContinental ...|  2019-07-14|   2019-07-15|           2|           0.0|         2.0|              1.0|        1.0|104.0|         NULL|           1.0|      10596.0|          10596.0|        NULL|              NULL|  NULL|           1351.0|             0.0|             0.0|     NULL|     NULL|     NULL|             2e0e|               NULL|          NULL|         NULL|          NULL|                   NULL|                    NULL|       NULL|            NULL|                  NULL|            NULL|          NULL|       NULL|      NULL|              NULL|               NULL|                NULL|           NULL|       NULL|       NULL|            1351.0|          NULL|   NULL|       NULL|           NULL|  NULL|         NULL|       NULL|            NULL|             NULL|        NULL|        NULL|         NULL|      NULL|           NULL|                 NULL|               NULL|    31|                 NULL|          PN|                   NULL|                     NULL|      NULL|       NULL|       S_hsq61_B|                NULL|Loc_InterContinen...|InterContinental ...|                NULL|                NULL|           NULL|                 NULL|          NULL|        NULL|        NULL|              NULL|         DAVO|               False|           NULL|                 0|                  4.5|              NULL|                false|                false|     NULL|          NULL|           true|                    NULL|                 False|           false|        NULL|    192.168.1.9|       mmt|prod|            168|62F01728-685B-443...|   21441.0|      request|2019-04-01 06:49:49|2019-04-01 06:49:49|2019-04-01 19:05:45|           NULL|      NULL|947b9bf3-d55e-45e...|4976dc36-43fa-42b...|d60011b1ffe8a507c...|ad3e6fef-8ccf-44b...|2019-04-01|   2019-04-01|       listing|\n",
            "|201803161648093814|       NULL|    PERSONAL|    909b264761be9d02|2DAED8CE852A1C3A-...|19089274888689427...|  listing|          pageexit|              NULL|India Standard Time|  Android_7.4.8| dom htl|                NULL|     mobile|    Meerut|ANDROID|     7.1.2|      7.4.8|       bul|           in|                    False|       Leisure|       cty|         Bulandshahr|  2019-04-13|   2019-04-14|           2|           0.0|         2.0|              1.0|        1.0| 12.0|         NULL|           1.0|       3420.0|           2446.0|        NULL|              NULL|  NULL|             NULL|            NULL|            NULL|     NULL|     NULL|     NULL|             2e0e|               NULL|          NULL|         NULL|          NULL|                   NULL|                    NULL|       NULL|            NULL|                  NULL|            NULL|          NULL|       NULL|      NULL|              NULL|               NULL|                NULL|           NULL|       NULL|       NULL|              NULL|          NULL|   NULL|       NULL|           NULL|  NULL|         NULL|       NULL|            NULL|             NULL|        NULL|        NULL|         NULL|      NULL|           NULL|                 NULL|               NULL|    31|                 NULL|          PN|                   NULL|                     NULL|      NULL|       NULL|      S_hsq641_B|                NULL|                NULL|                NULL|                NULL|                NULL|           NULL|                 NULL|          NULL|        NULL|  popularity|       high_to_low|          DEL|               False|           NULL|                14|                  0.0|              NULL|                false|                false|     NULL|          NULL|          false|                     0.0|                 False|            true|        NULL|100.103.113.172|       mmt|prod|             57| 909b264761be9d02~57|   23003.0|      request|2019-04-01 15:07:27|2019-04-01 15:07:34|2019-04-01 19:05:59|           NULL|      NULL|92f3bcbc-799b-46b...|1479df0e-bdaf-407...|8189bbb9-4ad4-46e...|729c19af-394b-437...|2019-04-01|   2019-04-01|       listing|\n",
            "|201611011603268150|UQXL382F0YM|    PERSONAL|    d6c5e12278e23b09|2CEE21DC8530C5C0-...|50786034465471215...|  listing|          pageexit|              NULL|India Standard Time|  Android_7.5.8| dom htl|                NULL|     mobile| Rishikesh|ANDROID|     8.1.0|      7.5.8|       del|           in|                    False|          Work|       cty|             Gurgaon|  2019-04-03|   2019-04-04|           2|           0.0|         2.0|              1.0|        1.0|  1.0|         NULL|           1.0|       8600.0|           6157.0|        NULL|              NULL|  NULL|            750.0|             0.0|             0.0|     NULL|     NULL|     NULL|             2e0e|               NULL|          NULL|         NULL|          NULL|                   NULL|                    NULL|       NULL|            NULL|                  NULL|            NULL|          NULL|       NULL|      NULL|              NULL|               NULL|                NULL|           NULL|       NULL|       NULL|             750.0|          NULL|   NULL|       NULL|           NULL|  NULL|         NULL|       NULL|            NULL|             NULL|        NULL|        NULL|         NULL|      NULL|           NULL|                 NULL|               NULL|    18|                 NULL|          PN|                   NULL|                     NULL|      NULL|       NULL|      S_MM_AND_B|                NULL|       4 Star,5 Star|             Gurgaon|                NULL|                NULL|            4,5|                 NULL|          NULL|        NULL|  popularity|       high_to_low|          DEL|               False|           NULL|                 9|                  4.1|              NULL|                false|                false|     NULL|          NULL|          false|       89.90750122070312|                 False|            true|        NULL|  192.168.1.174|       mmt|prod|            594|d6c5e12278e23b09~594| 2849616.0|      request|2019-04-02 15:04:49|2019-04-01 15:21:09|2019-04-01 19:05:25|           NULL|      NULL|4a4c6020-625b-4b8...|be4548ab-f6c4-441...|2c603e6f-0c79-469...|ccdc8763-eae1-4b3...|2019-04-01|   2019-04-01|       listing|\n",
            "|201803161648093814|UKIH2RRRJ0L|    PERSONAL|570C326B-2BF5-400...|                NULL|90574645387553704...|  listing| listing to detail|              NULL|                IST|           NULL| dom htl|mob:funnel:domest...|     mobile|    Jaipur|    IOS|iOS_12.1.4|      6.2.6|       del|           in|                    False|       Leisure|       htl|Crowne Plaza Grea...|  2019-10-15|   2019-10-20|           2|           0.0|         2.0|              5.0|        1.0|197.0|         NULL|           5.0|       2244.0|           2244.0|        NULL|              NULL|  NULL|              0.0|             0.0|             0.0|     NULL|     NULL|     NULL|             2e0e|               NULL|          NULL|         NULL|          NULL|                   NULL|                    NULL|       NULL|            NULL|                  NULL|            NULL|          NULL|       NULL|      NULL|              NULL|               NULL|                NULL|           NULL|       NULL|       NULL|               0.0|          NULL|   NULL|       NULL|           NULL|  NULL|         NULL|       NULL|            NULL|             NULL|        NULL|        NULL|         NULL|      NULL|           NULL|                 NULL|               NULL|    31|                 NULL|          PN|                   NULL|                     NULL|      NULL|       NULL|      S_MM_IOS_B|                NULL|                NULL|                NULL|                NULL|                NULL|           NULL|                 NULL|          NULL|        NULL|        NULL|              NULL|          DEL|               False|           NULL|                25|                  5.0|              NULL|                false|                false|     NULL|          NULL|          false|                   50.25|                 False|           false|        NULL|           NULL|       mmt|prod|            133|570C326B-2BF5-400...|  520228.0|      request|2019-04-01 02:53:08|2019-04-01 02:53:09|2019-04-01 19:06:10|           NULL|      NULL|fcdcc438-22a7-424...|c024b575-63de-4d3...|447edfb3b8233c32c...|48e0f53f-95c5-4bd...|2019-04-01|   2019-04-01|       listing|\n",
            "|201801081726455371|UF6M5VOS4SM|    PERSONAL|62F01728-685B-443...|2DE040A9052A52B2-...|00234541700726785...|  listing| listing to detail|              NULL|                IST|           NULL|intl htl|mob:funnel:intl h...|     mobile| New Delhi|    IOS|iOS_12.1.4|      6.2.8|      davo|           ch|                    False|       Leisure|    google|InterContinental ...|  2019-07-14|   2019-07-15|           2|           0.0|         2.0|              1.0|        1.0|104.0|         NULL|           1.0|       6520.0|           6520.0|        NULL|              NULL|  NULL|           1351.0|             0.0|             0.0|     NULL|     NULL|     NULL|             2e0e|               NULL|          NULL|         NULL|          NULL|                   NULL|                    NULL|       NULL|            NULL|                  NULL|            NULL|          NULL|       NULL|      NULL|              NULL|               NULL|                NULL|           NULL|       NULL|       NULL|            1351.0|          NULL|   NULL|       NULL|           NULL|  NULL|         NULL|       NULL|            NULL|             NULL|        NULL|        NULL|         NULL|      NULL|           NULL|                 NULL|               NULL|    31|                 NULL|          PN|                   NULL|                     NULL|      NULL|       NULL|       S_hsq61_B|                NULL|Loc_InterContinen...|InterContinental ...|                NULL|                NULL|           NULL|                 NULL|          NULL|        NULL|        NULL|              NULL|         DAVO|               False|           NULL|                 1|                  4.0|              NULL|                false|                false|     NULL|          NULL|           true|                    NULL|                 False|           false|        NULL|    192.168.1.9|       mmt|prod|            168|62F01728-685B-443...|   21441.0|      request|2019-04-01 06:49:49|2019-04-01 06:49:49|2019-04-01 19:05:45|           NULL|      NULL|947b9bf3-d55e-45e...|4976dc36-43fa-42b...|d60011b1ffe8a507c...|ad3e6fef-8ccf-44b...|2019-04-01|   2019-04-01|       listing|\n",
            "|201503191002004585|U2DMBNC7J7M|    PERSONAL|    96ad89fdaca28f59|2C5A0AEA052A05AD-...|71627838630676424...|  listing|     hotel_clicked|  2017033111362710|India Standard Time|  Android_7.5.1| dom htl|                NULL|     mobile|  Kashipur|ANDROID|       5.1|      7.5.1|       del|           in|                    False|       Leisure|       cty|   New Delhi And NCR|  2019-04-02|   2019-04-03|           2|           0.0|         2.0|              1.0|        1.0|  1.0|         NULL|           1.0|       3900.0|           2586.0|        NULL|              NULL|  NULL|              0.0|             0.0|             0.0|     NULL|     NULL|     NULL|             2e0e|               NULL|          NULL|         NULL|          NULL|                   NULL|                    NULL|       NULL|            NULL|                  NULL|            NULL|          NULL|       NULL|      NULL|              NULL|               NULL|                NULL|           NULL|       NULL|       NULL|               0.0|          NULL|   NULL|       NULL|           NULL|  NULL|         NULL|       NULL|            NULL|             NULL|        NULL|        NULL|         NULL|      NULL|           NULL|                 NULL|               NULL|    18|                 NULL|          PN|                   NULL|                     NULL|      NULL|       NULL|      S_hsq134_P|                NULL|                NULL|                NULL|                NULL|                NULL|           NULL|                 NULL|          NULL|        NULL|        NULL|              NULL|          DEL|               False|           NULL|                 7|                  4.0|              NULL|                false|                false|     NULL|          NULL|          false|                   100.0|                 False|           false|        NULL|  56.76.241.116|       mmt|prod|            165|96ad89fdaca28f59~165|      NULL|      request|2019-04-01 03:31:14|2019-04-01 03:31:35|2019-04-01 19:05:38|           NULL|      NULL|8d3030df-9626-4b7...|5f89f816-618e-45c...|b160ceb9-4039-4a6...|35503417-3faa-414...|2019-04-01|   2019-04-01|       listing|\n",
            "|   674463971974746|UF6M5VOS4SM|    PERSONAL|62F01728-685B-443...|2DE040A9052A52B2-...|00234541700726785...|  listing| listing to detail|              NULL|                IST|           NULL|intl htl|mob:funnel:intl h...|     mobile| New Delhi|    IOS|iOS_12.1.4|      6.2.8|      davo|           ch|                    False|       Leisure|    google|InterContinental ...|  2019-07-14|   2019-07-15|           2|           0.0|         2.0|              1.0|        1.0|104.0|         NULL|           1.0|      11042.0|          11042.0|        NULL|              NULL|  NULL|           1351.0|             0.0|             0.0|     NULL|     NULL|     NULL|             2e0e|               NULL|          NULL|         NULL|          NULL|                   NULL|                    NULL|       NULL|            NULL|                  NULL|            NULL|          NULL|       NULL|      NULL|              NULL|               NULL|                NULL|           NULL|       NULL|       NULL|            1351.0|          NULL|   NULL|       NULL|           NULL|  NULL|         NULL|       NULL|            NULL|             NULL|        NULL|        NULL|         NULL|      NULL|           NULL|                 NULL|               NULL|    31|                 NULL|          PN|                   NULL|                     NULL|      NULL|       NULL|       S_hsq61_B|                NULL|Loc_InterContinen...|InterContinental ...|                NULL|                NULL|           NULL|                 NULL|          NULL|        NULL|        NULL|              NULL|         DAVO|               False|           NULL|                 2|                  4.0|              NULL|                false|                false|     NULL|          NULL|           true|                    NULL|                 False|           false|        NULL|    192.168.1.9|       mmt|prod|            168|62F01728-685B-443...|   21441.0|      request|2019-04-01 06:49:49|2019-04-01 06:49:49|2019-04-01 19:05:45|           NULL|      NULL|947b9bf3-d55e-45e...|4976dc36-43fa-42b...|d60011b1ffe8a507c...|ad3e6fef-8ccf-44b...|2019-04-01|   2019-04-01|       listing|\n",
            "|201611011603268150|UXDMRTA2I2H|    PERSONAL|    ea567c89ffec6804|2D89326D852A39B9-...|15189898010196734...|  listing|           filters|              NULL|India Standard Time|  Android_7.5.8| dom htl|                NULL|     mobile| New Delhi|ANDROID|         9|      7.5.8|       del|           in|                    False|          Work|       cty|   New Delhi And NCR|  2019-04-01|   2019-04-02|           2|           0.0|         2.0|              1.0|        1.0|  0.0|         NULL|           1.0|       8600.0|           5933.0|        NULL|              NULL|  NULL|              0.0|             0.0|             0.0|     NULL|     NULL|     NULL|             2e0e|               NULL|          NULL|         NULL|          NULL|                   NULL|                    NULL|       NULL|            NULL|                  NULL|            NULL|          NULL|       NULL|      NULL|              NULL|               NULL|                NULL|           NULL|       NULL|       NULL|               0.0|          NULL|   NULL|       NULL|           NULL|  NULL|         NULL|       NULL|            NULL|             NULL|        NULL|        NULL|         NULL|      NULL|           NULL|                 NULL|               NULL|    17|                 NULL|          PN|                   NULL|                     NULL|      NULL|       NULL|      S_MM_AND_B|                NULL|                NULL|             Gurgaon|                NULL|                NULL|           NULL|                 NULL|          NULL|        NULL|  popularity|       high_to_low|          DEL|               False|           NULL|                 9|                  4.1|              NULL|                false|                false|     NULL|          NULL|          false|       89.90750122070312|                 False|            true|        NULL| 100.68.144.187|       mmt|prod|             91| ea567c89ffec6804~91|      NULL|      request|2019-04-01 07:13:40|2019-04-01 07:13:42|2019-04-01 19:05:35|           NULL|      NULL|90744e60-c51d-47b...|95d81443-9c81-4c3...|9a0149f4-437a-4f2...|71410b3a-5ef2-484...|2019-04-01|   2019-04-01|       listing|\n",
            "|201512171142252849|UDPM02P8GCH|    PERSONAL|    80b3600102291084|2D2053E505031685-...|83765032555181514...|  listing|          pageexit|              NULL|India Standard Time|  Android_7.4.2| dom htl|                NULL|     mobile|      NULL|ANDROID|         9|      7.4.2|       dbg|           in|                     True|          Work|       cty|           Darbhanga|  2019-04-04|   2019-04-06|           2|           0.0|         2.0|              2.0|        1.0|  3.0|         NULL|           2.0|       3000.0|           2073.0|        NULL|              NULL|  NULL|            750.0|             0.0|             0.0|     NULL|     NULL|     NULL|             2e0e|               NULL|          NULL|         NULL|          NULL|                   NULL|                    NULL|       NULL|            NULL|                  NULL|            NULL|          NULL|       NULL|      NULL|              NULL|               NULL|                NULL|           NULL|       NULL|       NULL|             750.0|          NULL|   NULL|       NULL|           NULL|  NULL|         NULL|       NULL|            NULL|             NULL|        NULL|        NULL|         NULL|      NULL|           NULL|                 NULL|               NULL|    17|                 NULL|          PN|                   NULL|                     NULL|      NULL|       NULL|      S_hsq641_P|                NULL|                NULL|                NULL|                NULL|                NULL|           NULL|                 NULL|          NULL|        NULL|  popularity|       high_to_low|          DBG|               False|           NULL|                 6|                  0.0|              NULL|                false|                false|     NULL|          NULL|          false|                   100.0|                 False|           false|        NULL| 100.65.219.168|       mmt|prod|            102|80b3600102291084~102|  215459.0|      request|2019-04-01 15:17:05|2019-04-01 15:17:13|2019-04-01 19:05:47|           NULL|      NULL|a5207ab2-5a1f-4b4...|38b88eea-46da-462...|d2ada74f-59dd-4c0...|613ebc3f-8b3c-4e5...|2019-04-01|   2019-04-01|       listing|\n",
            "|201803161648093814|UYHATCF12IM|    PERSONAL|    81a028ae596560a0|                 vid|06462680514407974...|  listing|     hotel_clicked|201808161650127422|India Standard Time|  Android_7.5.8| dom htl|                NULL|     mobile|   Kolkata|ANDROID|     8.0.0|      7.5.8|       del|           in|                    False|          Work|       cty|   New Delhi And NCR|  2019-09-27|   2019-09-28|           2|           0.0|         2.0|              1.0|        1.0|179.0|         NULL|           1.0|       3000.0|           2174.0|        NULL|              NULL|  NULL|           1199.0|             0.0|             0.0|     NULL|     NULL|     NULL|             2e0e|               NULL|          NULL|         NULL|          NULL|                   NULL|                    NULL|       NULL|            NULL|                  NULL|            NULL|          NULL|       NULL|      NULL|              NULL|               NULL|                NULL|           NULL|       NULL|       NULL|            1199.0|          NULL|   NULL|       NULL|           NULL|  NULL|         NULL|       NULL|            NULL|             NULL|        NULL|        NULL|         NULL|      NULL|           NULL|                 NULL|               NULL|    17|                 NULL|          PN|                   NULL|                     NULL|      NULL|       NULL|S_reviewRating_B|                NULL|                NULL|                NULL|                NULL|                NULL|           NULL|                 NULL|          NULL|        NULL|        NULL|              NULL|          DEL|               False|           NULL|                 2|                  5.0|              NULL|                false|                false|     NULL|          NULL|          false|                     0.0|                 False|            true|        NULL|  100.68.129.52|       mmt|prod|             26| 81a028ae596560a0~26|      NULL|      request|2019-04-01 08:33:50|2019-04-01 08:34:04|2019-04-01 19:05:13|           NULL|      NULL|8f3af402-dd8c-4fd...|87e8ac2d-5617-444...|01bb3194-741c-4d7...|512e58bb-8518-43e...|2019-04-01|   2019-04-01|       listing|\n",
            "|201512171142252849|UDPM02P8GCH|    PERSONAL|    80b3600102291084|2D2053E505031685-...|83765032555181514...|  listing|          pageexit|              NULL|India Standard Time|  Android_7.4.2| dom htl|                NULL|     mobile|      NULL|ANDROID|         9|      7.4.2|       dbg|           in|                     True|          Work|       cty|           Darbhanga|  2019-04-04|   2019-04-06|           2|           0.0|         2.0|              2.0|        1.0|  3.0|         NULL|           2.0|       3000.0|           2073.0|        NULL|              NULL|  NULL|            750.0|             0.0|             0.0|     NULL|     NULL|     NULL|             2e0e|               NULL|          NULL|         NULL|          NULL|                   NULL|                    NULL|       NULL|            NULL|                  NULL|            NULL|          NULL|       NULL|      NULL|              NULL|               NULL|                NULL|           NULL|       NULL|       NULL|             750.0|          NULL|   NULL|       NULL|           NULL|  NULL|         NULL|       NULL|            NULL|             NULL|        NULL|        NULL|         NULL|      NULL|           NULL|                 NULL|               NULL|    17|                 NULL|          PN|                   NULL|                     NULL|      NULL|       NULL|      S_hsq641_P|                NULL|                NULL|                NULL|                NULL|                NULL|           NULL|                 NULL|          NULL|        NULL|  popularity|       high_to_low|          DBG|               False|           NULL|                 6|                  0.0|              NULL|                false|                false|     NULL|          NULL|          false|                   100.0|                 False|           false|        NULL| 100.65.219.168|       mmt|prod|            102|80b3600102291084~102|   29668.0|      request|2019-04-01 15:17:40|2019-04-01 15:17:41|2019-04-01 19:05:47|           NULL|      NULL|a5207ab2-5a1f-4b4...|01233b6f-a2e0-43b...|a5158fd2-3455-411...|613ebc3f-8b3c-4e5...|2019-04-01|   2019-04-01|       listing|\n",
            "|201611011603268150|UIFMSKZOKTL|    PERSONAL|    d711958bf48e8b85|2DDD8B4D852A1FC0-...|52981577685398329...|  listing|     hotel_clicked|200710261046224908|India Standard Time|  Android_7.5.8| dom htl|                NULL|     mobile| New Delhi|ANDROID|         9|      7.5.8|       del|           in|                    False|          Work|       cty|   New Delhi And NCR|  2019-04-05|   2019-04-07|           2|           0.0|         2.0|              2.0|        1.0|  4.0|         NULL|           2.0|       4700.0|           3381.0|        NULL|              NULL|  NULL|           1700.0|             0.0|             0.0|     NULL|     NULL|     NULL|             2e0e|               NULL|          NULL|         NULL|          NULL|                   NULL|                    NULL|       NULL|            NULL|                  NULL|            NULL|          NULL|       NULL|      NULL|              NULL|               NULL|                NULL|           NULL|       NULL|       NULL|            1700.0|          NULL|   NULL|       NULL|           NULL|  NULL|         NULL|       NULL|            NULL|             NULL|        NULL|        NULL|         NULL|      NULL|           NULL|                 NULL|               NULL|    18|                 NULL|          PN|                   NULL|                     NULL|      NULL|       NULL|      S_hsq134_P|                NULL|       4 Star,5 Star|                NULL|                NULL|                NULL|            4,5|                 NULL|          NULL|        NULL|        NULL|              NULL|          DEL|               False|           NULL|                94|                  4.1|              NULL|                false|                false|     NULL|          NULL|           true|                   100.0|                 False|            true|        NULL|    192.168.0.7|       mmt|prod|             97| d711958bf48e8b85~97|      NULL|      request|2019-04-01 14:07:21|2019-04-01 14:07:23|2019-04-01 19:05:41|           NULL|      NULL|c0267660-9671-432...|46826257-30bd-457...|d247d003-623c-489...|735f9078-88b2-40c...|2019-04-01|   2019-04-01|       listing|\n",
            "|201803161648093814|UYHATCF12IM|    PERSONAL|    81a028ae596560a0|                 vid|06462680514407974...|  listing|          pageexit|              NULL|India Standard Time|  Android_7.5.8| dom htl|                NULL|     mobile|   Kolkata|ANDROID|     8.0.0|      7.5.8|       del|           in|                    False|          Work|       cty|   New Delhi And NCR|  2019-09-27|   2019-09-28|           2|           0.0|         2.0|              1.0|        1.0|179.0|         NULL|           1.0|       3000.0|           2174.0|        NULL|              NULL|  NULL|           1199.0|             0.0|             0.0|     NULL|     NULL|     NULL|             2e0e|               NULL|          NULL|         NULL|          NULL|                   NULL|                    NULL|       NULL|            NULL|                  NULL|            NULL|          NULL|       NULL|      NULL|              NULL|               NULL|                NULL|           NULL|       NULL|       NULL|            1199.0|          NULL|   NULL|       NULL|           NULL|  NULL|         NULL|       NULL|            NULL|             NULL|        NULL|        NULL|         NULL|      NULL|           NULL|                 NULL|               NULL|    17|                 NULL|          PN|                   NULL|                     NULL|      NULL|       NULL|S_reviewRating_B|                NULL|                NULL|                NULL|                NULL|                NULL|           NULL|                 NULL|          NULL|        NULL| user rating|       high_to_low|          DEL|               False|           NULL|                 2|                  5.0|              NULL|                false|                false|     NULL|          NULL|          false|                     0.0|                 False|            true|        NULL|  100.68.129.52|       mmt|prod|             26| 81a028ae596560a0~26|     644.0|      request|2019-04-01 08:32:35|2019-04-01 08:34:04|2019-04-01 19:05:13|           NULL|      NULL|8f3af402-dd8c-4fd...|ae5a3167-14fe-40b...|3b9f6188-e207-412...|512e58bb-8518-43e...|2019-04-01|   2019-04-01|       listing|\n",
            "|201512171142252849|U0HGGU6ORJH|    PERSONAL|    3f897b82f931dcb3|                 vid|78801956741270759...|  listing|           filters|              NULL|India Standard Time|  Android_7.5.8| dom htl|                NULL|     mobile| Madhepura|ANDROID|     5.0.2|      7.5.8|       dbg|           in|                     True|          Work|       cty|         DMCH Campus|  2019-04-02|   2019-04-04|           2|           0.0|         2.0|              2.0|        1.0|  1.0|         NULL|           2.0|       3000.0|           2580.0|        NULL|              NULL|  NULL|              0.0|             0.0|             0.0|     NULL|     NULL|     NULL|             2e0e|               NULL|          NULL|         NULL|          NULL|                   NULL|                    NULL|       NULL|            NULL|                  NULL|            NULL|          NULL|       NULL|      NULL|              NULL|               NULL|                NULL|           NULL|       NULL|       NULL|               0.0|          NULL|   NULL|       NULL|           NULL|  NULL|         NULL|       NULL|            NULL|             NULL|        NULL|        NULL|         NULL|      NULL|           NULL|                 NULL|               NULL|    31|                 NULL|          PN|                   NULL|                     NULL|      NULL|       NULL|      S_hsq641_B|                NULL|              4 Star|                NULL|                NULL|Rs 0 - Rs 2000,5 ...|              4|                 NULL|          NULL|        NULL|  popularity|       high_to_low|          DBG|               False|           NULL|                 6|                  0.0|              NULL|                false|                false|     NULL|          NULL|          false|                     0.0|                 False|           false|        NULL|   100.88.74.12|       mmt|prod|              1|  3f897b82f931dcb3~1|      NULL|      request|2019-04-01 06:01:17|2019-04-01 06:01:19|2019-04-01 19:04:53|           NULL|      NULL|0fec8f13-298a-456...|4c9bc7fa-6e4a-47d...|fc840ce0-7d26-47b...|6e0f2770-e7c9-456...|2019-04-01|   2019-04-01|       listing|\n",
            "|201503191002004585|UT6MO7WC0EM|    PERSONAL|    9c7622da6f8ec977|2D5E4207852A18EC-...|44115647422089151...|  listing|     hotel_clicked|201004011443288188|India Standard Time|  Android_7.5.1| dom htl|                NULL|     mobile|     Noida|ANDROID|         9|      7.5.1|       del|           in|                    False|       Leisure|       htl|Country Inn and S...|  2019-04-06|   2019-04-07|           2|           0.0|         2.0|              1.0|        1.0|  5.0|         NULL|           1.0|       4300.0|           2292.0|        NULL|              NULL|  NULL|           2000.0|             0.0|             0.0|     NULL|     NULL|     NULL|             2e0e|               NULL|          NULL|         NULL|          NULL|                   NULL|                    NULL|       NULL|            NULL|                  NULL|            NULL|          NULL|       NULL|      NULL|              NULL|               NULL|                NULL|           NULL|       NULL|       NULL|            2000.0|          NULL|   NULL|       NULL|           NULL|  NULL|         NULL|       NULL|            NULL|             NULL|        NULL|        NULL|         NULL|      NULL|           NULL|                 NULL|               NULL|    17|                 NULL|          PN|                   NULL|                     NULL|      NULL|       NULL|      S_MM_AND_B|                NULL|                NULL|                NULL|                NULL|                NULL|           NULL|                 NULL|          NULL|        NULL|        NULL|              NULL|          DEL|               False|           NULL|                 1|                  4.0|              NULL|                false|                false|     NULL|          NULL|           true|       94.06169891357422|                 False|           false|        NULL|   192.168.0.36|       mmt|prod|            103|9c7622da6f8ec977~103|      NULL|      request|2019-04-01 14:42:59|2019-04-01 14:43:01|2019-04-01 19:05:41|           NULL|      NULL|aaad88fd-d87e-472...|c9e22665-9580-49b...|4280ae5d-373b-4d2...|c36c919a-234d-4ef...|2019-04-01|   2019-04-01|       listing|\n",
            "|201512171142252849|UXJH1S8N4AM|    PERSONAL|    c5082fe4d61a8ac8|                 vid|00834188445794338...|  listing|          pageexit|              NULL|India Standard Time|  Android_7.4.2| dom htl|                NULL|     mobile|      NULL|ANDROID|     8.0.0|      7.4.2|      sama|           in|                    False|       Leisure|       cty|          Samastipur|  2019-04-01|   2019-04-02|           2|           0.0|         2.0|              1.0|        1.0|  0.0|         NULL|           1.0|       3540.0|           2910.0|        NULL|              NULL|  NULL|              0.0|             0.0|             0.0|     NULL|     NULL|     NULL|             2e0e|               NULL|          NULL|         NULL|          NULL|                   NULL|                    NULL|       NULL|            NULL|                  NULL|            NULL|          NULL|       NULL|      NULL|              NULL|               NULL|                NULL|           NULL|       NULL|       NULL|               0.0|          NULL|   NULL|       NULL|           NULL|  NULL|         NULL|       NULL|            NULL|             NULL|        NULL|        NULL|         NULL|      NULL|           NULL|                 NULL|               NULL|    18|                 NULL|          PN|                   NULL|                     NULL|      NULL|       NULL|      S_hsq145_B|                NULL|                NULL|                NULL|                NULL|                NULL|           NULL|                 NULL|          NULL|        NULL|  popularity|       high_to_low|          DBG|               False|           NULL|                12|                  0.0|              NULL|                false|                false|     NULL|          NULL|          false|                     0.0|                 False|           false|        NULL|  25.109.88.151|       mmt|prod|              1|  c5082fe4d61a8ac8~1|   76763.0|      request|2019-04-01 09:32:25|2019-04-01 09:33:02|2019-04-01 19:05:33|           NULL|      NULL|ce87f10c-88ee-47a...|338801bb-1436-480...|358ae7e7-5bbf-4a0...|a48c8d9c-53c6-493...|2019-04-01|   2019-04-01|       listing|\n",
            "|201803161648093814|UGM9N3GNV4M|    PERSONAL|    b3f8404e6611385e|                 vid|61999315158539988...|  listing|           filters|              NULL|India Standard Time|  Android_7.5.8| dom htl|                NULL|     mobile|  Gurugram|ANDROID|         9|      7.5.8|       del|           in|                    False|          Work|       htl|Heritage Village ...|  2019-04-06|   2019-04-07|           2|           1.0|         3.0|              1.0|        1.0|  5.0|         NULL|           1.0|       3500.0|           2136.0|        NULL|              NULL|  NULL|            750.0|             0.0|             0.0|     NULL|     NULL|     NULL|           2e1e5e|               NULL|          NULL|         NULL|          NULL|                   NULL|                    NULL|       NULL|            NULL|                  NULL|            NULL|          NULL|       NULL|      NULL|              NULL|               NULL|                NULL|           NULL|       NULL|       NULL|             750.0|          NULL|   NULL|       NULL|           NULL|  NULL|         NULL|       NULL|            NULL|             NULL|        NULL|        NULL|         NULL|      NULL|           NULL|                 NULL|               NULL|    31|                 NULL|          PN|                   NULL|                     NULL|      NULL|       NULL|S_reviewRating_B|                NULL|                NULL|             Gurgaon|                NULL|                NULL|           NULL|                 NULL|          NULL|        NULL| match maker|       high_to_low|          DEL|               False|           NULL|                 8|                  5.0|              NULL|                false|                false|     NULL|          NULL|          false|                     0.0|                 False|            true|        NULL|  100.72.126.60|       mmt|prod|              5|  b3f8404e6611385e~5|      NULL|      request|2019-04-01 17:48:19|2019-04-01 17:48:35|2019-04-01 19:05:41|           NULL|      NULL|1d844f24-871e-4a5...|905b739d-208e-474...|4f8e046d-a785-40a...|579d7eb1-395e-4f9...|2019-04-01|   2019-04-01|       listing|\n",
            "|201512171142252849|       NULL|    PERSONAL|    e05f9395f0a510c0|                 vid|55657526031515003...|  listing|          pageexit|              NULL|India Standard Time|  Android_7.5.8| dom htl|                NULL|     mobile|      NULL|ANDROID|     7.1.2|      7.5.8|     madhu|           in|                     True|       Leisure|       cty|           Madhubani|  2019-04-03|   2019-04-04|           2|           0.0|         2.0|              1.0|        1.0|  2.0|         NULL|           1.0|       3540.0|           3060.0|        NULL|              NULL|  NULL|             NULL|            NULL|            NULL|     NULL|     NULL|     NULL|             2e0e|               NULL|          NULL|         NULL|          NULL|                   NULL|                    NULL|       NULL|            NULL|                  NULL|            NULL|          NULL|       NULL|      NULL|              NULL|               NULL|                NULL|           NULL|       NULL|       NULL|              NULL|          NULL|   NULL|       NULL|           NULL|  NULL|         NULL|       NULL|            NULL|             NULL|        NULL|        NULL|         NULL|      NULL|           NULL|                 NULL|               NULL|    17|                 NULL|          PN|                   NULL|                     NULL|      NULL|       NULL|      S_hsq641_B|                NULL|      Romantic Trips|                NULL|                NULL|                NULL|           NULL|                 NULL|          NULL|        NULL|  popularity|       high_to_low|          DBG|               False|           NULL|                 4|                  0.0|              NULL|                false|                false|     NULL|          NULL|          false|                     0.0|                 False|           false|        NULL|  56.139.68.235|       mmt|prod|              1|  e05f9395f0a510c0~1|   12843.0|      request|2019-04-01 11:16:48|2019-04-01 11:18:18|2019-04-01 19:05:40|           NULL|      NULL|fae354fe-5ac2-406...|0af2285e-d878-415...|cf220df9-5c93-42a...|50776531-9321-48a...|2019-04-01|   2019-04-01|       listing|\n",
            "|201611011603268150|UIFMSKZOKTL|    PERSONAL|    d711958bf48e8b85|2DDD8B4D852A1FC0-...|52981577685398329...|  listing|     hotel_clicked|201209081729356985|India Standard Time|  Android_7.5.8| dom htl|                NULL|     mobile| New Delhi|ANDROID|         9|      7.5.8|       del|           in|                    False|          Work|       cty|   New Delhi And NCR|  2019-04-05|   2019-04-07|           2|           0.0|         2.0|              2.0|        1.0|  4.0|         NULL|           2.0|       4700.0|           3381.0|        NULL|              NULL|  NULL|           1700.0|             0.0|             0.0|     NULL|     NULL|     NULL|             2e0e|               NULL|          NULL|         NULL|          NULL|                   NULL|                    NULL|       NULL|            NULL|                  NULL|            NULL|          NULL|       NULL|      NULL|              NULL|               NULL|                NULL|           NULL|       NULL|       NULL|            1700.0|          NULL|   NULL|       NULL|           NULL|  NULL|         NULL|       NULL|            NULL|             NULL|        NULL|        NULL|         NULL|      NULL|           NULL|                 NULL|               NULL|    18|                 NULL|          PN|                   NULL|                     NULL|      NULL|       NULL|      S_hsq134_P|                NULL|       4 Star,5 Star|                NULL|                NULL|                NULL|            4,5|                 NULL|          NULL|        NULL|        NULL|              NULL|          DEL|               False|           NULL|                94|                  4.1|              NULL|                false|                false|     NULL|          NULL|           true|                   100.0|                 False|            true|        NULL|    192.168.0.7|       mmt|prod|             97| d711958bf48e8b85~97|      NULL|      request|2019-04-01 14:08:27|2019-04-01 14:08:28|2019-04-01 19:05:41|           NULL|      NULL|c0267660-9671-432...|cec26f58-b14a-49a...|42387ceb-cfb2-4f1...|735f9078-88b2-40c...|2019-04-01|   2019-04-01|       listing|\n",
            "|201511161808418145|       NULL|    PERSONAL|    8e63ae1bb5f0583c|                 vid|39598015281471839...|  listing|           filters|              NULL|India Standard Time|  Android_7.5.8| dom htl|                NULL|     mobile|   Pataili|ANDROID|     5.1.1|      7.5.8|      sama|           in|                     True|       Leisure|       htl|       Swarg Exotica|  2019-04-01|   2019-04-02|           2|           0.0|         2.0|              1.0|        1.0|  0.0|         NULL|           1.0|       1399.0|           1187.0|        NULL|              NULL|  NULL|             NULL|            NULL|            NULL|     NULL|     NULL|     NULL|             2e0e|               NULL|          NULL|         NULL|          NULL|                   NULL|                    NULL|       NULL|            NULL|                  NULL|            NULL|          NULL|       NULL|      NULL|              NULL|               NULL|                NULL|           NULL|       NULL|       NULL|              NULL|          NULL|   NULL|       NULL|           NULL|  NULL|         NULL|       NULL|            NULL|             NULL|        NULL|        NULL|         NULL|      NULL|           NULL|                 NULL|               NULL|    33|                 NULL|          PN|                   NULL|                     NULL|      NULL|       NULL|      S_hsq641_B|                NULL|Rs 0 - Rs 2000,Ro...|                NULL|                NULL|                NULL|           NULL|                 NULL|          NULL|        NULL|  popularity|       high_to_low|          DBG|               False|           NULL|                 9|                  0.0|              NULL|                false|                false|     NULL|          NULL|          false|                     0.0|                 False|           false|        NULL|   10.82.179.18|       mmt|prod|              1|  8e63ae1bb5f0583c~1|      NULL|      request|2019-04-01 02:16:38|2019-04-01 02:16:49|2019-04-01 19:05:10|           NULL|      NULL|8dd74cda-8942-457...|60005233-be65-469...|2abd45a3-500c-477...|f2230725-0595-495...|2019-04-01|   2019-04-01|       listing|\n",
            "+------------------+-----------+------------+--------------------+--------------------+--------------------+---------+------------------+------------------+-------------------+---------------+--------+--------------------+-----------+----------+-------+----------+-----------+----------+-------------+-------------------------+--------------+----------+--------------------+------------+-------------+------------+--------------+------------+-----------------+-----------+-----+-------------+--------------+-------------+-----------------+------------+------------------+------+-----------------+----------------+----------------+---------+---------+---------+-----------------+-------------------+--------------+-------------+--------------+-----------------------+------------------------+-----------+----------------+----------------------+----------------+--------------+-----------+----------+------------------+-------------------+--------------------+---------------+-----------+-----------+------------------+--------------+-------+-----------+---------------+------+-------------+-----------+----------------+-----------------+------------+------------+-------------+----------+---------------+---------------------+-------------------+------+---------------------+------------+-----------------------+-------------------------+----------+-----------+----------------+--------------------+--------------------+--------------------+--------------------+--------------------+---------------+---------------------+--------------+------------+------------+------------------+-------------+--------------------+---------------+------------------+---------------------+------------------+---------------------+---------------------+---------+--------------+---------------+------------------------+----------------------+----------------+------------+---------------+----------+----+---------------+--------------------+----------+-------------+-------------------+-------------------+-------------------+---------------+----------+--------------------+--------------------+--------------------+--------------------+----------+-------------+--------------+\n",
            "only showing top 20 rows\n",
            "\n"
          ]
        }
      ]
    },
    {
      "cell_type": "code",
      "source": [
        "df.filter(df.total_adults.isin([2, 5, 8, 10])).show()"
      ],
      "metadata": {
        "colab": {
          "base_uri": "https://localhost:8080/"
        },
        "id": "xnnc3N6exZJ-",
        "outputId": "f108accb-f7fa-4f02-cdd1-03ec2b905d95"
      },
      "execution_count": null,
      "outputs": [
        {
          "output_type": "stream",
          "name": "stdout",
          "text": [
            "+------------------+-----------+------------+--------------------+--------------------+--------------------+---------+------------------+------------------+-------------------+---------------+--------+--------------------+-----------+----------+-------+----------+-----------+----------+-------------+-------------------------+--------------+----------+--------------------+------------+-------------+------------+--------------+------------+-----------------+-----------+-----+-------------+--------------+-------------+-----------------+------------+------------------+------+-----------------+----------------+----------------+---------+---------+---------+-----------------+-------------------+--------------+-------------+--------------+-----------------------+------------------------+-----------+----------------+----------------------+----------------+--------------+-----------+----------+------------------+-------------------+--------------------+---------------+-----------+-----------+------------------+--------------+-------+-----------+---------------+------+-------------+-----------+----------------+-----------------+------------+------------+-------------+----------+---------------+---------------------+-------------------+------+---------------------+------------+-----------------------+-------------------------+----------+-----------+----------------+--------------------+--------------------+--------------------+--------------------+--------------------+---------------+---------------------+--------------+------------+------------+------------------+-------------+--------------------+---------------+------------------+---------------------+------------------+---------------------+---------------------+---------+--------------+---------------+------------------------+----------------------+----------------+------------+---------------+----------+----+---------------+--------------------+----------+-------------+-------------------+-------------------+-------------------+---------------+----------+--------------------+--------------------+--------------------+--------------------+----------+-------------+--------------+\n",
            "|          hotel_id|       uuid|profile_type|           device_id|          visitor_id|           user_mcid|page_name|meta_activity_name|    meta_act_cntnt|      meta_timezone|meta_user_agent|lob_name|      pg_nm_omniture|device_type|dvc_g_city|     os|os_version|app_version|query_city|query_country|query_travel_purpose_optd|travel_purpose|query_type|         query_value|checkin_date|checkout_date|total_adults|total_children|total_guests|total_room_nights|total_rooms|   ap|is_multi_room|length_of_stay|disp_sell_amt|disp_sell_amt_dis|is_free_cncl|htl_meal_plan_code|is_pah|usr_wal_bonus_bal|usr_wal_plus_bal|usr_wal_real_bal|room_code|room_name|room_type|roomstayqualifier|prc_aaj_ka_bhao_flg|prc_absrpn_amt|prc_amt_chrgd|prc_commission|prc_disp_amt_w_dis_srvr|prc_disp_amt_wo_dis_srvr|prc_div_fac|prc_extrapax_amt|prc_hotelier_promotion|prc_htl_base_prc|prc_mkpsrv_fee|prc_pay_mod|prc_profit|prc_sell_amt_w_tax|prc_sell_amt_wo_tax|prc_surge_applcbl_on|prc_surge_prcnt|prc_tax_htl|prc_wal_amt|prc_wallet_balance|prc_mmt_markup|cpn_amt|cpn_blckd_m|cpn_cashbck_amt|cpn_cd|cpn_code_main|cpn_dbl_dis|cpn_dd_surge_amt|cpn_dis_types_arr|cpn_mode_typ|cpn_orig_amt|cpn_spl_promo|cpn_status|cpn_wal_ded_amt|cpn_wal_intnsty_prcnt|cpn_wal_pls_amt_ded|exp_id|exp_city_tax_included|exp_disp_prc|exp_disp_prc_multiplier|exp_disp_prc_tax_included|exp_pol_id|exp_pol_ver|exp_rnk_algo_ver|filter_amenities_arr|  filter_applied_arr|      filter_loc_arr|filter_prop_type_arr|  filter_removed_arr|filter_star_arr|filter_usr_rating_arr|filter_clr_all|filter_price|applied_sort|applied_sort_order|htl_city_code|is_htl_city_sold_out|is_htl_sold_out|htl_rnk_disp_order|htl_rating_disp_lstng|htl_rate_plan_code|is_htl_shrtlstd_lstng|is_htl_sold_out_lstng|policy_id|policy_version|is_htl_fc_lstng|htl_loc_mtch_prcnt_lstng|is_htl_mmt_assrd_lstng|is_htl_pah_lstng|country_code|      client_ip|company_id| env|session_vst_num|          session_id|time_spent|meta_row_type|   record_client_ts|      record_pdt_ts|record_processed_ts|bkg_chld_id_arr|bkg_txn_id|     correlation_key|         meta_row_id|    meta_row_id_clnt|    meta_row_id_srvr|event_date|browsing_date|meta_fnnl_step|\n",
            "+------------------+-----------+------------+--------------------+--------------------+--------------------+---------+------------------+------------------+-------------------+---------------+--------+--------------------+-----------+----------+-------+----------+-----------+----------+-------------+-------------------------+--------------+----------+--------------------+------------+-------------+------------+--------------+------------+-----------------+-----------+-----+-------------+--------------+-------------+-----------------+------------+------------------+------+-----------------+----------------+----------------+---------+---------+---------+-----------------+-------------------+--------------+-------------+--------------+-----------------------+------------------------+-----------+----------------+----------------------+----------------+--------------+-----------+----------+------------------+-------------------+--------------------+---------------+-----------+-----------+------------------+--------------+-------+-----------+---------------+------+-------------+-----------+----------------+-----------------+------------+------------+-------------+----------+---------------+---------------------+-------------------+------+---------------------+------------+-----------------------+-------------------------+----------+-----------+----------------+--------------------+--------------------+--------------------+--------------------+--------------------+---------------+---------------------+--------------+------------+------------+------------------+-------------+--------------------+---------------+------------------+---------------------+------------------+---------------------+---------------------+---------+--------------+---------------+------------------------+----------------------+----------------+------------+---------------+----------+----+---------------+--------------------+----------+-------------+-------------------+-------------------+-------------------+---------------+----------+--------------------+--------------------+--------------------+--------------------+----------+-------------+--------------+\n",
            "|   674463971971841|UF6M5VOS4SM|    PERSONAL|62F01728-685B-443...|2DE040A9052A52B2-...|00234541700726785...|  listing| listing to detail|              NULL|                IST|           NULL|intl htl|mob:funnel:intl h...|     mobile| New Delhi|    IOS|iOS_12.1.4|      6.2.8|      davo|           ch|                    False|       Leisure|    google|InterContinental ...|  2019-07-14|   2019-07-15|           2|           0.0|         2.0|              1.0|        1.0|104.0|         NULL|           1.0|      10596.0|          10596.0|        NULL|              NULL|  NULL|           1351.0|             0.0|             0.0|     NULL|     NULL|     NULL|             2e0e|               NULL|          NULL|         NULL|          NULL|                   NULL|                    NULL|       NULL|            NULL|                  NULL|            NULL|          NULL|       NULL|      NULL|              NULL|               NULL|                NULL|           NULL|       NULL|       NULL|            1351.0|          NULL|   NULL|       NULL|           NULL|  NULL|         NULL|       NULL|            NULL|             NULL|        NULL|        NULL|         NULL|      NULL|           NULL|                 NULL|               NULL|    31|                 NULL|          PN|                   NULL|                     NULL|      NULL|       NULL|       S_hsq61_B|                NULL|Loc_InterContinen...|InterContinental ...|                NULL|                NULL|           NULL|                 NULL|          NULL|        NULL|        NULL|              NULL|         DAVO|               False|           NULL|                 0|                  4.5|              NULL|                false|                false|     NULL|          NULL|           true|                    NULL|                 False|           false|        NULL|    192.168.1.9|       mmt|prod|            168|62F01728-685B-443...|   21441.0|      request|2019-04-01 06:49:49|2019-04-01 06:49:49|2019-04-01 19:05:45|           NULL|      NULL|947b9bf3-d55e-45e...|4976dc36-43fa-42b...|d60011b1ffe8a507c...|ad3e6fef-8ccf-44b...|2019-04-01|   2019-04-01|       listing|\n",
            "|201803161648093814|       NULL|    PERSONAL|    909b264761be9d02|2DAED8CE852A1C3A-...|19089274888689427...|  listing|          pageexit|              NULL|India Standard Time|  Android_7.4.8| dom htl|                NULL|     mobile|    Meerut|ANDROID|     7.1.2|      7.4.8|       bul|           in|                    False|       Leisure|       cty|         Bulandshahr|  2019-04-13|   2019-04-14|           2|           0.0|         2.0|              1.0|        1.0| 12.0|         NULL|           1.0|       3420.0|           2446.0|        NULL|              NULL|  NULL|             NULL|            NULL|            NULL|     NULL|     NULL|     NULL|             2e0e|               NULL|          NULL|         NULL|          NULL|                   NULL|                    NULL|       NULL|            NULL|                  NULL|            NULL|          NULL|       NULL|      NULL|              NULL|               NULL|                NULL|           NULL|       NULL|       NULL|              NULL|          NULL|   NULL|       NULL|           NULL|  NULL|         NULL|       NULL|            NULL|             NULL|        NULL|        NULL|         NULL|      NULL|           NULL|                 NULL|               NULL|    31|                 NULL|          PN|                   NULL|                     NULL|      NULL|       NULL|      S_hsq641_B|                NULL|                NULL|                NULL|                NULL|                NULL|           NULL|                 NULL|          NULL|        NULL|  popularity|       high_to_low|          DEL|               False|           NULL|                14|                  0.0|              NULL|                false|                false|     NULL|          NULL|          false|                     0.0|                 False|            true|        NULL|100.103.113.172|       mmt|prod|             57| 909b264761be9d02~57|   23003.0|      request|2019-04-01 15:07:27|2019-04-01 15:07:34|2019-04-01 19:05:59|           NULL|      NULL|92f3bcbc-799b-46b...|1479df0e-bdaf-407...|8189bbb9-4ad4-46e...|729c19af-394b-437...|2019-04-01|   2019-04-01|       listing|\n",
            "|201611011603268150|UQXL382F0YM|    PERSONAL|    d6c5e12278e23b09|2CEE21DC8530C5C0-...|50786034465471215...|  listing|          pageexit|              NULL|India Standard Time|  Android_7.5.8| dom htl|                NULL|     mobile| Rishikesh|ANDROID|     8.1.0|      7.5.8|       del|           in|                    False|          Work|       cty|             Gurgaon|  2019-04-03|   2019-04-04|           2|           0.0|         2.0|              1.0|        1.0|  1.0|         NULL|           1.0|       8600.0|           6157.0|        NULL|              NULL|  NULL|            750.0|             0.0|             0.0|     NULL|     NULL|     NULL|             2e0e|               NULL|          NULL|         NULL|          NULL|                   NULL|                    NULL|       NULL|            NULL|                  NULL|            NULL|          NULL|       NULL|      NULL|              NULL|               NULL|                NULL|           NULL|       NULL|       NULL|             750.0|          NULL|   NULL|       NULL|           NULL|  NULL|         NULL|       NULL|            NULL|             NULL|        NULL|        NULL|         NULL|      NULL|           NULL|                 NULL|               NULL|    18|                 NULL|          PN|                   NULL|                     NULL|      NULL|       NULL|      S_MM_AND_B|                NULL|       4 Star,5 Star|             Gurgaon|                NULL|                NULL|            4,5|                 NULL|          NULL|        NULL|  popularity|       high_to_low|          DEL|               False|           NULL|                 9|                  4.1|              NULL|                false|                false|     NULL|          NULL|          false|       89.90750122070312|                 False|            true|        NULL|  192.168.1.174|       mmt|prod|            594|d6c5e12278e23b09~594| 2849616.0|      request|2019-04-02 15:04:49|2019-04-01 15:21:09|2019-04-01 19:05:25|           NULL|      NULL|4a4c6020-625b-4b8...|be4548ab-f6c4-441...|2c603e6f-0c79-469...|ccdc8763-eae1-4b3...|2019-04-01|   2019-04-01|       listing|\n",
            "|201803161648093814|UKIH2RRRJ0L|    PERSONAL|570C326B-2BF5-400...|                NULL|90574645387553704...|  listing| listing to detail|              NULL|                IST|           NULL| dom htl|mob:funnel:domest...|     mobile|    Jaipur|    IOS|iOS_12.1.4|      6.2.6|       del|           in|                    False|       Leisure|       htl|Crowne Plaza Grea...|  2019-10-15|   2019-10-20|           2|           0.0|         2.0|              5.0|        1.0|197.0|         NULL|           5.0|       2244.0|           2244.0|        NULL|              NULL|  NULL|              0.0|             0.0|             0.0|     NULL|     NULL|     NULL|             2e0e|               NULL|          NULL|         NULL|          NULL|                   NULL|                    NULL|       NULL|            NULL|                  NULL|            NULL|          NULL|       NULL|      NULL|              NULL|               NULL|                NULL|           NULL|       NULL|       NULL|               0.0|          NULL|   NULL|       NULL|           NULL|  NULL|         NULL|       NULL|            NULL|             NULL|        NULL|        NULL|         NULL|      NULL|           NULL|                 NULL|               NULL|    31|                 NULL|          PN|                   NULL|                     NULL|      NULL|       NULL|      S_MM_IOS_B|                NULL|                NULL|                NULL|                NULL|                NULL|           NULL|                 NULL|          NULL|        NULL|        NULL|              NULL|          DEL|               False|           NULL|                25|                  5.0|              NULL|                false|                false|     NULL|          NULL|          false|                   50.25|                 False|           false|        NULL|           NULL|       mmt|prod|            133|570C326B-2BF5-400...|  520228.0|      request|2019-04-01 02:53:08|2019-04-01 02:53:09|2019-04-01 19:06:10|           NULL|      NULL|fcdcc438-22a7-424...|c024b575-63de-4d3...|447edfb3b8233c32c...|48e0f53f-95c5-4bd...|2019-04-01|   2019-04-01|       listing|\n",
            "|201801081726455371|UF6M5VOS4SM|    PERSONAL|62F01728-685B-443...|2DE040A9052A52B2-...|00234541700726785...|  listing| listing to detail|              NULL|                IST|           NULL|intl htl|mob:funnel:intl h...|     mobile| New Delhi|    IOS|iOS_12.1.4|      6.2.8|      davo|           ch|                    False|       Leisure|    google|InterContinental ...|  2019-07-14|   2019-07-15|           2|           0.0|         2.0|              1.0|        1.0|104.0|         NULL|           1.0|       6520.0|           6520.0|        NULL|              NULL|  NULL|           1351.0|             0.0|             0.0|     NULL|     NULL|     NULL|             2e0e|               NULL|          NULL|         NULL|          NULL|                   NULL|                    NULL|       NULL|            NULL|                  NULL|            NULL|          NULL|       NULL|      NULL|              NULL|               NULL|                NULL|           NULL|       NULL|       NULL|            1351.0|          NULL|   NULL|       NULL|           NULL|  NULL|         NULL|       NULL|            NULL|             NULL|        NULL|        NULL|         NULL|      NULL|           NULL|                 NULL|               NULL|    31|                 NULL|          PN|                   NULL|                     NULL|      NULL|       NULL|       S_hsq61_B|                NULL|Loc_InterContinen...|InterContinental ...|                NULL|                NULL|           NULL|                 NULL|          NULL|        NULL|        NULL|              NULL|         DAVO|               False|           NULL|                 1|                  4.0|              NULL|                false|                false|     NULL|          NULL|           true|                    NULL|                 False|           false|        NULL|    192.168.1.9|       mmt|prod|            168|62F01728-685B-443...|   21441.0|      request|2019-04-01 06:49:49|2019-04-01 06:49:49|2019-04-01 19:05:45|           NULL|      NULL|947b9bf3-d55e-45e...|4976dc36-43fa-42b...|d60011b1ffe8a507c...|ad3e6fef-8ccf-44b...|2019-04-01|   2019-04-01|       listing|\n",
            "|201503191002004585|U2DMBNC7J7M|    PERSONAL|    96ad89fdaca28f59|2C5A0AEA052A05AD-...|71627838630676424...|  listing|     hotel_clicked|  2017033111362710|India Standard Time|  Android_7.5.1| dom htl|                NULL|     mobile|  Kashipur|ANDROID|       5.1|      7.5.1|       del|           in|                    False|       Leisure|       cty|   New Delhi And NCR|  2019-04-02|   2019-04-03|           2|           0.0|         2.0|              1.0|        1.0|  1.0|         NULL|           1.0|       3900.0|           2586.0|        NULL|              NULL|  NULL|              0.0|             0.0|             0.0|     NULL|     NULL|     NULL|             2e0e|               NULL|          NULL|         NULL|          NULL|                   NULL|                    NULL|       NULL|            NULL|                  NULL|            NULL|          NULL|       NULL|      NULL|              NULL|               NULL|                NULL|           NULL|       NULL|       NULL|               0.0|          NULL|   NULL|       NULL|           NULL|  NULL|         NULL|       NULL|            NULL|             NULL|        NULL|        NULL|         NULL|      NULL|           NULL|                 NULL|               NULL|    18|                 NULL|          PN|                   NULL|                     NULL|      NULL|       NULL|      S_hsq134_P|                NULL|                NULL|                NULL|                NULL|                NULL|           NULL|                 NULL|          NULL|        NULL|        NULL|              NULL|          DEL|               False|           NULL|                 7|                  4.0|              NULL|                false|                false|     NULL|          NULL|          false|                   100.0|                 False|           false|        NULL|  56.76.241.116|       mmt|prod|            165|96ad89fdaca28f59~165|      NULL|      request|2019-04-01 03:31:14|2019-04-01 03:31:35|2019-04-01 19:05:38|           NULL|      NULL|8d3030df-9626-4b7...|5f89f816-618e-45c...|b160ceb9-4039-4a6...|35503417-3faa-414...|2019-04-01|   2019-04-01|       listing|\n",
            "|   674463971974746|UF6M5VOS4SM|    PERSONAL|62F01728-685B-443...|2DE040A9052A52B2-...|00234541700726785...|  listing| listing to detail|              NULL|                IST|           NULL|intl htl|mob:funnel:intl h...|     mobile| New Delhi|    IOS|iOS_12.1.4|      6.2.8|      davo|           ch|                    False|       Leisure|    google|InterContinental ...|  2019-07-14|   2019-07-15|           2|           0.0|         2.0|              1.0|        1.0|104.0|         NULL|           1.0|      11042.0|          11042.0|        NULL|              NULL|  NULL|           1351.0|             0.0|             0.0|     NULL|     NULL|     NULL|             2e0e|               NULL|          NULL|         NULL|          NULL|                   NULL|                    NULL|       NULL|            NULL|                  NULL|            NULL|          NULL|       NULL|      NULL|              NULL|               NULL|                NULL|           NULL|       NULL|       NULL|            1351.0|          NULL|   NULL|       NULL|           NULL|  NULL|         NULL|       NULL|            NULL|             NULL|        NULL|        NULL|         NULL|      NULL|           NULL|                 NULL|               NULL|    31|                 NULL|          PN|                   NULL|                     NULL|      NULL|       NULL|       S_hsq61_B|                NULL|Loc_InterContinen...|InterContinental ...|                NULL|                NULL|           NULL|                 NULL|          NULL|        NULL|        NULL|              NULL|         DAVO|               False|           NULL|                 2|                  4.0|              NULL|                false|                false|     NULL|          NULL|           true|                    NULL|                 False|           false|        NULL|    192.168.1.9|       mmt|prod|            168|62F01728-685B-443...|   21441.0|      request|2019-04-01 06:49:49|2019-04-01 06:49:49|2019-04-01 19:05:45|           NULL|      NULL|947b9bf3-d55e-45e...|4976dc36-43fa-42b...|d60011b1ffe8a507c...|ad3e6fef-8ccf-44b...|2019-04-01|   2019-04-01|       listing|\n",
            "|201611011603268150|UXDMRTA2I2H|    PERSONAL|    ea567c89ffec6804|2D89326D852A39B9-...|15189898010196734...|  listing|           filters|              NULL|India Standard Time|  Android_7.5.8| dom htl|                NULL|     mobile| New Delhi|ANDROID|         9|      7.5.8|       del|           in|                    False|          Work|       cty|   New Delhi And NCR|  2019-04-01|   2019-04-02|           2|           0.0|         2.0|              1.0|        1.0|  0.0|         NULL|           1.0|       8600.0|           5933.0|        NULL|              NULL|  NULL|              0.0|             0.0|             0.0|     NULL|     NULL|     NULL|             2e0e|               NULL|          NULL|         NULL|          NULL|                   NULL|                    NULL|       NULL|            NULL|                  NULL|            NULL|          NULL|       NULL|      NULL|              NULL|               NULL|                NULL|           NULL|       NULL|       NULL|               0.0|          NULL|   NULL|       NULL|           NULL|  NULL|         NULL|       NULL|            NULL|             NULL|        NULL|        NULL|         NULL|      NULL|           NULL|                 NULL|               NULL|    17|                 NULL|          PN|                   NULL|                     NULL|      NULL|       NULL|      S_MM_AND_B|                NULL|                NULL|             Gurgaon|                NULL|                NULL|           NULL|                 NULL|          NULL|        NULL|  popularity|       high_to_low|          DEL|               False|           NULL|                 9|                  4.1|              NULL|                false|                false|     NULL|          NULL|          false|       89.90750122070312|                 False|            true|        NULL| 100.68.144.187|       mmt|prod|             91| ea567c89ffec6804~91|      NULL|      request|2019-04-01 07:13:40|2019-04-01 07:13:42|2019-04-01 19:05:35|           NULL|      NULL|90744e60-c51d-47b...|95d81443-9c81-4c3...|9a0149f4-437a-4f2...|71410b3a-5ef2-484...|2019-04-01|   2019-04-01|       listing|\n",
            "|201512171142252849|UDPM02P8GCH|    PERSONAL|    80b3600102291084|2D2053E505031685-...|83765032555181514...|  listing|          pageexit|              NULL|India Standard Time|  Android_7.4.2| dom htl|                NULL|     mobile|      NULL|ANDROID|         9|      7.4.2|       dbg|           in|                     True|          Work|       cty|           Darbhanga|  2019-04-04|   2019-04-06|           2|           0.0|         2.0|              2.0|        1.0|  3.0|         NULL|           2.0|       3000.0|           2073.0|        NULL|              NULL|  NULL|            750.0|             0.0|             0.0|     NULL|     NULL|     NULL|             2e0e|               NULL|          NULL|         NULL|          NULL|                   NULL|                    NULL|       NULL|            NULL|                  NULL|            NULL|          NULL|       NULL|      NULL|              NULL|               NULL|                NULL|           NULL|       NULL|       NULL|             750.0|          NULL|   NULL|       NULL|           NULL|  NULL|         NULL|       NULL|            NULL|             NULL|        NULL|        NULL|         NULL|      NULL|           NULL|                 NULL|               NULL|    17|                 NULL|          PN|                   NULL|                     NULL|      NULL|       NULL|      S_hsq641_P|                NULL|                NULL|                NULL|                NULL|                NULL|           NULL|                 NULL|          NULL|        NULL|  popularity|       high_to_low|          DBG|               False|           NULL|                 6|                  0.0|              NULL|                false|                false|     NULL|          NULL|          false|                   100.0|                 False|           false|        NULL| 100.65.219.168|       mmt|prod|            102|80b3600102291084~102|  215459.0|      request|2019-04-01 15:17:05|2019-04-01 15:17:13|2019-04-01 19:05:47|           NULL|      NULL|a5207ab2-5a1f-4b4...|38b88eea-46da-462...|d2ada74f-59dd-4c0...|613ebc3f-8b3c-4e5...|2019-04-01|   2019-04-01|       listing|\n",
            "|201803161648093814|UYHATCF12IM|    PERSONAL|    81a028ae596560a0|                 vid|06462680514407974...|  listing|     hotel_clicked|201808161650127422|India Standard Time|  Android_7.5.8| dom htl|                NULL|     mobile|   Kolkata|ANDROID|     8.0.0|      7.5.8|       del|           in|                    False|          Work|       cty|   New Delhi And NCR|  2019-09-27|   2019-09-28|           2|           0.0|         2.0|              1.0|        1.0|179.0|         NULL|           1.0|       3000.0|           2174.0|        NULL|              NULL|  NULL|           1199.0|             0.0|             0.0|     NULL|     NULL|     NULL|             2e0e|               NULL|          NULL|         NULL|          NULL|                   NULL|                    NULL|       NULL|            NULL|                  NULL|            NULL|          NULL|       NULL|      NULL|              NULL|               NULL|                NULL|           NULL|       NULL|       NULL|            1199.0|          NULL|   NULL|       NULL|           NULL|  NULL|         NULL|       NULL|            NULL|             NULL|        NULL|        NULL|         NULL|      NULL|           NULL|                 NULL|               NULL|    17|                 NULL|          PN|                   NULL|                     NULL|      NULL|       NULL|S_reviewRating_B|                NULL|                NULL|                NULL|                NULL|                NULL|           NULL|                 NULL|          NULL|        NULL|        NULL|              NULL|          DEL|               False|           NULL|                 2|                  5.0|              NULL|                false|                false|     NULL|          NULL|          false|                     0.0|                 False|            true|        NULL|  100.68.129.52|       mmt|prod|             26| 81a028ae596560a0~26|      NULL|      request|2019-04-01 08:33:50|2019-04-01 08:34:04|2019-04-01 19:05:13|           NULL|      NULL|8f3af402-dd8c-4fd...|87e8ac2d-5617-444...|01bb3194-741c-4d7...|512e58bb-8518-43e...|2019-04-01|   2019-04-01|       listing|\n",
            "|201512171142252849|UDPM02P8GCH|    PERSONAL|    80b3600102291084|2D2053E505031685-...|83765032555181514...|  listing|          pageexit|              NULL|India Standard Time|  Android_7.4.2| dom htl|                NULL|     mobile|      NULL|ANDROID|         9|      7.4.2|       dbg|           in|                     True|          Work|       cty|           Darbhanga|  2019-04-04|   2019-04-06|           2|           0.0|         2.0|              2.0|        1.0|  3.0|         NULL|           2.0|       3000.0|           2073.0|        NULL|              NULL|  NULL|            750.0|             0.0|             0.0|     NULL|     NULL|     NULL|             2e0e|               NULL|          NULL|         NULL|          NULL|                   NULL|                    NULL|       NULL|            NULL|                  NULL|            NULL|          NULL|       NULL|      NULL|              NULL|               NULL|                NULL|           NULL|       NULL|       NULL|             750.0|          NULL|   NULL|       NULL|           NULL|  NULL|         NULL|       NULL|            NULL|             NULL|        NULL|        NULL|         NULL|      NULL|           NULL|                 NULL|               NULL|    17|                 NULL|          PN|                   NULL|                     NULL|      NULL|       NULL|      S_hsq641_P|                NULL|                NULL|                NULL|                NULL|                NULL|           NULL|                 NULL|          NULL|        NULL|  popularity|       high_to_low|          DBG|               False|           NULL|                 6|                  0.0|              NULL|                false|                false|     NULL|          NULL|          false|                   100.0|                 False|           false|        NULL| 100.65.219.168|       mmt|prod|            102|80b3600102291084~102|   29668.0|      request|2019-04-01 15:17:40|2019-04-01 15:17:41|2019-04-01 19:05:47|           NULL|      NULL|a5207ab2-5a1f-4b4...|01233b6f-a2e0-43b...|a5158fd2-3455-411...|613ebc3f-8b3c-4e5...|2019-04-01|   2019-04-01|       listing|\n",
            "|201611011603268150|UIFMSKZOKTL|    PERSONAL|    d711958bf48e8b85|2DDD8B4D852A1FC0-...|52981577685398329...|  listing|     hotel_clicked|200710261046224908|India Standard Time|  Android_7.5.8| dom htl|                NULL|     mobile| New Delhi|ANDROID|         9|      7.5.8|       del|           in|                    False|          Work|       cty|   New Delhi And NCR|  2019-04-05|   2019-04-07|           2|           0.0|         2.0|              2.0|        1.0|  4.0|         NULL|           2.0|       4700.0|           3381.0|        NULL|              NULL|  NULL|           1700.0|             0.0|             0.0|     NULL|     NULL|     NULL|             2e0e|               NULL|          NULL|         NULL|          NULL|                   NULL|                    NULL|       NULL|            NULL|                  NULL|            NULL|          NULL|       NULL|      NULL|              NULL|               NULL|                NULL|           NULL|       NULL|       NULL|            1700.0|          NULL|   NULL|       NULL|           NULL|  NULL|         NULL|       NULL|            NULL|             NULL|        NULL|        NULL|         NULL|      NULL|           NULL|                 NULL|               NULL|    18|                 NULL|          PN|                   NULL|                     NULL|      NULL|       NULL|      S_hsq134_P|                NULL|       4 Star,5 Star|                NULL|                NULL|                NULL|            4,5|                 NULL|          NULL|        NULL|        NULL|              NULL|          DEL|               False|           NULL|                94|                  4.1|              NULL|                false|                false|     NULL|          NULL|           true|                   100.0|                 False|            true|        NULL|    192.168.0.7|       mmt|prod|             97| d711958bf48e8b85~97|      NULL|      request|2019-04-01 14:07:21|2019-04-01 14:07:23|2019-04-01 19:05:41|           NULL|      NULL|c0267660-9671-432...|46826257-30bd-457...|d247d003-623c-489...|735f9078-88b2-40c...|2019-04-01|   2019-04-01|       listing|\n",
            "|201803161648093814|UYHATCF12IM|    PERSONAL|    81a028ae596560a0|                 vid|06462680514407974...|  listing|          pageexit|              NULL|India Standard Time|  Android_7.5.8| dom htl|                NULL|     mobile|   Kolkata|ANDROID|     8.0.0|      7.5.8|       del|           in|                    False|          Work|       cty|   New Delhi And NCR|  2019-09-27|   2019-09-28|           2|           0.0|         2.0|              1.0|        1.0|179.0|         NULL|           1.0|       3000.0|           2174.0|        NULL|              NULL|  NULL|           1199.0|             0.0|             0.0|     NULL|     NULL|     NULL|             2e0e|               NULL|          NULL|         NULL|          NULL|                   NULL|                    NULL|       NULL|            NULL|                  NULL|            NULL|          NULL|       NULL|      NULL|              NULL|               NULL|                NULL|           NULL|       NULL|       NULL|            1199.0|          NULL|   NULL|       NULL|           NULL|  NULL|         NULL|       NULL|            NULL|             NULL|        NULL|        NULL|         NULL|      NULL|           NULL|                 NULL|               NULL|    17|                 NULL|          PN|                   NULL|                     NULL|      NULL|       NULL|S_reviewRating_B|                NULL|                NULL|                NULL|                NULL|                NULL|           NULL|                 NULL|          NULL|        NULL| user rating|       high_to_low|          DEL|               False|           NULL|                 2|                  5.0|              NULL|                false|                false|     NULL|          NULL|          false|                     0.0|                 False|            true|        NULL|  100.68.129.52|       mmt|prod|             26| 81a028ae596560a0~26|     644.0|      request|2019-04-01 08:32:35|2019-04-01 08:34:04|2019-04-01 19:05:13|           NULL|      NULL|8f3af402-dd8c-4fd...|ae5a3167-14fe-40b...|3b9f6188-e207-412...|512e58bb-8518-43e...|2019-04-01|   2019-04-01|       listing|\n",
            "|201512171142252849|U0HGGU6ORJH|    PERSONAL|    3f897b82f931dcb3|                 vid|78801956741270759...|  listing|           filters|              NULL|India Standard Time|  Android_7.5.8| dom htl|                NULL|     mobile| Madhepura|ANDROID|     5.0.2|      7.5.8|       dbg|           in|                     True|          Work|       cty|         DMCH Campus|  2019-04-02|   2019-04-04|           2|           0.0|         2.0|              2.0|        1.0|  1.0|         NULL|           2.0|       3000.0|           2580.0|        NULL|              NULL|  NULL|              0.0|             0.0|             0.0|     NULL|     NULL|     NULL|             2e0e|               NULL|          NULL|         NULL|          NULL|                   NULL|                    NULL|       NULL|            NULL|                  NULL|            NULL|          NULL|       NULL|      NULL|              NULL|               NULL|                NULL|           NULL|       NULL|       NULL|               0.0|          NULL|   NULL|       NULL|           NULL|  NULL|         NULL|       NULL|            NULL|             NULL|        NULL|        NULL|         NULL|      NULL|           NULL|                 NULL|               NULL|    31|                 NULL|          PN|                   NULL|                     NULL|      NULL|       NULL|      S_hsq641_B|                NULL|              4 Star|                NULL|                NULL|Rs 0 - Rs 2000,5 ...|              4|                 NULL|          NULL|        NULL|  popularity|       high_to_low|          DBG|               False|           NULL|                 6|                  0.0|              NULL|                false|                false|     NULL|          NULL|          false|                     0.0|                 False|           false|        NULL|   100.88.74.12|       mmt|prod|              1|  3f897b82f931dcb3~1|      NULL|      request|2019-04-01 06:01:17|2019-04-01 06:01:19|2019-04-01 19:04:53|           NULL|      NULL|0fec8f13-298a-456...|4c9bc7fa-6e4a-47d...|fc840ce0-7d26-47b...|6e0f2770-e7c9-456...|2019-04-01|   2019-04-01|       listing|\n",
            "|201503191002004585|UT6MO7WC0EM|    PERSONAL|    9c7622da6f8ec977|2D5E4207852A18EC-...|44115647422089151...|  listing|     hotel_clicked|201004011443288188|India Standard Time|  Android_7.5.1| dom htl|                NULL|     mobile|     Noida|ANDROID|         9|      7.5.1|       del|           in|                    False|       Leisure|       htl|Country Inn and S...|  2019-04-06|   2019-04-07|           2|           0.0|         2.0|              1.0|        1.0|  5.0|         NULL|           1.0|       4300.0|           2292.0|        NULL|              NULL|  NULL|           2000.0|             0.0|             0.0|     NULL|     NULL|     NULL|             2e0e|               NULL|          NULL|         NULL|          NULL|                   NULL|                    NULL|       NULL|            NULL|                  NULL|            NULL|          NULL|       NULL|      NULL|              NULL|               NULL|                NULL|           NULL|       NULL|       NULL|            2000.0|          NULL|   NULL|       NULL|           NULL|  NULL|         NULL|       NULL|            NULL|             NULL|        NULL|        NULL|         NULL|      NULL|           NULL|                 NULL|               NULL|    17|                 NULL|          PN|                   NULL|                     NULL|      NULL|       NULL|      S_MM_AND_B|                NULL|                NULL|                NULL|                NULL|                NULL|           NULL|                 NULL|          NULL|        NULL|        NULL|              NULL|          DEL|               False|           NULL|                 1|                  4.0|              NULL|                false|                false|     NULL|          NULL|           true|       94.06169891357422|                 False|           false|        NULL|   192.168.0.36|       mmt|prod|            103|9c7622da6f8ec977~103|      NULL|      request|2019-04-01 14:42:59|2019-04-01 14:43:01|2019-04-01 19:05:41|           NULL|      NULL|aaad88fd-d87e-472...|c9e22665-9580-49b...|4280ae5d-373b-4d2...|c36c919a-234d-4ef...|2019-04-01|   2019-04-01|       listing|\n",
            "|201512171142252849|UXJH1S8N4AM|    PERSONAL|    c5082fe4d61a8ac8|                 vid|00834188445794338...|  listing|          pageexit|              NULL|India Standard Time|  Android_7.4.2| dom htl|                NULL|     mobile|      NULL|ANDROID|     8.0.0|      7.4.2|      sama|           in|                    False|       Leisure|       cty|          Samastipur|  2019-04-01|   2019-04-02|           2|           0.0|         2.0|              1.0|        1.0|  0.0|         NULL|           1.0|       3540.0|           2910.0|        NULL|              NULL|  NULL|              0.0|             0.0|             0.0|     NULL|     NULL|     NULL|             2e0e|               NULL|          NULL|         NULL|          NULL|                   NULL|                    NULL|       NULL|            NULL|                  NULL|            NULL|          NULL|       NULL|      NULL|              NULL|               NULL|                NULL|           NULL|       NULL|       NULL|               0.0|          NULL|   NULL|       NULL|           NULL|  NULL|         NULL|       NULL|            NULL|             NULL|        NULL|        NULL|         NULL|      NULL|           NULL|                 NULL|               NULL|    18|                 NULL|          PN|                   NULL|                     NULL|      NULL|       NULL|      S_hsq145_B|                NULL|                NULL|                NULL|                NULL|                NULL|           NULL|                 NULL|          NULL|        NULL|  popularity|       high_to_low|          DBG|               False|           NULL|                12|                  0.0|              NULL|                false|                false|     NULL|          NULL|          false|                     0.0|                 False|           false|        NULL|  25.109.88.151|       mmt|prod|              1|  c5082fe4d61a8ac8~1|   76763.0|      request|2019-04-01 09:32:25|2019-04-01 09:33:02|2019-04-01 19:05:33|           NULL|      NULL|ce87f10c-88ee-47a...|338801bb-1436-480...|358ae7e7-5bbf-4a0...|a48c8d9c-53c6-493...|2019-04-01|   2019-04-01|       listing|\n",
            "|201803161648093814|UGM9N3GNV4M|    PERSONAL|    b3f8404e6611385e|                 vid|61999315158539988...|  listing|           filters|              NULL|India Standard Time|  Android_7.5.8| dom htl|                NULL|     mobile|  Gurugram|ANDROID|         9|      7.5.8|       del|           in|                    False|          Work|       htl|Heritage Village ...|  2019-04-06|   2019-04-07|           2|           1.0|         3.0|              1.0|        1.0|  5.0|         NULL|           1.0|       3500.0|           2136.0|        NULL|              NULL|  NULL|            750.0|             0.0|             0.0|     NULL|     NULL|     NULL|           2e1e5e|               NULL|          NULL|         NULL|          NULL|                   NULL|                    NULL|       NULL|            NULL|                  NULL|            NULL|          NULL|       NULL|      NULL|              NULL|               NULL|                NULL|           NULL|       NULL|       NULL|             750.0|          NULL|   NULL|       NULL|           NULL|  NULL|         NULL|       NULL|            NULL|             NULL|        NULL|        NULL|         NULL|      NULL|           NULL|                 NULL|               NULL|    31|                 NULL|          PN|                   NULL|                     NULL|      NULL|       NULL|S_reviewRating_B|                NULL|                NULL|             Gurgaon|                NULL|                NULL|           NULL|                 NULL|          NULL|        NULL| match maker|       high_to_low|          DEL|               False|           NULL|                 8|                  5.0|              NULL|                false|                false|     NULL|          NULL|          false|                     0.0|                 False|            true|        NULL|  100.72.126.60|       mmt|prod|              5|  b3f8404e6611385e~5|      NULL|      request|2019-04-01 17:48:19|2019-04-01 17:48:35|2019-04-01 19:05:41|           NULL|      NULL|1d844f24-871e-4a5...|905b739d-208e-474...|4f8e046d-a785-40a...|579d7eb1-395e-4f9...|2019-04-01|   2019-04-01|       listing|\n",
            "|201512171142252849|       NULL|    PERSONAL|    e05f9395f0a510c0|                 vid|55657526031515003...|  listing|          pageexit|              NULL|India Standard Time|  Android_7.5.8| dom htl|                NULL|     mobile|      NULL|ANDROID|     7.1.2|      7.5.8|     madhu|           in|                     True|       Leisure|       cty|           Madhubani|  2019-04-03|   2019-04-04|           2|           0.0|         2.0|              1.0|        1.0|  2.0|         NULL|           1.0|       3540.0|           3060.0|        NULL|              NULL|  NULL|             NULL|            NULL|            NULL|     NULL|     NULL|     NULL|             2e0e|               NULL|          NULL|         NULL|          NULL|                   NULL|                    NULL|       NULL|            NULL|                  NULL|            NULL|          NULL|       NULL|      NULL|              NULL|               NULL|                NULL|           NULL|       NULL|       NULL|              NULL|          NULL|   NULL|       NULL|           NULL|  NULL|         NULL|       NULL|            NULL|             NULL|        NULL|        NULL|         NULL|      NULL|           NULL|                 NULL|               NULL|    17|                 NULL|          PN|                   NULL|                     NULL|      NULL|       NULL|      S_hsq641_B|                NULL|      Romantic Trips|                NULL|                NULL|                NULL|           NULL|                 NULL|          NULL|        NULL|  popularity|       high_to_low|          DBG|               False|           NULL|                 4|                  0.0|              NULL|                false|                false|     NULL|          NULL|          false|                     0.0|                 False|           false|        NULL|  56.139.68.235|       mmt|prod|              1|  e05f9395f0a510c0~1|   12843.0|      request|2019-04-01 11:16:48|2019-04-01 11:18:18|2019-04-01 19:05:40|           NULL|      NULL|fae354fe-5ac2-406...|0af2285e-d878-415...|cf220df9-5c93-42a...|50776531-9321-48a...|2019-04-01|   2019-04-01|       listing|\n",
            "|201611011603268150|UIFMSKZOKTL|    PERSONAL|    d711958bf48e8b85|2DDD8B4D852A1FC0-...|52981577685398329...|  listing|     hotel_clicked|201209081729356985|India Standard Time|  Android_7.5.8| dom htl|                NULL|     mobile| New Delhi|ANDROID|         9|      7.5.8|       del|           in|                    False|          Work|       cty|   New Delhi And NCR|  2019-04-05|   2019-04-07|           2|           0.0|         2.0|              2.0|        1.0|  4.0|         NULL|           2.0|       4700.0|           3381.0|        NULL|              NULL|  NULL|           1700.0|             0.0|             0.0|     NULL|     NULL|     NULL|             2e0e|               NULL|          NULL|         NULL|          NULL|                   NULL|                    NULL|       NULL|            NULL|                  NULL|            NULL|          NULL|       NULL|      NULL|              NULL|               NULL|                NULL|           NULL|       NULL|       NULL|            1700.0|          NULL|   NULL|       NULL|           NULL|  NULL|         NULL|       NULL|            NULL|             NULL|        NULL|        NULL|         NULL|      NULL|           NULL|                 NULL|               NULL|    18|                 NULL|          PN|                   NULL|                     NULL|      NULL|       NULL|      S_hsq134_P|                NULL|       4 Star,5 Star|                NULL|                NULL|                NULL|            4,5|                 NULL|          NULL|        NULL|        NULL|              NULL|          DEL|               False|           NULL|                94|                  4.1|              NULL|                false|                false|     NULL|          NULL|           true|                   100.0|                 False|            true|        NULL|    192.168.0.7|       mmt|prod|             97| d711958bf48e8b85~97|      NULL|      request|2019-04-01 14:08:27|2019-04-01 14:08:28|2019-04-01 19:05:41|           NULL|      NULL|c0267660-9671-432...|cec26f58-b14a-49a...|42387ceb-cfb2-4f1...|735f9078-88b2-40c...|2019-04-01|   2019-04-01|       listing|\n",
            "|201511161808418145|       NULL|    PERSONAL|    8e63ae1bb5f0583c|                 vid|39598015281471839...|  listing|           filters|              NULL|India Standard Time|  Android_7.5.8| dom htl|                NULL|     mobile|   Pataili|ANDROID|     5.1.1|      7.5.8|      sama|           in|                     True|       Leisure|       htl|       Swarg Exotica|  2019-04-01|   2019-04-02|           2|           0.0|         2.0|              1.0|        1.0|  0.0|         NULL|           1.0|       1399.0|           1187.0|        NULL|              NULL|  NULL|             NULL|            NULL|            NULL|     NULL|     NULL|     NULL|             2e0e|               NULL|          NULL|         NULL|          NULL|                   NULL|                    NULL|       NULL|            NULL|                  NULL|            NULL|          NULL|       NULL|      NULL|              NULL|               NULL|                NULL|           NULL|       NULL|       NULL|              NULL|          NULL|   NULL|       NULL|           NULL|  NULL|         NULL|       NULL|            NULL|             NULL|        NULL|        NULL|         NULL|      NULL|           NULL|                 NULL|               NULL|    33|                 NULL|          PN|                   NULL|                     NULL|      NULL|       NULL|      S_hsq641_B|                NULL|Rs 0 - Rs 2000,Ro...|                NULL|                NULL|                NULL|           NULL|                 NULL|          NULL|        NULL|  popularity|       high_to_low|          DBG|               False|           NULL|                 9|                  0.0|              NULL|                false|                false|     NULL|          NULL|          false|                     0.0|                 False|           false|        NULL|   10.82.179.18|       mmt|prod|              1|  8e63ae1bb5f0583c~1|      NULL|      request|2019-04-01 02:16:38|2019-04-01 02:16:49|2019-04-01 19:05:10|           NULL|      NULL|8dd74cda-8942-457...|60005233-be65-469...|2abd45a3-500c-477...|f2230725-0595-495...|2019-04-01|   2019-04-01|       listing|\n",
            "+------------------+-----------+------------+--------------------+--------------------+--------------------+---------+------------------+------------------+-------------------+---------------+--------+--------------------+-----------+----------+-------+----------+-----------+----------+-------------+-------------------------+--------------+----------+--------------------+------------+-------------+------------+--------------+------------+-----------------+-----------+-----+-------------+--------------+-------------+-----------------+------------+------------------+------+-----------------+----------------+----------------+---------+---------+---------+-----------------+-------------------+--------------+-------------+--------------+-----------------------+------------------------+-----------+----------------+----------------------+----------------+--------------+-----------+----------+------------------+-------------------+--------------------+---------------+-----------+-----------+------------------+--------------+-------+-----------+---------------+------+-------------+-----------+----------------+-----------------+------------+------------+-------------+----------+---------------+---------------------+-------------------+------+---------------------+------------+-----------------------+-------------------------+----------+-----------+----------------+--------------------+--------------------+--------------------+--------------------+--------------------+---------------+---------------------+--------------+------------+------------+------------------+-------------+--------------------+---------------+------------------+---------------------+------------------+---------------------+---------------------+---------+--------------+---------------+------------------------+----------------------+----------------+------------+---------------+----------+----+---------------+--------------------+----------+-------------+-------------------+-------------------+-------------------+---------------+----------+--------------------+--------------------+--------------------+--------------------+----------+-------------+--------------+\n",
            "only showing top 20 rows\n",
            "\n"
          ]
        }
      ]
    },
    {
      "cell_type": "code",
      "source": [
        "# Sample transformations\n",
        "df.filter(df['total_adults'] == 2).groupBy('total_children').agg({'total_room_nights': 'mean'}).withColumnRenamed('avg(total_room_nights)', 'room_per_night').show()"
      ],
      "metadata": {
        "colab": {
          "base_uri": "https://localhost:8080/"
        },
        "id": "2M6qNx6qxZHG",
        "outputId": "5585384c-606f-4b0a-bf2c-058cae40ce47"
      },
      "execution_count": null,
      "outputs": [
        {
          "output_type": "stream",
          "name": "stdout",
          "text": [
            "+-------------------+-----------------+\n",
            "|     total_children|   room_per_night|\n",
            "+-------------------+-----------------+\n",
            "|                0.0|1.634054834054834|\n",
            "|0.11966548840417278|1.018181818181818|\n",
            "|                1.0|1.951417004048583|\n",
            "|                4.0|              1.0|\n",
            "|                3.0|              2.0|\n",
            "|                2.0|        1.7109375|\n",
            "+-------------------+-----------------+\n",
            "\n"
          ]
        }
      ]
    },
    {
      "cell_type": "code",
      "source": [
        "df = df.withColumn('couple', sf.when(df.total_adults > 2, 'not-couple').otherwise('couple'))\n",
        "df.show()"
      ],
      "metadata": {
        "colab": {
          "base_uri": "https://localhost:8080/"
        },
        "id": "eU9DoSOSxZEx",
        "outputId": "1f992656-05f8-4eb4-e669-f2d3dfe7f2dd"
      },
      "execution_count": null,
      "outputs": [
        {
          "output_type": "stream",
          "name": "stdout",
          "text": [
            "+------------------+-----------+------------+--------------------+--------------------+--------------------+---------+------------------+------------------+-------------------+---------------+--------+--------------------+-----------+----------------+-------+----------+-----------+----------+-------------+-------------------------+--------------+----------+--------------------+------------+-------------+------------+--------------+------------+-----------------+-----------+-----+-------------+--------------+-------------+-----------------+------------+------------------+------+-----------------+----------------+----------------+---------+---------+---------+-----------------+-------------------+--------------+-------------+--------------+-----------------------+------------------------+-----------+----------------+----------------------+----------------+--------------+-----------+----------+------------------+-------------------+--------------------+---------------+-----------+-----------+------------------+--------------+-------+-----------+---------------+------+-------------+-----------+----------------+-----------------+------------+------------+-------------+----------+---------------+---------------------+-------------------+------+---------------------+------------+-----------------------+-------------------------+----------+-----------+----------------+--------------------+--------------------+--------------------+--------------------+------------------+---------------+---------------------+--------------+------------+------------+------------------+-------------+--------------------+---------------+------------------+---------------------+------------------+---------------------+---------------------+---------+--------------+---------------+------------------------+----------------------+----------------+------------+---------------+----------+----+---------------+--------------------+----------+-------------+-------------------+-------------------+-------------------+---------------+----------+--------------------+--------------------+--------------------+--------------------+----------+-------------+--------------+----------+\n",
            "|          hotel_id|       uuid|profile_type|           device_id|          visitor_id|           user_mcid|page_name|meta_activity_name|    meta_act_cntnt|      meta_timezone|meta_user_agent|lob_name|      pg_nm_omniture|device_type|      dvc_g_city|     os|os_version|app_version|query_city|query_country|query_travel_purpose_optd|travel_purpose|query_type|         query_value|checkin_date|checkout_date|total_adults|total_children|total_guests|total_room_nights|total_rooms|   ap|is_multi_room|length_of_stay|disp_sell_amt|disp_sell_amt_dis|is_free_cncl|htl_meal_plan_code|is_pah|usr_wal_bonus_bal|usr_wal_plus_bal|usr_wal_real_bal|room_code|room_name|room_type|roomstayqualifier|prc_aaj_ka_bhao_flg|prc_absrpn_amt|prc_amt_chrgd|prc_commission|prc_disp_amt_w_dis_srvr|prc_disp_amt_wo_dis_srvr|prc_div_fac|prc_extrapax_amt|prc_hotelier_promotion|prc_htl_base_prc|prc_mkpsrv_fee|prc_pay_mod|prc_profit|prc_sell_amt_w_tax|prc_sell_amt_wo_tax|prc_surge_applcbl_on|prc_surge_prcnt|prc_tax_htl|prc_wal_amt|prc_wallet_balance|prc_mmt_markup|cpn_amt|cpn_blckd_m|cpn_cashbck_amt|cpn_cd|cpn_code_main|cpn_dbl_dis|cpn_dd_surge_amt|cpn_dis_types_arr|cpn_mode_typ|cpn_orig_amt|cpn_spl_promo|cpn_status|cpn_wal_ded_amt|cpn_wal_intnsty_prcnt|cpn_wal_pls_amt_ded|exp_id|exp_city_tax_included|exp_disp_prc|exp_disp_prc_multiplier|exp_disp_prc_tax_included|exp_pol_id|exp_pol_ver|exp_rnk_algo_ver|filter_amenities_arr|  filter_applied_arr|      filter_loc_arr|filter_prop_type_arr|filter_removed_arr|filter_star_arr|filter_usr_rating_arr|filter_clr_all|filter_price|applied_sort|applied_sort_order|htl_city_code|is_htl_city_sold_out|is_htl_sold_out|htl_rnk_disp_order|htl_rating_disp_lstng|htl_rate_plan_code|is_htl_shrtlstd_lstng|is_htl_sold_out_lstng|policy_id|policy_version|is_htl_fc_lstng|htl_loc_mtch_prcnt_lstng|is_htl_mmt_assrd_lstng|is_htl_pah_lstng|country_code|      client_ip|company_id| env|session_vst_num|          session_id|time_spent|meta_row_type|   record_client_ts|      record_pdt_ts|record_processed_ts|bkg_chld_id_arr|bkg_txn_id|     correlation_key|         meta_row_id|    meta_row_id_clnt|    meta_row_id_srvr|event_date|browsing_date|meta_fnnl_step|    couple|\n",
            "+------------------+-----------+------------+--------------------+--------------------+--------------------+---------+------------------+------------------+-------------------+---------------+--------+--------------------+-----------+----------------+-------+----------+-----------+----------+-------------+-------------------------+--------------+----------+--------------------+------------+-------------+------------+--------------+------------+-----------------+-----------+-----+-------------+--------------+-------------+-----------------+------------+------------------+------+-----------------+----------------+----------------+---------+---------+---------+-----------------+-------------------+--------------+-------------+--------------+-----------------------+------------------------+-----------+----------------+----------------------+----------------+--------------+-----------+----------+------------------+-------------------+--------------------+---------------+-----------+-----------+------------------+--------------+-------+-----------+---------------+------+-------------+-----------+----------------+-----------------+------------+------------+-------------+----------+---------------+---------------------+-------------------+------+---------------------+------------+-----------------------+-------------------------+----------+-----------+----------------+--------------------+--------------------+--------------------+--------------------+------------------+---------------+---------------------+--------------+------------+------------+------------------+-------------+--------------------+---------------+------------------+---------------------+------------------+---------------------+---------------------+---------+--------------+---------------+------------------------+----------------------+----------------+------------+---------------+----------+----+---------------+--------------------+----------+-------------+-------------------+-------------------+-------------------+---------------+----------+--------------------+--------------------+--------------------+--------------------+----------+-------------+--------------+----------+\n",
            "|201603091704103064|U2DMB46CCCL|    PERSONAL|    296c2cb330cfc79d|2B60E331852A1F17-...|12922965978476714...|  listing|          pageexit|              NULL|India Standard Time|  Android_7.5.7|intl htl|                NULL|     mobile|     Tegallalang|ANDROID|       7.0|      7.5.7|  -2554009|           ch|                    False|          Work|       cty|          St. Moritz|  2019-05-30|   2019-06-01|           6|           1.0|         7.0|              6.0|        3.0| 59.0|         NULL|           2.0|      24152.0|          16263.0|        NULL|              NULL|  NULL|           2000.0|             0.0|             0.0|     NULL|     NULL|     NULL|   2e0e2e0e2e1e2e|               NULL|          NULL|         NULL|          NULL|                   NULL|                    NULL|       NULL|            NULL|                  NULL|            NULL|          NULL|       NULL|      NULL|              NULL|               NULL|                NULL|           NULL|       NULL|       NULL|            2000.0|          NULL|   NULL|       NULL|           NULL|  NULL|         NULL|       NULL|            NULL|             NULL|        NULL|        NULL|         NULL|      NULL|           NULL|                 NULL|               NULL|    31|                 NULL|          PN|                   NULL|                     NULL|      NULL|       NULL|      S_hsq101_B|                NULL|                NULL|                NULL|                NULL|              NULL|           NULL|                 NULL|          NULL|        NULL|  popularity|       high_to_low|         DAVO|               False|           NULL|                 8|                  0.0|              NULL|                false|                false|     NULL|          NULL|           true|                     0.0|                 False|            true|        NULL|    192.168.1.2|       mmt|prod|           1381|296c2cb330cfc79d~...|   28614.0|      request|2019-04-01 05:56:15|2019-04-01 05:56:18|2019-04-01 19:05:56|           NULL|      NULL|30ecf709-4b70-4ee...|95e276d5-292b-48b...|f8264304-794d-4c4...|e9e53cfe-7dc6-4a4...|2019-04-01|   2019-04-01|       listing|not-couple|\n",
            "|201803161648093814|UXJH1Q267UL|    PERSONAL|    389f4c84c232cbe9|1BE6036A4744462D-...|58058787741858558...|  listing|     hotel_clicked|201803161648093814|India Standard Time|  Android_7.5.8| dom htl|                NULL|     mobile|     Navi Mumbai|ANDROID|     7.1.2|      7.5.8|       del|           in|                    False|          Work|       cty|   New Delhi And NCR|  2019-09-16|   2019-09-20|           3|           0.0|         3.0|              4.0|        1.0|168.0|         NULL|           4.0|       3500.0|           2582.0|        NULL|              NULL|  NULL|           4800.0|             0.0|             0.0|     NULL|     NULL|     NULL|             3e0e|               NULL|          NULL|         NULL|          NULL|                   NULL|                    NULL|       NULL|            NULL|                  NULL|            NULL|          NULL|       NULL|      NULL|              NULL|               NULL|                NULL|           NULL|       NULL|       NULL|            4800.0|          NULL|   NULL|       NULL|           NULL|  NULL|         NULL|       NULL|            NULL|             NULL|        NULL|        NULL|         NULL|      NULL|           NULL|                 NULL|               NULL|    17|                 NULL|          PN|                   NULL|                     NULL|      NULL|       NULL|      S_MM_AND_B|                NULL|      Rs 0 - Rs 3500|       Greater Noida|                NULL|              NULL|           NULL|                 NULL|          NULL|        NULL|        NULL|              NULL|          DEL|               False|           NULL|                 6|                  5.0|              NULL|                false|                false|     NULL|          NULL|          false|                   75.25|                 False|            true|        NULL| 10.100.240.129|       mmt|prod|            130|389f4c84c232cbe9~130|      NULL|      request|2019-04-01 04:10:03|2019-04-01 04:10:48|2019-04-01 19:05:30|           NULL|      NULL|a7f74320-bd4d-4af...|6b091aba-bb98-411...|28417d09-a68b-404...|4491f213-8068-40e...|2019-04-01|   2019-04-01|       listing|not-couple|\n",
            "|   674463971971830|U2DMB46CCCL|    PERSONAL|    296c2cb330cfc79d|2B60E331852A1F17-...|12922965978476714...|  listing|          pageexit|              NULL|India Standard Time|  Android_7.5.7|intl htl|                NULL|     mobile|     Tegallalang|ANDROID|       7.0|      7.5.7|  -2554009|           ch|                    False|          Work|       cty|          St. Moritz|  2019-05-30|   2019-06-01|           6|           1.0|         7.0|              6.0|        3.0| 59.0|         NULL|           2.0|      37741.0|          28021.0|        NULL|              NULL|  NULL|           2000.0|             0.0|             0.0|     NULL|     NULL|     NULL|   2e0e2e0e2e1e2e|               NULL|          NULL|         NULL|          NULL|                   NULL|                    NULL|       NULL|            NULL|                  NULL|            NULL|          NULL|       NULL|      NULL|              NULL|               NULL|                NULL|           NULL|       NULL|       NULL|            2000.0|          NULL|   NULL|       NULL|           NULL|  NULL|         NULL|       NULL|            NULL|             NULL|        NULL|        NULL|         NULL|      NULL|           NULL|                 NULL|               NULL|    31|                 NULL|          PN|                   NULL|                     NULL|      NULL|       NULL|      S_hsq101_B|                NULL|                NULL|                NULL|                NULL|              NULL|           NULL|                 NULL|          NULL|        NULL|  popularity|       high_to_low|         DAVO|               False|           NULL|                 7|                  0.0|              NULL|                false|                false|     NULL|          NULL|           true|                     0.0|                 False|            true|        NULL|    192.168.1.2|       mmt|prod|           1381|296c2cb330cfc79d~...|   28614.0|      request|2019-04-01 05:56:15|2019-04-01 05:56:18|2019-04-01 19:05:56|           NULL|      NULL|30ecf709-4b70-4ee...|95e276d5-292b-48b...|f8264304-794d-4c4...|e9e53cfe-7dc6-4a4...|2019-04-01|   2019-04-01|       listing|not-couple|\n",
            "|201611011603268150|       NULL|    PERSONAL|    b01e5197dc04bbb0|2DD2521A052A0657-...|73223169612540188...|  listing|           filters|              NULL|India Standard Time|  Android_7.5.8| dom htl|                NULL|     mobile|Pimpri-Chinchwad|ANDROID|     8.0.0|      7.5.8|       del|           in|                    False|          Work|       cty|   New Delhi And NCR|  2019-04-01|   2019-04-04|           1|           0.0|         1.0|              3.0|        1.0|  0.0|         NULL|           3.0|       8999.0|           6880.0|        NULL|              NULL|  NULL|             NULL|            NULL|            NULL|     NULL|     NULL|     NULL|             1e0e|               NULL|          NULL|         NULL|          NULL|                   NULL|                    NULL|       NULL|            NULL|                  NULL|            NULL|          NULL|       NULL|      NULL|              NULL|               NULL|                NULL|           NULL|       NULL|       NULL|              NULL|          NULL|   NULL|       NULL|           NULL|  NULL|         NULL|       NULL|            NULL|             NULL|        NULL|        NULL|         NULL|      NULL|           NULL|                 NULL|               NULL|    10|                 NULL|          PN|                   NULL|                     NULL|      NULL|       NULL|      S_hsq641_B|                NULL|                NULL|                NULL|                NULL|              NULL|           NULL|                 NULL|          NULL|        NULL|  popularity|       high_to_low|          DEL|               False|           NULL|                42|                  4.1|              NULL|                false|                false|     NULL|          NULL|          false|                     0.0|                 False|            true|        NULL| 100.102.206.56|       mmt|prod|             32| b01e5197dc04bbb0~32|      NULL|      request|2019-04-01 06:32:47|2019-04-01 06:33:08|2019-04-01 19:05:21|           NULL|      NULL|2c7bf913-8e52-482...|7c6b17b7-8632-4aa...|ccbb6b3e-8a21-4be...|0f2f3cbb-05bb-4bd...|2019-04-01|   2019-04-01|       listing|    couple|\n",
            "|   674463971971841|UF6M5VOS4SM|    PERSONAL|62F01728-685B-443...|2DE040A9052A52B2-...|00234541700726785...|  listing| listing to detail|              NULL|                IST|           NULL|intl htl|mob:funnel:intl h...|     mobile|       New Delhi|    IOS|iOS_12.1.4|      6.2.8|      davo|           ch|                    False|       Leisure|    google|InterContinental ...|  2019-07-14|   2019-07-15|           2|           0.0|         2.0|              1.0|        1.0|104.0|         NULL|           1.0|      10596.0|          10596.0|        NULL|              NULL|  NULL|           1351.0|             0.0|             0.0|     NULL|     NULL|     NULL|             2e0e|               NULL|          NULL|         NULL|          NULL|                   NULL|                    NULL|       NULL|            NULL|                  NULL|            NULL|          NULL|       NULL|      NULL|              NULL|               NULL|                NULL|           NULL|       NULL|       NULL|            1351.0|          NULL|   NULL|       NULL|           NULL|  NULL|         NULL|       NULL|            NULL|             NULL|        NULL|        NULL|         NULL|      NULL|           NULL|                 NULL|               NULL|    31|                 NULL|          PN|                   NULL|                     NULL|      NULL|       NULL|       S_hsq61_B|                NULL|Loc_InterContinen...|InterContinental ...|                NULL|              NULL|           NULL|                 NULL|          NULL|        NULL|        NULL|              NULL|         DAVO|               False|           NULL|                 0|                  4.5|              NULL|                false|                false|     NULL|          NULL|           true|                    NULL|                 False|           false|        NULL|    192.168.1.9|       mmt|prod|            168|62F01728-685B-443...|   21441.0|      request|2019-04-01 06:49:49|2019-04-01 06:49:49|2019-04-01 19:05:45|           NULL|      NULL|947b9bf3-d55e-45e...|4976dc36-43fa-42b...|d60011b1ffe8a507c...|ad3e6fef-8ccf-44b...|2019-04-01|   2019-04-01|       listing|    couple|\n",
            "|201803161648093814|       NULL|    PERSONAL|    909b264761be9d02|2DAED8CE852A1C3A-...|19089274888689427...|  listing|          pageexit|              NULL|India Standard Time|  Android_7.4.8| dom htl|                NULL|     mobile|          Meerut|ANDROID|     7.1.2|      7.4.8|       bul|           in|                    False|       Leisure|       cty|         Bulandshahr|  2019-04-13|   2019-04-14|           2|           0.0|         2.0|              1.0|        1.0| 12.0|         NULL|           1.0|       3420.0|           2446.0|        NULL|              NULL|  NULL|             NULL|            NULL|            NULL|     NULL|     NULL|     NULL|             2e0e|               NULL|          NULL|         NULL|          NULL|                   NULL|                    NULL|       NULL|            NULL|                  NULL|            NULL|          NULL|       NULL|      NULL|              NULL|               NULL|                NULL|           NULL|       NULL|       NULL|              NULL|          NULL|   NULL|       NULL|           NULL|  NULL|         NULL|       NULL|            NULL|             NULL|        NULL|        NULL|         NULL|      NULL|           NULL|                 NULL|               NULL|    31|                 NULL|          PN|                   NULL|                     NULL|      NULL|       NULL|      S_hsq641_B|                NULL|                NULL|                NULL|                NULL|              NULL|           NULL|                 NULL|          NULL|        NULL|  popularity|       high_to_low|          DEL|               False|           NULL|                14|                  0.0|              NULL|                false|                false|     NULL|          NULL|          false|                     0.0|                 False|            true|        NULL|100.103.113.172|       mmt|prod|             57| 909b264761be9d02~57|   23003.0|      request|2019-04-01 15:07:27|2019-04-01 15:07:34|2019-04-01 19:05:59|           NULL|      NULL|92f3bcbc-799b-46b...|1479df0e-bdaf-407...|8189bbb9-4ad4-46e...|729c19af-394b-437...|2019-04-01|   2019-04-01|       listing|    couple|\n",
            "|   674463971971841|U2DMB46CCCL|    PERSONAL|    296c2cb330cfc79d|2B60E331852A1F17-...|12922965978476714...|  listing|          pageexit|              NULL|India Standard Time|  Android_7.5.7|intl htl|                NULL|     mobile|     Tegallalang|ANDROID|       7.0|      7.5.7|  -2554009|           ch|                    False|          Work|       cty|          St. Moritz|  2019-05-30|   2019-06-01|           6|           1.0|         7.0|              6.0|        3.0| 59.0|         NULL|           2.0|      44972.0|          37942.0|        NULL|              NULL|  NULL|           2000.0|             0.0|             0.0|     NULL|     NULL|     NULL|   2e0e2e0e2e1e2e|               NULL|          NULL|         NULL|          NULL|                   NULL|                    NULL|       NULL|            NULL|                  NULL|            NULL|          NULL|       NULL|      NULL|              NULL|               NULL|                NULL|           NULL|       NULL|       NULL|            2000.0|          NULL|   NULL|       NULL|           NULL|  NULL|         NULL|       NULL|            NULL|             NULL|        NULL|        NULL|         NULL|      NULL|           NULL|                 NULL|               NULL|    31|                 NULL|          PN|                   NULL|                     NULL|      NULL|       NULL|      S_hsq101_B|                NULL|                NULL|                NULL|                NULL|              NULL|           NULL|                 NULL|          NULL|        NULL|  popularity|       high_to_low|         DAVO|               False|           NULL|                 6|                  0.0|              NULL|                false|                false|     NULL|          NULL|           true|                     0.0|                 False|            true|        NULL|    192.168.1.2|       mmt|prod|           1381|296c2cb330cfc79d~...|   28614.0|      request|2019-04-01 05:56:15|2019-04-01 05:56:18|2019-04-01 19:05:56|           NULL|      NULL|30ecf709-4b70-4ee...|95e276d5-292b-48b...|f8264304-794d-4c4...|e9e53cfe-7dc6-4a4...|2019-04-01|   2019-04-01|       listing|not-couple|\n",
            "|201511141311078070|URMYO56FTKH|    PERSONAL|    153035e89ed83faf|                 vid|63053714912146913...|  listing|          pageexit|              NULL|India Standard Time|  Android_7.5.8| dom htl|                NULL|     mobile|            NULL|ANDROID|     8.1.0|      7.5.8|       del|           in|                    False|          Work|       cty|      Delhi Aerocity|  2019-05-02|   2019-05-03|           1|           0.0|         1.0|              1.0|        1.0| 31.0|         NULL|           1.0|       5699.0|           5699.0|        NULL|              NULL|  NULL|              0.0|             0.0|             0.0|     NULL|     NULL|     NULL|             1e0e|               NULL|          NULL|         NULL|          NULL|                   NULL|                    NULL|       NULL|            NULL|                  NULL|            NULL|          NULL|       NULL|      NULL|              NULL|               NULL|                NULL|           NULL|       NULL|       NULL|               0.0|          NULL|   NULL|       NULL|           NULL|  NULL|         NULL|       NULL|            NULL|             NULL|        NULL|        NULL|         NULL|      NULL|           NULL|                 NULL|               NULL|    31|                 NULL|          PN|                   NULL|                     NULL|      NULL|       NULL|      S_MM_AND_B|                NULL|               Hotel|      Delhi Aerocity|               Hotel|              NULL|           NULL|                 NULL|          NULL|        NULL|  popularity|       high_to_low|          DEL|               False|           NULL|                 0|                  4.0|              NULL|                false|                false|     NULL|          NULL|           true|       96.58000183105469|                  True|           false|        NULL|    100.71.7.71|       mmt|prod|              1|  153035e89ed83faf~1|  875445.0|      request|2019-04-01 14:54:59|2019-04-01 14:55:20|2019-04-01 19:05:49|           NULL|      NULL|a9416792-da19-404...|ff0fd534-dec0-44a...|6c11bb7b-16ae-42b...|88b80050-fa34-4b2...|2019-04-01|   2019-04-01|       listing|    couple|\n",
            "|201603092009546890|UZELINEGCNM|    PERSONAL|    e20b29d316e47978|2D5F1106852A2B3B-...|71459098336862548...|  listing|          pageexit|              NULL|India Standard Time|  Android_7.5.8|intl htl|                NULL|     mobile|           Noida|ANDROID|     8.0.0|      7.5.8|  -2554009|           ch|                    False|          Work|       cty|          St. Moritz|  2019-08-10|   2019-08-11|           3|           0.0|         3.0|             NULL|        1.0|131.0|         NULL|          NULL|      35241.0|          23662.0|        NULL|              NULL|  NULL|             NULL|            NULL|            NULL|     NULL|     NULL|     NULL|             3e0e|               NULL|          NULL|         NULL|          NULL|                   NULL|                    NULL|       NULL|            NULL|                  NULL|            NULL|          NULL|       NULL|      NULL|              NULL|               NULL|                NULL|           NULL|       NULL|       NULL|            1299.0|          NULL|   NULL|       NULL|           NULL|  NULL|         NULL|       NULL|            NULL|             NULL|        NULL|        NULL|         NULL|      NULL|           NULL|                 NULL|               NULL|  NULL|                 NULL|        NULL|                   NULL|                     NULL|      NULL|       NULL|            NULL|                NULL|                NULL|                NULL|                NULL|              NULL|           NULL|                 NULL|          NULL|        NULL|  popularity|       high_to_low|         DAVO|                NULL|           NULL|                20|                  0.0|              NULL|                false|                false|     NULL|          NULL|           true|                     0.0|                 False|           false|        NULL|  192.168.29.32|       mmt|prod|            487|                NULL|   31369.0|      request|2019-04-01 18:15:36|2019-04-01 18:15:38|2019-04-01 19:06:18|           NULL|      NULL|a63825e6-5565-4c6...|3fa1702a-f37c-480...|07a53919-9949-4c6...|                NULL|2019-04-01|   2019-04-01|       listing|not-couple|\n",
            "|201803161648093814|U7RMYV8EP9M|    PERSONAL|C971C192-C853-41A...|                NULL|47189779549187610...|  listing|          pageexit|              NULL|                IST|           NULL| dom htl|mob:funnel:domest...|     mobile|            NULL|    IOS|iOS_12.1.4|      6.2.8|       del|           in|                    False|       Leisure|       htl|      Mapple Express|  2019-04-03|   2019-04-05|           7|           0.0|         7.0|              6.0|        3.0|  2.0|         NULL|           2.0|       5508.0|           5508.0|        NULL|              NULL|  NULL|           1581.0|             0.0|             0.0|     NULL|     NULL|     NULL|     2e0e2e0e3e0e|               NULL|          NULL|         NULL|          NULL|                   NULL|                    NULL|       NULL|            NULL|                  NULL|            NULL|          NULL|       NULL|      NULL|              NULL|               NULL|                NULL|           NULL|       NULL|       NULL|            1581.0|          NULL|   NULL|       NULL|           NULL|  NULL|         NULL|       NULL|            NULL|             NULL|        NULL|        NULL|         NULL|      NULL|           NULL|                 NULL|               NULL|    31|                 NULL|          PN|                   NULL|                     NULL|      NULL|       NULL|       S_hsq95_P|                NULL|                NULL|                NULL|                NULL|              NULL|           NULL|                 NULL|          NULL|        NULL|        NULL|              NULL|          DEL|               False|           NULL|               107|                  5.0|              NULL|                false|                false|     NULL|          NULL|          false|                    NULL|                 False|           false|        NULL|           NULL|       mmt|prod|             17|C971C192-C853-41A...|  172166.0|      request|2019-04-01 16:56:50|2019-04-01 16:56:51|2019-04-01 19:06:23|           NULL|      NULL|e0fe8c72-3ec5-4cf...|bc8f553d-1ca5-48c...|98afd18565735b3c8...|e9ba71d2-54eb-4dd...|2019-04-01|   2019-04-01|       listing|not-couple|\n",
            "|201603092009546890|U2DMB46CCCL|    PERSONAL|    296c2cb330cfc79d|2B60E331852A1F17-...|12922965978476714...|  listing|          pageexit|              NULL|India Standard Time|  Android_7.5.7|intl htl|                NULL|     mobile|     Tegallalang|ANDROID|       7.0|      7.5.7|  -2554009|           ch|                    False|          Work|       cty|          St. Moritz|  2019-05-30|   2019-06-01|           6|           1.0|         7.0|              6.0|        3.0| 59.0|         NULL|           2.0|      58025.0|          50337.0|        NULL|              NULL|  NULL|           2000.0|             0.0|             0.0|     NULL|     NULL|     NULL|   2e0e2e0e2e1e2e|               NULL|          NULL|         NULL|          NULL|                   NULL|                    NULL|       NULL|            NULL|                  NULL|            NULL|          NULL|       NULL|      NULL|              NULL|               NULL|                NULL|           NULL|       NULL|       NULL|            2000.0|          NULL|   NULL|       NULL|           NULL|  NULL|         NULL|       NULL|            NULL|             NULL|        NULL|        NULL|         NULL|      NULL|           NULL|                 NULL|               NULL|    31|                 NULL|          PN|                   NULL|                     NULL|      NULL|       NULL|      S_hsq101_B|                NULL|                NULL|                NULL|                NULL|              NULL|           NULL|                 NULL|          NULL|        NULL|  popularity|       high_to_low|         DAVO|               False|           NULL|                 5|                  0.0|              NULL|                false|                false|     NULL|          NULL|           true|                     0.0|                 False|            true|        NULL|    192.168.1.2|       mmt|prod|           1381|296c2cb330cfc79d~...|   28614.0|      request|2019-04-01 05:56:15|2019-04-01 05:56:18|2019-04-01 19:05:56|           NULL|      NULL|30ecf709-4b70-4ee...|95e276d5-292b-48b...|f8264304-794d-4c4...|e9e53cfe-7dc6-4a4...|2019-04-01|   2019-04-01|       listing|not-couple|\n",
            "|201611011603268150|UQXL382F0YM|    PERSONAL|    d6c5e12278e23b09|2CEE21DC8530C5C0-...|50786034465471215...|  listing|          pageexit|              NULL|India Standard Time|  Android_7.5.8| dom htl|                NULL|     mobile|       Rishikesh|ANDROID|     8.1.0|      7.5.8|       del|           in|                    False|          Work|       cty|             Gurgaon|  2019-04-03|   2019-04-04|           2|           0.0|         2.0|              1.0|        1.0|  1.0|         NULL|           1.0|       8600.0|           6157.0|        NULL|              NULL|  NULL|            750.0|             0.0|             0.0|     NULL|     NULL|     NULL|             2e0e|               NULL|          NULL|         NULL|          NULL|                   NULL|                    NULL|       NULL|            NULL|                  NULL|            NULL|          NULL|       NULL|      NULL|              NULL|               NULL|                NULL|           NULL|       NULL|       NULL|             750.0|          NULL|   NULL|       NULL|           NULL|  NULL|         NULL|       NULL|            NULL|             NULL|        NULL|        NULL|         NULL|      NULL|           NULL|                 NULL|               NULL|    18|                 NULL|          PN|                   NULL|                     NULL|      NULL|       NULL|      S_MM_AND_B|                NULL|       4 Star,5 Star|             Gurgaon|                NULL|              NULL|            4,5|                 NULL|          NULL|        NULL|  popularity|       high_to_low|          DEL|               False|           NULL|                 9|                  4.1|              NULL|                false|                false|     NULL|          NULL|          false|       89.90750122070312|                 False|            true|        NULL|  192.168.1.174|       mmt|prod|            594|d6c5e12278e23b09~594| 2849616.0|      request|2019-04-02 15:04:49|2019-04-01 15:21:09|2019-04-01 19:05:25|           NULL|      NULL|4a4c6020-625b-4b8...|be4548ab-f6c4-441...|2c603e6f-0c79-469...|ccdc8763-eae1-4b3...|2019-04-01|   2019-04-01|       listing|    couple|\n",
            "|201808292253043262|U2DMB46CCCL|    PERSONAL|    296c2cb330cfc79d|2B60E331852A1F17-...|12922965978476714...|  listing|          pageexit|              NULL|India Standard Time|  Android_7.5.7|intl htl|                NULL|     mobile|     Tegallalang|ANDROID|       7.0|      7.5.7|  -2554009|           ch|                    False|          Work|       cty|          St. Moritz|  2019-05-30|   2019-06-01|           6|           1.0|         7.0|              6.0|        3.0| 59.0|         NULL|           2.0|      44210.0|          44210.0|        NULL|              NULL|  NULL|           2000.0|             0.0|             0.0|     NULL|     NULL|     NULL|   2e0e2e0e2e1e2e|               NULL|          NULL|         NULL|          NULL|                   NULL|                    NULL|       NULL|            NULL|                  NULL|            NULL|          NULL|       NULL|      NULL|              NULL|               NULL|                NULL|           NULL|       NULL|       NULL|            2000.0|          NULL|   NULL|       NULL|           NULL|  NULL|         NULL|       NULL|            NULL|             NULL|        NULL|        NULL|         NULL|      NULL|           NULL|                 NULL|               NULL|    31|                 NULL|          PN|                   NULL|                     NULL|      NULL|       NULL|      S_hsq101_B|                NULL|                NULL|                NULL|                NULL|              NULL|           NULL|                 NULL|          NULL|        NULL|  popularity|       high_to_low|         DAVO|               False|           NULL|                 9|                  0.0|              NULL|                false|                false|     NULL|          NULL|          false|                     0.0|                 False|            true|        NULL|    192.168.1.2|       mmt|prod|           1381|296c2cb330cfc79d~...|   28614.0|      request|2019-04-01 05:56:15|2019-04-01 05:56:18|2019-04-01 19:05:56|           NULL|      NULL|30ecf709-4b70-4ee...|95e276d5-292b-48b...|f8264304-794d-4c4...|e9e53cfe-7dc6-4a4...|2019-04-01|   2019-04-01|       listing|not-couple|\n",
            "|201803161648093814|UKIH2RRRJ0L|    PERSONAL|570C326B-2BF5-400...|                NULL|90574645387553704...|  listing| listing to detail|              NULL|                IST|           NULL| dom htl|mob:funnel:domest...|     mobile|          Jaipur|    IOS|iOS_12.1.4|      6.2.6|       del|           in|                    False|       Leisure|       htl|Crowne Plaza Grea...|  2019-10-15|   2019-10-20|           2|           0.0|         2.0|              5.0|        1.0|197.0|         NULL|           5.0|       2244.0|           2244.0|        NULL|              NULL|  NULL|              0.0|             0.0|             0.0|     NULL|     NULL|     NULL|             2e0e|               NULL|          NULL|         NULL|          NULL|                   NULL|                    NULL|       NULL|            NULL|                  NULL|            NULL|          NULL|       NULL|      NULL|              NULL|               NULL|                NULL|           NULL|       NULL|       NULL|               0.0|          NULL|   NULL|       NULL|           NULL|  NULL|         NULL|       NULL|            NULL|             NULL|        NULL|        NULL|         NULL|      NULL|           NULL|                 NULL|               NULL|    31|                 NULL|          PN|                   NULL|                     NULL|      NULL|       NULL|      S_MM_IOS_B|                NULL|                NULL|                NULL|                NULL|              NULL|           NULL|                 NULL|          NULL|        NULL|        NULL|              NULL|          DEL|               False|           NULL|                25|                  5.0|              NULL|                false|                false|     NULL|          NULL|          false|                   50.25|                 False|           false|        NULL|           NULL|       mmt|prod|            133|570C326B-2BF5-400...|  520228.0|      request|2019-04-01 02:53:08|2019-04-01 02:53:09|2019-04-01 19:06:10|           NULL|      NULL|fcdcc438-22a7-424...|c024b575-63de-4d3...|447edfb3b8233c32c...|48e0f53f-95c5-4bd...|2019-04-01|   2019-04-01|       listing|    couple|\n",
            "|201801081726455371|UF6M5VOS4SM|    PERSONAL|62F01728-685B-443...|2DE040A9052A52B2-...|00234541700726785...|  listing| listing to detail|              NULL|                IST|           NULL|intl htl|mob:funnel:intl h...|     mobile|       New Delhi|    IOS|iOS_12.1.4|      6.2.8|      davo|           ch|                    False|       Leisure|    google|InterContinental ...|  2019-07-14|   2019-07-15|           2|           0.0|         2.0|              1.0|        1.0|104.0|         NULL|           1.0|       6520.0|           6520.0|        NULL|              NULL|  NULL|           1351.0|             0.0|             0.0|     NULL|     NULL|     NULL|             2e0e|               NULL|          NULL|         NULL|          NULL|                   NULL|                    NULL|       NULL|            NULL|                  NULL|            NULL|          NULL|       NULL|      NULL|              NULL|               NULL|                NULL|           NULL|       NULL|       NULL|            1351.0|          NULL|   NULL|       NULL|           NULL|  NULL|         NULL|       NULL|            NULL|             NULL|        NULL|        NULL|         NULL|      NULL|           NULL|                 NULL|               NULL|    31|                 NULL|          PN|                   NULL|                     NULL|      NULL|       NULL|       S_hsq61_B|                NULL|Loc_InterContinen...|InterContinental ...|                NULL|              NULL|           NULL|                 NULL|          NULL|        NULL|        NULL|              NULL|         DAVO|               False|           NULL|                 1|                  4.0|              NULL|                false|                false|     NULL|          NULL|           true|                    NULL|                 False|           false|        NULL|    192.168.1.9|       mmt|prod|            168|62F01728-685B-443...|   21441.0|      request|2019-04-01 06:49:49|2019-04-01 06:49:49|2019-04-01 19:05:45|           NULL|      NULL|947b9bf3-d55e-45e...|4976dc36-43fa-42b...|d60011b1ffe8a507c...|ad3e6fef-8ccf-44b...|2019-04-01|   2019-04-01|       listing|    couple|\n",
            "|201503191002004585|U2DMBNC7J7M|    PERSONAL|    96ad89fdaca28f59|2C5A0AEA052A05AD-...|71627838630676424...|  listing|     hotel_clicked|  2017033111362710|India Standard Time|  Android_7.5.1| dom htl|                NULL|     mobile|        Kashipur|ANDROID|       5.1|      7.5.1|       del|           in|                    False|       Leisure|       cty|   New Delhi And NCR|  2019-04-02|   2019-04-03|           2|           0.0|         2.0|              1.0|        1.0|  1.0|         NULL|           1.0|       3900.0|           2586.0|        NULL|              NULL|  NULL|              0.0|             0.0|             0.0|     NULL|     NULL|     NULL|             2e0e|               NULL|          NULL|         NULL|          NULL|                   NULL|                    NULL|       NULL|            NULL|                  NULL|            NULL|          NULL|       NULL|      NULL|              NULL|               NULL|                NULL|           NULL|       NULL|       NULL|               0.0|          NULL|   NULL|       NULL|           NULL|  NULL|         NULL|       NULL|            NULL|             NULL|        NULL|        NULL|         NULL|      NULL|           NULL|                 NULL|               NULL|    18|                 NULL|          PN|                   NULL|                     NULL|      NULL|       NULL|      S_hsq134_P|                NULL|                NULL|                NULL|                NULL|              NULL|           NULL|                 NULL|          NULL|        NULL|        NULL|              NULL|          DEL|               False|           NULL|                 7|                  4.0|              NULL|                false|                false|     NULL|          NULL|          false|                   100.0|                 False|           false|        NULL|  56.76.241.116|       mmt|prod|            165|96ad89fdaca28f59~165|      NULL|      request|2019-04-01 03:31:14|2019-04-01 03:31:35|2019-04-01 19:05:38|           NULL|      NULL|8d3030df-9626-4b7...|5f89f816-618e-45c...|b160ceb9-4039-4a6...|35503417-3faa-414...|2019-04-01|   2019-04-01|       listing|    couple|\n",
            "|201801081726455371|U2DMB46CCCL|    PERSONAL|    296c2cb330cfc79d|2B60E331852A1F17-...|12922965978476714...|  listing|          pageexit|              NULL|India Standard Time|  Android_7.5.7|intl htl|                NULL|     mobile|     Tegallalang|ANDROID|       7.0|      7.5.7|  -2554009|           ch|                    False|          Work|       cty|          St. Moritz|  2019-05-30|   2019-06-01|           6|           1.0|         7.0|              6.0|        3.0| 59.0|         NULL|           2.0|      48424.0|          40819.0|        NULL|              NULL|  NULL|           2000.0|             0.0|             0.0|     NULL|     NULL|     NULL|   2e0e2e0e2e1e2e|               NULL|          NULL|         NULL|          NULL|                   NULL|                    NULL|       NULL|            NULL|                  NULL|            NULL|          NULL|       NULL|      NULL|              NULL|               NULL|                NULL|           NULL|       NULL|       NULL|            2000.0|          NULL|   NULL|       NULL|           NULL|  NULL|         NULL|       NULL|            NULL|             NULL|        NULL|        NULL|         NULL|      NULL|           NULL|                 NULL|               NULL|    31|                 NULL|          PN|                   NULL|                     NULL|      NULL|       NULL|      S_hsq101_B|                NULL|                NULL|                NULL|                NULL|              NULL|           NULL|                 NULL|          NULL|        NULL|  popularity|       high_to_low|         DAVO|               False|           NULL|                10|                  0.0|              NULL|                false|                false|     NULL|          NULL|           true|                     0.0|                 False|           false|        NULL|    192.168.1.2|       mmt|prod|           1381|296c2cb330cfc79d~...|   28614.0|      request|2019-04-01 05:56:15|2019-04-01 05:56:18|2019-04-01 19:05:56|           NULL|      NULL|30ecf709-4b70-4ee...|95e276d5-292b-48b...|f8264304-794d-4c4...|e9e53cfe-7dc6-4a4...|2019-04-01|   2019-04-01|       listing|not-couple|\n",
            "|201803161648093814|USOMQQF98YM|    PERSONAL|    5239b41536019b70|2DEEB0F2052A04BE-...|46259495235530936...|  listing|     hotel_clicked|201409031204276595|India Standard Time|  Android_7.5.8| dom htl|                NULL|     mobile|       Bengaluru|ANDROID|     8.0.0|      7.5.8|       del|           in|                     True|          Work|       cty|   New Delhi And NCR|  2019-04-02|   2019-04-03|           1|           0.0|         1.0|              1.0|        1.0|  1.0|         NULL|           1.0|       2966.0|           2118.0|        NULL|              NULL|  NULL|              0.0|          2000.0|             0.0|     NULL|     NULL|     NULL|             1e0e|               NULL|          NULL|         NULL|          NULL|                   NULL|                    NULL|       NULL|            NULL|                  NULL|            NULL|          NULL|       NULL|      NULL|              NULL|               NULL|                NULL|           NULL|       NULL|       NULL|            2000.0|          NULL|   NULL|       NULL|           NULL|  NULL|         NULL|       NULL|            NULL|             NULL|        NULL|        NULL|         NULL|      NULL|           NULL|                 NULL|               NULL|    18|                 NULL|          PN|                   NULL|                     NULL|      NULL|       NULL|       S_price_B|                NULL|Rs 2000 - Rs 6000...|                NULL|                NULL|              NULL|              3|                 NULL|          NULL|        NULL|        NULL|              NULL|          DEL|               False|           NULL|                25|                  5.0|              NULL|                false|                false|     NULL|          NULL|          false|                     0.0|                 False|            true|        NULL|  10.30.206.210|       mmt|prod|             40| 5239b41536019b70~40|      NULL|      request|2019-04-01 05:23:41|2019-04-01 05:23:43|2019-04-01 19:06:03|           NULL|      NULL|df619b92-254f-4b8...|2028d81b-f277-41b...|e9529453-f6fb-4a7...|d03a95e7-110c-4ba...|2019-04-01|   2019-04-01|       listing|    couple|\n",
            "|   674463971974746|UF6M5VOS4SM|    PERSONAL|62F01728-685B-443...|2DE040A9052A52B2-...|00234541700726785...|  listing| listing to detail|              NULL|                IST|           NULL|intl htl|mob:funnel:intl h...|     mobile|       New Delhi|    IOS|iOS_12.1.4|      6.2.8|      davo|           ch|                    False|       Leisure|    google|InterContinental ...|  2019-07-14|   2019-07-15|           2|           0.0|         2.0|              1.0|        1.0|104.0|         NULL|           1.0|      11042.0|          11042.0|        NULL|              NULL|  NULL|           1351.0|             0.0|             0.0|     NULL|     NULL|     NULL|             2e0e|               NULL|          NULL|         NULL|          NULL|                   NULL|                    NULL|       NULL|            NULL|                  NULL|            NULL|          NULL|       NULL|      NULL|              NULL|               NULL|                NULL|           NULL|       NULL|       NULL|            1351.0|          NULL|   NULL|       NULL|           NULL|  NULL|         NULL|       NULL|            NULL|             NULL|        NULL|        NULL|         NULL|      NULL|           NULL|                 NULL|               NULL|    31|                 NULL|          PN|                   NULL|                     NULL|      NULL|       NULL|       S_hsq61_B|                NULL|Loc_InterContinen...|InterContinental ...|                NULL|              NULL|           NULL|                 NULL|          NULL|        NULL|        NULL|              NULL|         DAVO|               False|           NULL|                 2|                  4.0|              NULL|                false|                false|     NULL|          NULL|           true|                    NULL|                 False|           false|        NULL|    192.168.1.9|       mmt|prod|            168|62F01728-685B-443...|   21441.0|      request|2019-04-01 06:49:49|2019-04-01 06:49:49|2019-04-01 19:05:45|           NULL|      NULL|947b9bf3-d55e-45e...|4976dc36-43fa-42b...|d60011b1ffe8a507c...|ad3e6fef-8ccf-44b...|2019-04-01|   2019-04-01|       listing|    couple|\n",
            "|201611011603268150|UXDMRTA2I2H|    PERSONAL|    ea567c89ffec6804|2D89326D852A39B9-...|15189898010196734...|  listing|           filters|              NULL|India Standard Time|  Android_7.5.8| dom htl|                NULL|     mobile|       New Delhi|ANDROID|         9|      7.5.8|       del|           in|                    False|          Work|       cty|   New Delhi And NCR|  2019-04-01|   2019-04-02|           2|           0.0|         2.0|              1.0|        1.0|  0.0|         NULL|           1.0|       8600.0|           5933.0|        NULL|              NULL|  NULL|              0.0|             0.0|             0.0|     NULL|     NULL|     NULL|             2e0e|               NULL|          NULL|         NULL|          NULL|                   NULL|                    NULL|       NULL|            NULL|                  NULL|            NULL|          NULL|       NULL|      NULL|              NULL|               NULL|                NULL|           NULL|       NULL|       NULL|               0.0|          NULL|   NULL|       NULL|           NULL|  NULL|         NULL|       NULL|            NULL|             NULL|        NULL|        NULL|         NULL|      NULL|           NULL|                 NULL|               NULL|    17|                 NULL|          PN|                   NULL|                     NULL|      NULL|       NULL|      S_MM_AND_B|                NULL|                NULL|             Gurgaon|                NULL|              NULL|           NULL|                 NULL|          NULL|        NULL|  popularity|       high_to_low|          DEL|               False|           NULL|                 9|                  4.1|              NULL|                false|                false|     NULL|          NULL|          false|       89.90750122070312|                 False|            true|        NULL| 100.68.144.187|       mmt|prod|             91| ea567c89ffec6804~91|      NULL|      request|2019-04-01 07:13:40|2019-04-01 07:13:42|2019-04-01 19:05:35|           NULL|      NULL|90744e60-c51d-47b...|95d81443-9c81-4c3...|9a0149f4-437a-4f2...|71410b3a-5ef2-484...|2019-04-01|   2019-04-01|       listing|    couple|\n",
            "+------------------+-----------+------------+--------------------+--------------------+--------------------+---------+------------------+------------------+-------------------+---------------+--------+--------------------+-----------+----------------+-------+----------+-----------+----------+-------------+-------------------------+--------------+----------+--------------------+------------+-------------+------------+--------------+------------+-----------------+-----------+-----+-------------+--------------+-------------+-----------------+------------+------------------+------+-----------------+----------------+----------------+---------+---------+---------+-----------------+-------------------+--------------+-------------+--------------+-----------------------+------------------------+-----------+----------------+----------------------+----------------+--------------+-----------+----------+------------------+-------------------+--------------------+---------------+-----------+-----------+------------------+--------------+-------+-----------+---------------+------+-------------+-----------+----------------+-----------------+------------+------------+-------------+----------+---------------+---------------------+-------------------+------+---------------------+------------+-----------------------+-------------------------+----------+-----------+----------------+--------------------+--------------------+--------------------+--------------------+------------------+---------------+---------------------+--------------+------------+------------+------------------+-------------+--------------------+---------------+------------------+---------------------+------------------+---------------------+---------------------+---------+--------------+---------------+------------------------+----------------------+----------------+------------+---------------+----------+----+---------------+--------------------+----------+-------------+-------------------+-------------------+-------------------+---------------+----------+--------------------+--------------------+--------------------+--------------------+----------+-------------+--------------+----------+\n",
            "only showing top 20 rows\n",
            "\n"
          ]
        }
      ]
    },
    {
      "cell_type": "code",
      "source": [
        "df.select('couple').groupBy('couple').count().show()"
      ],
      "metadata": {
        "colab": {
          "base_uri": "https://localhost:8080/"
        },
        "id": "nni9-oeWxZB6",
        "outputId": "f2cd7a34-1037-4974-a208-b970a83bd6e2"
      },
      "execution_count": null,
      "outputs": [
        {
          "output_type": "stream",
          "name": "stdout",
          "text": [
            "+----------+-----+\n",
            "|    couple|count|\n",
            "+----------+-----+\n",
            "|    couple| 9982|\n",
            "|not-couple| 1733|\n",
            "+----------+-----+\n",
            "\n"
          ]
        }
      ]
    },
    {
      "cell_type": "code",
      "source": [
        "df.withColumnRenamed('couple', '2-adults').show()"
      ],
      "metadata": {
        "colab": {
          "base_uri": "https://localhost:8080/"
        },
        "id": "oFCKE3B_xY_N",
        "outputId": "2ece5e88-9b9b-4725-894f-dcd5c69aa775"
      },
      "execution_count": null,
      "outputs": [
        {
          "output_type": "stream",
          "name": "stdout",
          "text": [
            "+------------------+-----------+------------+--------------------+--------------------+--------------------+---------+------------------+------------------+-------------------+---------------+--------+--------------------+-----------+----------------+-------+----------+-----------+----------+-------------+-------------------------+--------------+----------+--------------------+------------+-------------+------------+--------------+------------+-----------------+-----------+-----+-------------+--------------+-------------+-----------------+------------+------------------+------+-----------------+----------------+----------------+---------+---------+---------+-----------------+-------------------+--------------+-------------+--------------+-----------------------+------------------------+-----------+----------------+----------------------+----------------+--------------+-----------+----------+------------------+-------------------+--------------------+---------------+-----------+-----------+------------------+--------------+-------+-----------+---------------+------+-------------+-----------+----------------+-----------------+------------+------------+-------------+----------+---------------+---------------------+-------------------+------+---------------------+------------+-----------------------+-------------------------+----------+-----------+----------------+--------------------+--------------------+--------------------+--------------------+------------------+---------------+---------------------+--------------+------------+------------+------------------+-------------+--------------------+---------------+------------------+---------------------+------------------+---------------------+---------------------+---------+--------------+---------------+------------------------+----------------------+----------------+------------+---------------+----------+----+---------------+--------------------+----------+-------------+-------------------+-------------------+-------------------+---------------+----------+--------------------+--------------------+--------------------+--------------------+----------+-------------+--------------+----------+\n",
            "|          hotel_id|       uuid|profile_type|           device_id|          visitor_id|           user_mcid|page_name|meta_activity_name|    meta_act_cntnt|      meta_timezone|meta_user_agent|lob_name|      pg_nm_omniture|device_type|      dvc_g_city|     os|os_version|app_version|query_city|query_country|query_travel_purpose_optd|travel_purpose|query_type|         query_value|checkin_date|checkout_date|total_adults|total_children|total_guests|total_room_nights|total_rooms|   ap|is_multi_room|length_of_stay|disp_sell_amt|disp_sell_amt_dis|is_free_cncl|htl_meal_plan_code|is_pah|usr_wal_bonus_bal|usr_wal_plus_bal|usr_wal_real_bal|room_code|room_name|room_type|roomstayqualifier|prc_aaj_ka_bhao_flg|prc_absrpn_amt|prc_amt_chrgd|prc_commission|prc_disp_amt_w_dis_srvr|prc_disp_amt_wo_dis_srvr|prc_div_fac|prc_extrapax_amt|prc_hotelier_promotion|prc_htl_base_prc|prc_mkpsrv_fee|prc_pay_mod|prc_profit|prc_sell_amt_w_tax|prc_sell_amt_wo_tax|prc_surge_applcbl_on|prc_surge_prcnt|prc_tax_htl|prc_wal_amt|prc_wallet_balance|prc_mmt_markup|cpn_amt|cpn_blckd_m|cpn_cashbck_amt|cpn_cd|cpn_code_main|cpn_dbl_dis|cpn_dd_surge_amt|cpn_dis_types_arr|cpn_mode_typ|cpn_orig_amt|cpn_spl_promo|cpn_status|cpn_wal_ded_amt|cpn_wal_intnsty_prcnt|cpn_wal_pls_amt_ded|exp_id|exp_city_tax_included|exp_disp_prc|exp_disp_prc_multiplier|exp_disp_prc_tax_included|exp_pol_id|exp_pol_ver|exp_rnk_algo_ver|filter_amenities_arr|  filter_applied_arr|      filter_loc_arr|filter_prop_type_arr|filter_removed_arr|filter_star_arr|filter_usr_rating_arr|filter_clr_all|filter_price|applied_sort|applied_sort_order|htl_city_code|is_htl_city_sold_out|is_htl_sold_out|htl_rnk_disp_order|htl_rating_disp_lstng|htl_rate_plan_code|is_htl_shrtlstd_lstng|is_htl_sold_out_lstng|policy_id|policy_version|is_htl_fc_lstng|htl_loc_mtch_prcnt_lstng|is_htl_mmt_assrd_lstng|is_htl_pah_lstng|country_code|      client_ip|company_id| env|session_vst_num|          session_id|time_spent|meta_row_type|   record_client_ts|      record_pdt_ts|record_processed_ts|bkg_chld_id_arr|bkg_txn_id|     correlation_key|         meta_row_id|    meta_row_id_clnt|    meta_row_id_srvr|event_date|browsing_date|meta_fnnl_step|  2-adults|\n",
            "+------------------+-----------+------------+--------------------+--------------------+--------------------+---------+------------------+------------------+-------------------+---------------+--------+--------------------+-----------+----------------+-------+----------+-----------+----------+-------------+-------------------------+--------------+----------+--------------------+------------+-------------+------------+--------------+------------+-----------------+-----------+-----+-------------+--------------+-------------+-----------------+------------+------------------+------+-----------------+----------------+----------------+---------+---------+---------+-----------------+-------------------+--------------+-------------+--------------+-----------------------+------------------------+-----------+----------------+----------------------+----------------+--------------+-----------+----------+------------------+-------------------+--------------------+---------------+-----------+-----------+------------------+--------------+-------+-----------+---------------+------+-------------+-----------+----------------+-----------------+------------+------------+-------------+----------+---------------+---------------------+-------------------+------+---------------------+------------+-----------------------+-------------------------+----------+-----------+----------------+--------------------+--------------------+--------------------+--------------------+------------------+---------------+---------------------+--------------+------------+------------+------------------+-------------+--------------------+---------------+------------------+---------------------+------------------+---------------------+---------------------+---------+--------------+---------------+------------------------+----------------------+----------------+------------+---------------+----------+----+---------------+--------------------+----------+-------------+-------------------+-------------------+-------------------+---------------+----------+--------------------+--------------------+--------------------+--------------------+----------+-------------+--------------+----------+\n",
            "|201603091704103064|U2DMB46CCCL|    PERSONAL|    296c2cb330cfc79d|2B60E331852A1F17-...|12922965978476714...|  listing|          pageexit|              NULL|India Standard Time|  Android_7.5.7|intl htl|                NULL|     mobile|     Tegallalang|ANDROID|       7.0|      7.5.7|  -2554009|           ch|                    False|          Work|       cty|          St. Moritz|  2019-05-30|   2019-06-01|           6|           1.0|         7.0|              6.0|        3.0| 59.0|         NULL|           2.0|      24152.0|          16263.0|        NULL|              NULL|  NULL|           2000.0|             0.0|             0.0|     NULL|     NULL|     NULL|   2e0e2e0e2e1e2e|               NULL|          NULL|         NULL|          NULL|                   NULL|                    NULL|       NULL|            NULL|                  NULL|            NULL|          NULL|       NULL|      NULL|              NULL|               NULL|                NULL|           NULL|       NULL|       NULL|            2000.0|          NULL|   NULL|       NULL|           NULL|  NULL|         NULL|       NULL|            NULL|             NULL|        NULL|        NULL|         NULL|      NULL|           NULL|                 NULL|               NULL|    31|                 NULL|          PN|                   NULL|                     NULL|      NULL|       NULL|      S_hsq101_B|                NULL|                NULL|                NULL|                NULL|              NULL|           NULL|                 NULL|          NULL|        NULL|  popularity|       high_to_low|         DAVO|               False|           NULL|                 8|                  0.0|              NULL|                false|                false|     NULL|          NULL|           true|                     0.0|                 False|            true|        NULL|    192.168.1.2|       mmt|prod|           1381|296c2cb330cfc79d~...|   28614.0|      request|2019-04-01 05:56:15|2019-04-01 05:56:18|2019-04-01 19:05:56|           NULL|      NULL|30ecf709-4b70-4ee...|95e276d5-292b-48b...|f8264304-794d-4c4...|e9e53cfe-7dc6-4a4...|2019-04-01|   2019-04-01|       listing|not-couple|\n",
            "|201803161648093814|UXJH1Q267UL|    PERSONAL|    389f4c84c232cbe9|1BE6036A4744462D-...|58058787741858558...|  listing|     hotel_clicked|201803161648093814|India Standard Time|  Android_7.5.8| dom htl|                NULL|     mobile|     Navi Mumbai|ANDROID|     7.1.2|      7.5.8|       del|           in|                    False|          Work|       cty|   New Delhi And NCR|  2019-09-16|   2019-09-20|           3|           0.0|         3.0|              4.0|        1.0|168.0|         NULL|           4.0|       3500.0|           2582.0|        NULL|              NULL|  NULL|           4800.0|             0.0|             0.0|     NULL|     NULL|     NULL|             3e0e|               NULL|          NULL|         NULL|          NULL|                   NULL|                    NULL|       NULL|            NULL|                  NULL|            NULL|          NULL|       NULL|      NULL|              NULL|               NULL|                NULL|           NULL|       NULL|       NULL|            4800.0|          NULL|   NULL|       NULL|           NULL|  NULL|         NULL|       NULL|            NULL|             NULL|        NULL|        NULL|         NULL|      NULL|           NULL|                 NULL|               NULL|    17|                 NULL|          PN|                   NULL|                     NULL|      NULL|       NULL|      S_MM_AND_B|                NULL|      Rs 0 - Rs 3500|       Greater Noida|                NULL|              NULL|           NULL|                 NULL|          NULL|        NULL|        NULL|              NULL|          DEL|               False|           NULL|                 6|                  5.0|              NULL|                false|                false|     NULL|          NULL|          false|                   75.25|                 False|            true|        NULL| 10.100.240.129|       mmt|prod|            130|389f4c84c232cbe9~130|      NULL|      request|2019-04-01 04:10:03|2019-04-01 04:10:48|2019-04-01 19:05:30|           NULL|      NULL|a7f74320-bd4d-4af...|6b091aba-bb98-411...|28417d09-a68b-404...|4491f213-8068-40e...|2019-04-01|   2019-04-01|       listing|not-couple|\n",
            "|   674463971971830|U2DMB46CCCL|    PERSONAL|    296c2cb330cfc79d|2B60E331852A1F17-...|12922965978476714...|  listing|          pageexit|              NULL|India Standard Time|  Android_7.5.7|intl htl|                NULL|     mobile|     Tegallalang|ANDROID|       7.0|      7.5.7|  -2554009|           ch|                    False|          Work|       cty|          St. Moritz|  2019-05-30|   2019-06-01|           6|           1.0|         7.0|              6.0|        3.0| 59.0|         NULL|           2.0|      37741.0|          28021.0|        NULL|              NULL|  NULL|           2000.0|             0.0|             0.0|     NULL|     NULL|     NULL|   2e0e2e0e2e1e2e|               NULL|          NULL|         NULL|          NULL|                   NULL|                    NULL|       NULL|            NULL|                  NULL|            NULL|          NULL|       NULL|      NULL|              NULL|               NULL|                NULL|           NULL|       NULL|       NULL|            2000.0|          NULL|   NULL|       NULL|           NULL|  NULL|         NULL|       NULL|            NULL|             NULL|        NULL|        NULL|         NULL|      NULL|           NULL|                 NULL|               NULL|    31|                 NULL|          PN|                   NULL|                     NULL|      NULL|       NULL|      S_hsq101_B|                NULL|                NULL|                NULL|                NULL|              NULL|           NULL|                 NULL|          NULL|        NULL|  popularity|       high_to_low|         DAVO|               False|           NULL|                 7|                  0.0|              NULL|                false|                false|     NULL|          NULL|           true|                     0.0|                 False|            true|        NULL|    192.168.1.2|       mmt|prod|           1381|296c2cb330cfc79d~...|   28614.0|      request|2019-04-01 05:56:15|2019-04-01 05:56:18|2019-04-01 19:05:56|           NULL|      NULL|30ecf709-4b70-4ee...|95e276d5-292b-48b...|f8264304-794d-4c4...|e9e53cfe-7dc6-4a4...|2019-04-01|   2019-04-01|       listing|not-couple|\n",
            "|201611011603268150|       NULL|    PERSONAL|    b01e5197dc04bbb0|2DD2521A052A0657-...|73223169612540188...|  listing|           filters|              NULL|India Standard Time|  Android_7.5.8| dom htl|                NULL|     mobile|Pimpri-Chinchwad|ANDROID|     8.0.0|      7.5.8|       del|           in|                    False|          Work|       cty|   New Delhi And NCR|  2019-04-01|   2019-04-04|           1|           0.0|         1.0|              3.0|        1.0|  0.0|         NULL|           3.0|       8999.0|           6880.0|        NULL|              NULL|  NULL|             NULL|            NULL|            NULL|     NULL|     NULL|     NULL|             1e0e|               NULL|          NULL|         NULL|          NULL|                   NULL|                    NULL|       NULL|            NULL|                  NULL|            NULL|          NULL|       NULL|      NULL|              NULL|               NULL|                NULL|           NULL|       NULL|       NULL|              NULL|          NULL|   NULL|       NULL|           NULL|  NULL|         NULL|       NULL|            NULL|             NULL|        NULL|        NULL|         NULL|      NULL|           NULL|                 NULL|               NULL|    10|                 NULL|          PN|                   NULL|                     NULL|      NULL|       NULL|      S_hsq641_B|                NULL|                NULL|                NULL|                NULL|              NULL|           NULL|                 NULL|          NULL|        NULL|  popularity|       high_to_low|          DEL|               False|           NULL|                42|                  4.1|              NULL|                false|                false|     NULL|          NULL|          false|                     0.0|                 False|            true|        NULL| 100.102.206.56|       mmt|prod|             32| b01e5197dc04bbb0~32|      NULL|      request|2019-04-01 06:32:47|2019-04-01 06:33:08|2019-04-01 19:05:21|           NULL|      NULL|2c7bf913-8e52-482...|7c6b17b7-8632-4aa...|ccbb6b3e-8a21-4be...|0f2f3cbb-05bb-4bd...|2019-04-01|   2019-04-01|       listing|    couple|\n",
            "|   674463971971841|UF6M5VOS4SM|    PERSONAL|62F01728-685B-443...|2DE040A9052A52B2-...|00234541700726785...|  listing| listing to detail|              NULL|                IST|           NULL|intl htl|mob:funnel:intl h...|     mobile|       New Delhi|    IOS|iOS_12.1.4|      6.2.8|      davo|           ch|                    False|       Leisure|    google|InterContinental ...|  2019-07-14|   2019-07-15|           2|           0.0|         2.0|              1.0|        1.0|104.0|         NULL|           1.0|      10596.0|          10596.0|        NULL|              NULL|  NULL|           1351.0|             0.0|             0.0|     NULL|     NULL|     NULL|             2e0e|               NULL|          NULL|         NULL|          NULL|                   NULL|                    NULL|       NULL|            NULL|                  NULL|            NULL|          NULL|       NULL|      NULL|              NULL|               NULL|                NULL|           NULL|       NULL|       NULL|            1351.0|          NULL|   NULL|       NULL|           NULL|  NULL|         NULL|       NULL|            NULL|             NULL|        NULL|        NULL|         NULL|      NULL|           NULL|                 NULL|               NULL|    31|                 NULL|          PN|                   NULL|                     NULL|      NULL|       NULL|       S_hsq61_B|                NULL|Loc_InterContinen...|InterContinental ...|                NULL|              NULL|           NULL|                 NULL|          NULL|        NULL|        NULL|              NULL|         DAVO|               False|           NULL|                 0|                  4.5|              NULL|                false|                false|     NULL|          NULL|           true|                    NULL|                 False|           false|        NULL|    192.168.1.9|       mmt|prod|            168|62F01728-685B-443...|   21441.0|      request|2019-04-01 06:49:49|2019-04-01 06:49:49|2019-04-01 19:05:45|           NULL|      NULL|947b9bf3-d55e-45e...|4976dc36-43fa-42b...|d60011b1ffe8a507c...|ad3e6fef-8ccf-44b...|2019-04-01|   2019-04-01|       listing|    couple|\n",
            "|201803161648093814|       NULL|    PERSONAL|    909b264761be9d02|2DAED8CE852A1C3A-...|19089274888689427...|  listing|          pageexit|              NULL|India Standard Time|  Android_7.4.8| dom htl|                NULL|     mobile|          Meerut|ANDROID|     7.1.2|      7.4.8|       bul|           in|                    False|       Leisure|       cty|         Bulandshahr|  2019-04-13|   2019-04-14|           2|           0.0|         2.0|              1.0|        1.0| 12.0|         NULL|           1.0|       3420.0|           2446.0|        NULL|              NULL|  NULL|             NULL|            NULL|            NULL|     NULL|     NULL|     NULL|             2e0e|               NULL|          NULL|         NULL|          NULL|                   NULL|                    NULL|       NULL|            NULL|                  NULL|            NULL|          NULL|       NULL|      NULL|              NULL|               NULL|                NULL|           NULL|       NULL|       NULL|              NULL|          NULL|   NULL|       NULL|           NULL|  NULL|         NULL|       NULL|            NULL|             NULL|        NULL|        NULL|         NULL|      NULL|           NULL|                 NULL|               NULL|    31|                 NULL|          PN|                   NULL|                     NULL|      NULL|       NULL|      S_hsq641_B|                NULL|                NULL|                NULL|                NULL|              NULL|           NULL|                 NULL|          NULL|        NULL|  popularity|       high_to_low|          DEL|               False|           NULL|                14|                  0.0|              NULL|                false|                false|     NULL|          NULL|          false|                     0.0|                 False|            true|        NULL|100.103.113.172|       mmt|prod|             57| 909b264761be9d02~57|   23003.0|      request|2019-04-01 15:07:27|2019-04-01 15:07:34|2019-04-01 19:05:59|           NULL|      NULL|92f3bcbc-799b-46b...|1479df0e-bdaf-407...|8189bbb9-4ad4-46e...|729c19af-394b-437...|2019-04-01|   2019-04-01|       listing|    couple|\n",
            "|   674463971971841|U2DMB46CCCL|    PERSONAL|    296c2cb330cfc79d|2B60E331852A1F17-...|12922965978476714...|  listing|          pageexit|              NULL|India Standard Time|  Android_7.5.7|intl htl|                NULL|     mobile|     Tegallalang|ANDROID|       7.0|      7.5.7|  -2554009|           ch|                    False|          Work|       cty|          St. Moritz|  2019-05-30|   2019-06-01|           6|           1.0|         7.0|              6.0|        3.0| 59.0|         NULL|           2.0|      44972.0|          37942.0|        NULL|              NULL|  NULL|           2000.0|             0.0|             0.0|     NULL|     NULL|     NULL|   2e0e2e0e2e1e2e|               NULL|          NULL|         NULL|          NULL|                   NULL|                    NULL|       NULL|            NULL|                  NULL|            NULL|          NULL|       NULL|      NULL|              NULL|               NULL|                NULL|           NULL|       NULL|       NULL|            2000.0|          NULL|   NULL|       NULL|           NULL|  NULL|         NULL|       NULL|            NULL|             NULL|        NULL|        NULL|         NULL|      NULL|           NULL|                 NULL|               NULL|    31|                 NULL|          PN|                   NULL|                     NULL|      NULL|       NULL|      S_hsq101_B|                NULL|                NULL|                NULL|                NULL|              NULL|           NULL|                 NULL|          NULL|        NULL|  popularity|       high_to_low|         DAVO|               False|           NULL|                 6|                  0.0|              NULL|                false|                false|     NULL|          NULL|           true|                     0.0|                 False|            true|        NULL|    192.168.1.2|       mmt|prod|           1381|296c2cb330cfc79d~...|   28614.0|      request|2019-04-01 05:56:15|2019-04-01 05:56:18|2019-04-01 19:05:56|           NULL|      NULL|30ecf709-4b70-4ee...|95e276d5-292b-48b...|f8264304-794d-4c4...|e9e53cfe-7dc6-4a4...|2019-04-01|   2019-04-01|       listing|not-couple|\n",
            "|201511141311078070|URMYO56FTKH|    PERSONAL|    153035e89ed83faf|                 vid|63053714912146913...|  listing|          pageexit|              NULL|India Standard Time|  Android_7.5.8| dom htl|                NULL|     mobile|            NULL|ANDROID|     8.1.0|      7.5.8|       del|           in|                    False|          Work|       cty|      Delhi Aerocity|  2019-05-02|   2019-05-03|           1|           0.0|         1.0|              1.0|        1.0| 31.0|         NULL|           1.0|       5699.0|           5699.0|        NULL|              NULL|  NULL|              0.0|             0.0|             0.0|     NULL|     NULL|     NULL|             1e0e|               NULL|          NULL|         NULL|          NULL|                   NULL|                    NULL|       NULL|            NULL|                  NULL|            NULL|          NULL|       NULL|      NULL|              NULL|               NULL|                NULL|           NULL|       NULL|       NULL|               0.0|          NULL|   NULL|       NULL|           NULL|  NULL|         NULL|       NULL|            NULL|             NULL|        NULL|        NULL|         NULL|      NULL|           NULL|                 NULL|               NULL|    31|                 NULL|          PN|                   NULL|                     NULL|      NULL|       NULL|      S_MM_AND_B|                NULL|               Hotel|      Delhi Aerocity|               Hotel|              NULL|           NULL|                 NULL|          NULL|        NULL|  popularity|       high_to_low|          DEL|               False|           NULL|                 0|                  4.0|              NULL|                false|                false|     NULL|          NULL|           true|       96.58000183105469|                  True|           false|        NULL|    100.71.7.71|       mmt|prod|              1|  153035e89ed83faf~1|  875445.0|      request|2019-04-01 14:54:59|2019-04-01 14:55:20|2019-04-01 19:05:49|           NULL|      NULL|a9416792-da19-404...|ff0fd534-dec0-44a...|6c11bb7b-16ae-42b...|88b80050-fa34-4b2...|2019-04-01|   2019-04-01|       listing|    couple|\n",
            "|201603092009546890|UZELINEGCNM|    PERSONAL|    e20b29d316e47978|2D5F1106852A2B3B-...|71459098336862548...|  listing|          pageexit|              NULL|India Standard Time|  Android_7.5.8|intl htl|                NULL|     mobile|           Noida|ANDROID|     8.0.0|      7.5.8|  -2554009|           ch|                    False|          Work|       cty|          St. Moritz|  2019-08-10|   2019-08-11|           3|           0.0|         3.0|             NULL|        1.0|131.0|         NULL|          NULL|      35241.0|          23662.0|        NULL|              NULL|  NULL|             NULL|            NULL|            NULL|     NULL|     NULL|     NULL|             3e0e|               NULL|          NULL|         NULL|          NULL|                   NULL|                    NULL|       NULL|            NULL|                  NULL|            NULL|          NULL|       NULL|      NULL|              NULL|               NULL|                NULL|           NULL|       NULL|       NULL|            1299.0|          NULL|   NULL|       NULL|           NULL|  NULL|         NULL|       NULL|            NULL|             NULL|        NULL|        NULL|         NULL|      NULL|           NULL|                 NULL|               NULL|  NULL|                 NULL|        NULL|                   NULL|                     NULL|      NULL|       NULL|            NULL|                NULL|                NULL|                NULL|                NULL|              NULL|           NULL|                 NULL|          NULL|        NULL|  popularity|       high_to_low|         DAVO|                NULL|           NULL|                20|                  0.0|              NULL|                false|                false|     NULL|          NULL|           true|                     0.0|                 False|           false|        NULL|  192.168.29.32|       mmt|prod|            487|                NULL|   31369.0|      request|2019-04-01 18:15:36|2019-04-01 18:15:38|2019-04-01 19:06:18|           NULL|      NULL|a63825e6-5565-4c6...|3fa1702a-f37c-480...|07a53919-9949-4c6...|                NULL|2019-04-01|   2019-04-01|       listing|not-couple|\n",
            "|201803161648093814|U7RMYV8EP9M|    PERSONAL|C971C192-C853-41A...|                NULL|47189779549187610...|  listing|          pageexit|              NULL|                IST|           NULL| dom htl|mob:funnel:domest...|     mobile|            NULL|    IOS|iOS_12.1.4|      6.2.8|       del|           in|                    False|       Leisure|       htl|      Mapple Express|  2019-04-03|   2019-04-05|           7|           0.0|         7.0|              6.0|        3.0|  2.0|         NULL|           2.0|       5508.0|           5508.0|        NULL|              NULL|  NULL|           1581.0|             0.0|             0.0|     NULL|     NULL|     NULL|     2e0e2e0e3e0e|               NULL|          NULL|         NULL|          NULL|                   NULL|                    NULL|       NULL|            NULL|                  NULL|            NULL|          NULL|       NULL|      NULL|              NULL|               NULL|                NULL|           NULL|       NULL|       NULL|            1581.0|          NULL|   NULL|       NULL|           NULL|  NULL|         NULL|       NULL|            NULL|             NULL|        NULL|        NULL|         NULL|      NULL|           NULL|                 NULL|               NULL|    31|                 NULL|          PN|                   NULL|                     NULL|      NULL|       NULL|       S_hsq95_P|                NULL|                NULL|                NULL|                NULL|              NULL|           NULL|                 NULL|          NULL|        NULL|        NULL|              NULL|          DEL|               False|           NULL|               107|                  5.0|              NULL|                false|                false|     NULL|          NULL|          false|                    NULL|                 False|           false|        NULL|           NULL|       mmt|prod|             17|C971C192-C853-41A...|  172166.0|      request|2019-04-01 16:56:50|2019-04-01 16:56:51|2019-04-01 19:06:23|           NULL|      NULL|e0fe8c72-3ec5-4cf...|bc8f553d-1ca5-48c...|98afd18565735b3c8...|e9ba71d2-54eb-4dd...|2019-04-01|   2019-04-01|       listing|not-couple|\n",
            "|201603092009546890|U2DMB46CCCL|    PERSONAL|    296c2cb330cfc79d|2B60E331852A1F17-...|12922965978476714...|  listing|          pageexit|              NULL|India Standard Time|  Android_7.5.7|intl htl|                NULL|     mobile|     Tegallalang|ANDROID|       7.0|      7.5.7|  -2554009|           ch|                    False|          Work|       cty|          St. Moritz|  2019-05-30|   2019-06-01|           6|           1.0|         7.0|              6.0|        3.0| 59.0|         NULL|           2.0|      58025.0|          50337.0|        NULL|              NULL|  NULL|           2000.0|             0.0|             0.0|     NULL|     NULL|     NULL|   2e0e2e0e2e1e2e|               NULL|          NULL|         NULL|          NULL|                   NULL|                    NULL|       NULL|            NULL|                  NULL|            NULL|          NULL|       NULL|      NULL|              NULL|               NULL|                NULL|           NULL|       NULL|       NULL|            2000.0|          NULL|   NULL|       NULL|           NULL|  NULL|         NULL|       NULL|            NULL|             NULL|        NULL|        NULL|         NULL|      NULL|           NULL|                 NULL|               NULL|    31|                 NULL|          PN|                   NULL|                     NULL|      NULL|       NULL|      S_hsq101_B|                NULL|                NULL|                NULL|                NULL|              NULL|           NULL|                 NULL|          NULL|        NULL|  popularity|       high_to_low|         DAVO|               False|           NULL|                 5|                  0.0|              NULL|                false|                false|     NULL|          NULL|           true|                     0.0|                 False|            true|        NULL|    192.168.1.2|       mmt|prod|           1381|296c2cb330cfc79d~...|   28614.0|      request|2019-04-01 05:56:15|2019-04-01 05:56:18|2019-04-01 19:05:56|           NULL|      NULL|30ecf709-4b70-4ee...|95e276d5-292b-48b...|f8264304-794d-4c4...|e9e53cfe-7dc6-4a4...|2019-04-01|   2019-04-01|       listing|not-couple|\n",
            "|201611011603268150|UQXL382F0YM|    PERSONAL|    d6c5e12278e23b09|2CEE21DC8530C5C0-...|50786034465471215...|  listing|          pageexit|              NULL|India Standard Time|  Android_7.5.8| dom htl|                NULL|     mobile|       Rishikesh|ANDROID|     8.1.0|      7.5.8|       del|           in|                    False|          Work|       cty|             Gurgaon|  2019-04-03|   2019-04-04|           2|           0.0|         2.0|              1.0|        1.0|  1.0|         NULL|           1.0|       8600.0|           6157.0|        NULL|              NULL|  NULL|            750.0|             0.0|             0.0|     NULL|     NULL|     NULL|             2e0e|               NULL|          NULL|         NULL|          NULL|                   NULL|                    NULL|       NULL|            NULL|                  NULL|            NULL|          NULL|       NULL|      NULL|              NULL|               NULL|                NULL|           NULL|       NULL|       NULL|             750.0|          NULL|   NULL|       NULL|           NULL|  NULL|         NULL|       NULL|            NULL|             NULL|        NULL|        NULL|         NULL|      NULL|           NULL|                 NULL|               NULL|    18|                 NULL|          PN|                   NULL|                     NULL|      NULL|       NULL|      S_MM_AND_B|                NULL|       4 Star,5 Star|             Gurgaon|                NULL|              NULL|            4,5|                 NULL|          NULL|        NULL|  popularity|       high_to_low|          DEL|               False|           NULL|                 9|                  4.1|              NULL|                false|                false|     NULL|          NULL|          false|       89.90750122070312|                 False|            true|        NULL|  192.168.1.174|       mmt|prod|            594|d6c5e12278e23b09~594| 2849616.0|      request|2019-04-02 15:04:49|2019-04-01 15:21:09|2019-04-01 19:05:25|           NULL|      NULL|4a4c6020-625b-4b8...|be4548ab-f6c4-441...|2c603e6f-0c79-469...|ccdc8763-eae1-4b3...|2019-04-01|   2019-04-01|       listing|    couple|\n",
            "|201808292253043262|U2DMB46CCCL|    PERSONAL|    296c2cb330cfc79d|2B60E331852A1F17-...|12922965978476714...|  listing|          pageexit|              NULL|India Standard Time|  Android_7.5.7|intl htl|                NULL|     mobile|     Tegallalang|ANDROID|       7.0|      7.5.7|  -2554009|           ch|                    False|          Work|       cty|          St. Moritz|  2019-05-30|   2019-06-01|           6|           1.0|         7.0|              6.0|        3.0| 59.0|         NULL|           2.0|      44210.0|          44210.0|        NULL|              NULL|  NULL|           2000.0|             0.0|             0.0|     NULL|     NULL|     NULL|   2e0e2e0e2e1e2e|               NULL|          NULL|         NULL|          NULL|                   NULL|                    NULL|       NULL|            NULL|                  NULL|            NULL|          NULL|       NULL|      NULL|              NULL|               NULL|                NULL|           NULL|       NULL|       NULL|            2000.0|          NULL|   NULL|       NULL|           NULL|  NULL|         NULL|       NULL|            NULL|             NULL|        NULL|        NULL|         NULL|      NULL|           NULL|                 NULL|               NULL|    31|                 NULL|          PN|                   NULL|                     NULL|      NULL|       NULL|      S_hsq101_B|                NULL|                NULL|                NULL|                NULL|              NULL|           NULL|                 NULL|          NULL|        NULL|  popularity|       high_to_low|         DAVO|               False|           NULL|                 9|                  0.0|              NULL|                false|                false|     NULL|          NULL|          false|                     0.0|                 False|            true|        NULL|    192.168.1.2|       mmt|prod|           1381|296c2cb330cfc79d~...|   28614.0|      request|2019-04-01 05:56:15|2019-04-01 05:56:18|2019-04-01 19:05:56|           NULL|      NULL|30ecf709-4b70-4ee...|95e276d5-292b-48b...|f8264304-794d-4c4...|e9e53cfe-7dc6-4a4...|2019-04-01|   2019-04-01|       listing|not-couple|\n",
            "|201803161648093814|UKIH2RRRJ0L|    PERSONAL|570C326B-2BF5-400...|                NULL|90574645387553704...|  listing| listing to detail|              NULL|                IST|           NULL| dom htl|mob:funnel:domest...|     mobile|          Jaipur|    IOS|iOS_12.1.4|      6.2.6|       del|           in|                    False|       Leisure|       htl|Crowne Plaza Grea...|  2019-10-15|   2019-10-20|           2|           0.0|         2.0|              5.0|        1.0|197.0|         NULL|           5.0|       2244.0|           2244.0|        NULL|              NULL|  NULL|              0.0|             0.0|             0.0|     NULL|     NULL|     NULL|             2e0e|               NULL|          NULL|         NULL|          NULL|                   NULL|                    NULL|       NULL|            NULL|                  NULL|            NULL|          NULL|       NULL|      NULL|              NULL|               NULL|                NULL|           NULL|       NULL|       NULL|               0.0|          NULL|   NULL|       NULL|           NULL|  NULL|         NULL|       NULL|            NULL|             NULL|        NULL|        NULL|         NULL|      NULL|           NULL|                 NULL|               NULL|    31|                 NULL|          PN|                   NULL|                     NULL|      NULL|       NULL|      S_MM_IOS_B|                NULL|                NULL|                NULL|                NULL|              NULL|           NULL|                 NULL|          NULL|        NULL|        NULL|              NULL|          DEL|               False|           NULL|                25|                  5.0|              NULL|                false|                false|     NULL|          NULL|          false|                   50.25|                 False|           false|        NULL|           NULL|       mmt|prod|            133|570C326B-2BF5-400...|  520228.0|      request|2019-04-01 02:53:08|2019-04-01 02:53:09|2019-04-01 19:06:10|           NULL|      NULL|fcdcc438-22a7-424...|c024b575-63de-4d3...|447edfb3b8233c32c...|48e0f53f-95c5-4bd...|2019-04-01|   2019-04-01|       listing|    couple|\n",
            "|201801081726455371|UF6M5VOS4SM|    PERSONAL|62F01728-685B-443...|2DE040A9052A52B2-...|00234541700726785...|  listing| listing to detail|              NULL|                IST|           NULL|intl htl|mob:funnel:intl h...|     mobile|       New Delhi|    IOS|iOS_12.1.4|      6.2.8|      davo|           ch|                    False|       Leisure|    google|InterContinental ...|  2019-07-14|   2019-07-15|           2|           0.0|         2.0|              1.0|        1.0|104.0|         NULL|           1.0|       6520.0|           6520.0|        NULL|              NULL|  NULL|           1351.0|             0.0|             0.0|     NULL|     NULL|     NULL|             2e0e|               NULL|          NULL|         NULL|          NULL|                   NULL|                    NULL|       NULL|            NULL|                  NULL|            NULL|          NULL|       NULL|      NULL|              NULL|               NULL|                NULL|           NULL|       NULL|       NULL|            1351.0|          NULL|   NULL|       NULL|           NULL|  NULL|         NULL|       NULL|            NULL|             NULL|        NULL|        NULL|         NULL|      NULL|           NULL|                 NULL|               NULL|    31|                 NULL|          PN|                   NULL|                     NULL|      NULL|       NULL|       S_hsq61_B|                NULL|Loc_InterContinen...|InterContinental ...|                NULL|              NULL|           NULL|                 NULL|          NULL|        NULL|        NULL|              NULL|         DAVO|               False|           NULL|                 1|                  4.0|              NULL|                false|                false|     NULL|          NULL|           true|                    NULL|                 False|           false|        NULL|    192.168.1.9|       mmt|prod|            168|62F01728-685B-443...|   21441.0|      request|2019-04-01 06:49:49|2019-04-01 06:49:49|2019-04-01 19:05:45|           NULL|      NULL|947b9bf3-d55e-45e...|4976dc36-43fa-42b...|d60011b1ffe8a507c...|ad3e6fef-8ccf-44b...|2019-04-01|   2019-04-01|       listing|    couple|\n",
            "|201503191002004585|U2DMBNC7J7M|    PERSONAL|    96ad89fdaca28f59|2C5A0AEA052A05AD-...|71627838630676424...|  listing|     hotel_clicked|  2017033111362710|India Standard Time|  Android_7.5.1| dom htl|                NULL|     mobile|        Kashipur|ANDROID|       5.1|      7.5.1|       del|           in|                    False|       Leisure|       cty|   New Delhi And NCR|  2019-04-02|   2019-04-03|           2|           0.0|         2.0|              1.0|        1.0|  1.0|         NULL|           1.0|       3900.0|           2586.0|        NULL|              NULL|  NULL|              0.0|             0.0|             0.0|     NULL|     NULL|     NULL|             2e0e|               NULL|          NULL|         NULL|          NULL|                   NULL|                    NULL|       NULL|            NULL|                  NULL|            NULL|          NULL|       NULL|      NULL|              NULL|               NULL|                NULL|           NULL|       NULL|       NULL|               0.0|          NULL|   NULL|       NULL|           NULL|  NULL|         NULL|       NULL|            NULL|             NULL|        NULL|        NULL|         NULL|      NULL|           NULL|                 NULL|               NULL|    18|                 NULL|          PN|                   NULL|                     NULL|      NULL|       NULL|      S_hsq134_P|                NULL|                NULL|                NULL|                NULL|              NULL|           NULL|                 NULL|          NULL|        NULL|        NULL|              NULL|          DEL|               False|           NULL|                 7|                  4.0|              NULL|                false|                false|     NULL|          NULL|          false|                   100.0|                 False|           false|        NULL|  56.76.241.116|       mmt|prod|            165|96ad89fdaca28f59~165|      NULL|      request|2019-04-01 03:31:14|2019-04-01 03:31:35|2019-04-01 19:05:38|           NULL|      NULL|8d3030df-9626-4b7...|5f89f816-618e-45c...|b160ceb9-4039-4a6...|35503417-3faa-414...|2019-04-01|   2019-04-01|       listing|    couple|\n",
            "|201801081726455371|U2DMB46CCCL|    PERSONAL|    296c2cb330cfc79d|2B60E331852A1F17-...|12922965978476714...|  listing|          pageexit|              NULL|India Standard Time|  Android_7.5.7|intl htl|                NULL|     mobile|     Tegallalang|ANDROID|       7.0|      7.5.7|  -2554009|           ch|                    False|          Work|       cty|          St. Moritz|  2019-05-30|   2019-06-01|           6|           1.0|         7.0|              6.0|        3.0| 59.0|         NULL|           2.0|      48424.0|          40819.0|        NULL|              NULL|  NULL|           2000.0|             0.0|             0.0|     NULL|     NULL|     NULL|   2e0e2e0e2e1e2e|               NULL|          NULL|         NULL|          NULL|                   NULL|                    NULL|       NULL|            NULL|                  NULL|            NULL|          NULL|       NULL|      NULL|              NULL|               NULL|                NULL|           NULL|       NULL|       NULL|            2000.0|          NULL|   NULL|       NULL|           NULL|  NULL|         NULL|       NULL|            NULL|             NULL|        NULL|        NULL|         NULL|      NULL|           NULL|                 NULL|               NULL|    31|                 NULL|          PN|                   NULL|                     NULL|      NULL|       NULL|      S_hsq101_B|                NULL|                NULL|                NULL|                NULL|              NULL|           NULL|                 NULL|          NULL|        NULL|  popularity|       high_to_low|         DAVO|               False|           NULL|                10|                  0.0|              NULL|                false|                false|     NULL|          NULL|           true|                     0.0|                 False|           false|        NULL|    192.168.1.2|       mmt|prod|           1381|296c2cb330cfc79d~...|   28614.0|      request|2019-04-01 05:56:15|2019-04-01 05:56:18|2019-04-01 19:05:56|           NULL|      NULL|30ecf709-4b70-4ee...|95e276d5-292b-48b...|f8264304-794d-4c4...|e9e53cfe-7dc6-4a4...|2019-04-01|   2019-04-01|       listing|not-couple|\n",
            "|201803161648093814|USOMQQF98YM|    PERSONAL|    5239b41536019b70|2DEEB0F2052A04BE-...|46259495235530936...|  listing|     hotel_clicked|201409031204276595|India Standard Time|  Android_7.5.8| dom htl|                NULL|     mobile|       Bengaluru|ANDROID|     8.0.0|      7.5.8|       del|           in|                     True|          Work|       cty|   New Delhi And NCR|  2019-04-02|   2019-04-03|           1|           0.0|         1.0|              1.0|        1.0|  1.0|         NULL|           1.0|       2966.0|           2118.0|        NULL|              NULL|  NULL|              0.0|          2000.0|             0.0|     NULL|     NULL|     NULL|             1e0e|               NULL|          NULL|         NULL|          NULL|                   NULL|                    NULL|       NULL|            NULL|                  NULL|            NULL|          NULL|       NULL|      NULL|              NULL|               NULL|                NULL|           NULL|       NULL|       NULL|            2000.0|          NULL|   NULL|       NULL|           NULL|  NULL|         NULL|       NULL|            NULL|             NULL|        NULL|        NULL|         NULL|      NULL|           NULL|                 NULL|               NULL|    18|                 NULL|          PN|                   NULL|                     NULL|      NULL|       NULL|       S_price_B|                NULL|Rs 2000 - Rs 6000...|                NULL|                NULL|              NULL|              3|                 NULL|          NULL|        NULL|        NULL|              NULL|          DEL|               False|           NULL|                25|                  5.0|              NULL|                false|                false|     NULL|          NULL|          false|                     0.0|                 False|            true|        NULL|  10.30.206.210|       mmt|prod|             40| 5239b41536019b70~40|      NULL|      request|2019-04-01 05:23:41|2019-04-01 05:23:43|2019-04-01 19:06:03|           NULL|      NULL|df619b92-254f-4b8...|2028d81b-f277-41b...|e9529453-f6fb-4a7...|d03a95e7-110c-4ba...|2019-04-01|   2019-04-01|       listing|    couple|\n",
            "|   674463971974746|UF6M5VOS4SM|    PERSONAL|62F01728-685B-443...|2DE040A9052A52B2-...|00234541700726785...|  listing| listing to detail|              NULL|                IST|           NULL|intl htl|mob:funnel:intl h...|     mobile|       New Delhi|    IOS|iOS_12.1.4|      6.2.8|      davo|           ch|                    False|       Leisure|    google|InterContinental ...|  2019-07-14|   2019-07-15|           2|           0.0|         2.0|              1.0|        1.0|104.0|         NULL|           1.0|      11042.0|          11042.0|        NULL|              NULL|  NULL|           1351.0|             0.0|             0.0|     NULL|     NULL|     NULL|             2e0e|               NULL|          NULL|         NULL|          NULL|                   NULL|                    NULL|       NULL|            NULL|                  NULL|            NULL|          NULL|       NULL|      NULL|              NULL|               NULL|                NULL|           NULL|       NULL|       NULL|            1351.0|          NULL|   NULL|       NULL|           NULL|  NULL|         NULL|       NULL|            NULL|             NULL|        NULL|        NULL|         NULL|      NULL|           NULL|                 NULL|               NULL|    31|                 NULL|          PN|                   NULL|                     NULL|      NULL|       NULL|       S_hsq61_B|                NULL|Loc_InterContinen...|InterContinental ...|                NULL|              NULL|           NULL|                 NULL|          NULL|        NULL|        NULL|              NULL|         DAVO|               False|           NULL|                 2|                  4.0|              NULL|                false|                false|     NULL|          NULL|           true|                    NULL|                 False|           false|        NULL|    192.168.1.9|       mmt|prod|            168|62F01728-685B-443...|   21441.0|      request|2019-04-01 06:49:49|2019-04-01 06:49:49|2019-04-01 19:05:45|           NULL|      NULL|947b9bf3-d55e-45e...|4976dc36-43fa-42b...|d60011b1ffe8a507c...|ad3e6fef-8ccf-44b...|2019-04-01|   2019-04-01|       listing|    couple|\n",
            "|201611011603268150|UXDMRTA2I2H|    PERSONAL|    ea567c89ffec6804|2D89326D852A39B9-...|15189898010196734...|  listing|           filters|              NULL|India Standard Time|  Android_7.5.8| dom htl|                NULL|     mobile|       New Delhi|ANDROID|         9|      7.5.8|       del|           in|                    False|          Work|       cty|   New Delhi And NCR|  2019-04-01|   2019-04-02|           2|           0.0|         2.0|              1.0|        1.0|  0.0|         NULL|           1.0|       8600.0|           5933.0|        NULL|              NULL|  NULL|              0.0|             0.0|             0.0|     NULL|     NULL|     NULL|             2e0e|               NULL|          NULL|         NULL|          NULL|                   NULL|                    NULL|       NULL|            NULL|                  NULL|            NULL|          NULL|       NULL|      NULL|              NULL|               NULL|                NULL|           NULL|       NULL|       NULL|               0.0|          NULL|   NULL|       NULL|           NULL|  NULL|         NULL|       NULL|            NULL|             NULL|        NULL|        NULL|         NULL|      NULL|           NULL|                 NULL|               NULL|    17|                 NULL|          PN|                   NULL|                     NULL|      NULL|       NULL|      S_MM_AND_B|                NULL|                NULL|             Gurgaon|                NULL|              NULL|           NULL|                 NULL|          NULL|        NULL|  popularity|       high_to_low|          DEL|               False|           NULL|                 9|                  4.1|              NULL|                false|                false|     NULL|          NULL|          false|       89.90750122070312|                 False|            true|        NULL| 100.68.144.187|       mmt|prod|             91| ea567c89ffec6804~91|      NULL|      request|2019-04-01 07:13:40|2019-04-01 07:13:42|2019-04-01 19:05:35|           NULL|      NULL|90744e60-c51d-47b...|95d81443-9c81-4c3...|9a0149f4-437a-4f2...|71410b3a-5ef2-484...|2019-04-01|   2019-04-01|       listing|    couple|\n",
            "+------------------+-----------+------------+--------------------+--------------------+--------------------+---------+------------------+------------------+-------------------+---------------+--------+--------------------+-----------+----------------+-------+----------+-----------+----------+-------------+-------------------------+--------------+----------+--------------------+------------+-------------+------------+--------------+------------+-----------------+-----------+-----+-------------+--------------+-------------+-----------------+------------+------------------+------+-----------------+----------------+----------------+---------+---------+---------+-----------------+-------------------+--------------+-------------+--------------+-----------------------+------------------------+-----------+----------------+----------------------+----------------+--------------+-----------+----------+------------------+-------------------+--------------------+---------------+-----------+-----------+------------------+--------------+-------+-----------+---------------+------+-------------+-----------+----------------+-----------------+------------+------------+-------------+----------+---------------+---------------------+-------------------+------+---------------------+------------+-----------------------+-------------------------+----------+-----------+----------------+--------------------+--------------------+--------------------+--------------------+------------------+---------------+---------------------+--------------+------------+------------+------------------+-------------+--------------------+---------------+------------------+---------------------+------------------+---------------------+---------------------+---------+--------------+---------------+------------------------+----------------------+----------------+------------+---------------+----------+----+---------------+--------------------+----------+-------------+-------------------+-------------------+-------------------+---------------+----------+--------------------+--------------------+--------------------+--------------------+----------+-------------+--------------+----------+\n",
            "only showing top 20 rows\n",
            "\n"
          ]
        }
      ]
    },
    {
      "cell_type": "markdown",
      "source": [
        "# Let's do EDA"
      ],
      "metadata": {
        "id": "HF5g6ApOMvWT"
      }
    },
    {
      "cell_type": "code",
      "source": [
        "# Assuming 'checkin_date' and 'checkout_date' are in the format 'yyyy-MM-dd'\n",
        "df = df.withColumn(\"checkin_date\", sf.to_date(df.checkin_date, 'yyyy-MM-dd'))\n",
        "df = df.withColumn(\"checkout_date\", sf.to_date(df.checkout_date, 'yyyy-MM-dd'))\n",
        "\n",
        "# Calculating the length of stay\n",
        "df = df.withColumn(\"length_of_stay\", sf.datediff(df.checkout_date, df.checkin_date))\n"
      ],
      "metadata": {
        "id": "gTVkZOhCMwJA"
      },
      "execution_count": null,
      "outputs": []
    },
    {
      "cell_type": "code",
      "source": [
        "df.select('length_of_stay').show()"
      ],
      "metadata": {
        "colab": {
          "base_uri": "https://localhost:8080/"
        },
        "id": "3dUq0opVNAzy",
        "outputId": "5e1021e5-a500-4d05-a562-d2c43ce3e294"
      },
      "execution_count": null,
      "outputs": [
        {
          "output_type": "stream",
          "name": "stdout",
          "text": [
            "+--------------+\n",
            "|length_of_stay|\n",
            "+--------------+\n",
            "|             2|\n",
            "|             4|\n",
            "|             2|\n",
            "|             3|\n",
            "|             1|\n",
            "|             1|\n",
            "|             2|\n",
            "|             1|\n",
            "|             1|\n",
            "|             2|\n",
            "|             2|\n",
            "|             1|\n",
            "|             2|\n",
            "|             5|\n",
            "|             1|\n",
            "|             1|\n",
            "|             2|\n",
            "|             1|\n",
            "|             1|\n",
            "|             1|\n",
            "+--------------+\n",
            "only showing top 20 rows\n",
            "\n"
          ]
        }
      ]
    },
    {
      "cell_type": "markdown",
      "source": [
        "## Let's see how to perform Label Encoding and OneHotEncoding"
      ],
      "metadata": {
        "id": "Q85h0UnNNUZY"
      }
    },
    {
      "cell_type": "code",
      "source": [
        "from pyspark.ml.feature import StringIndexer\n",
        "\n",
        "# StringIndexer to convert the categorical text data into indices\n",
        "indexer = StringIndexer(inputCol=\"device_type\", outputCol=\"device_type_index\")\n",
        "\n",
        "# Applying the indexer to the DataFrame\n",
        "df_indexed = indexer.fit(df).transform(df)\n",
        "\n",
        "# Show the result\n",
        "df_indexed.select(\"device_type\", \"device_type_index\").show(100)\n",
        "\n"
      ],
      "metadata": {
        "colab": {
          "base_uri": "https://localhost:8080/"
        },
        "id": "0K98GD12NCAh",
        "outputId": "689c31a0-6d45-40db-c129-04d7eb544a07"
      },
      "execution_count": null,
      "outputs": [
        {
          "output_type": "stream",
          "name": "stdout",
          "text": [
            "+-----------+-----------------+\n",
            "|device_type|device_type_index|\n",
            "+-----------+-----------------+\n",
            "|     mobile|              0.0|\n",
            "|     mobile|              0.0|\n",
            "|     mobile|              0.0|\n",
            "|     mobile|              0.0|\n",
            "|     mobile|              0.0|\n",
            "|     mobile|              0.0|\n",
            "|     mobile|              0.0|\n",
            "|     mobile|              0.0|\n",
            "|     mobile|              0.0|\n",
            "|     mobile|              0.0|\n",
            "|     mobile|              0.0|\n",
            "|     mobile|              0.0|\n",
            "|     mobile|              0.0|\n",
            "|     mobile|              0.0|\n",
            "|     mobile|              0.0|\n",
            "|     mobile|              0.0|\n",
            "|     mobile|              0.0|\n",
            "|     mobile|              0.0|\n",
            "|     mobile|              0.0|\n",
            "|     mobile|              0.0|\n",
            "|     mobile|              0.0|\n",
            "|     mobile|              0.0|\n",
            "|     mobile|              0.0|\n",
            "|     mobile|              0.0|\n",
            "|     mobile|              0.0|\n",
            "|     mobile|              0.0|\n",
            "|     mobile|              0.0|\n",
            "|     mobile|              0.0|\n",
            "|     mobile|              0.0|\n",
            "|     mobile|              0.0|\n",
            "|     mobile|              0.0|\n",
            "|     mobile|              0.0|\n",
            "|     mobile|              0.0|\n",
            "|     mobile|              0.0|\n",
            "|     mobile|              0.0|\n",
            "|     mobile|              0.0|\n",
            "|     mobile|              0.0|\n",
            "|     mobile|              0.0|\n",
            "|     mobile|              0.0|\n",
            "|     mobile|              0.0|\n",
            "|     mobile|              0.0|\n",
            "|     mobile|              0.0|\n",
            "|     mobile|              0.0|\n",
            "|     mobile|              0.0|\n",
            "|     mobile|              0.0|\n",
            "|     mobile|              0.0|\n",
            "|     mobile|              0.0|\n",
            "|     mobile|              0.0|\n",
            "|     mobile|              0.0|\n",
            "|     mobile|              0.0|\n",
            "|     mobile|              0.0|\n",
            "|     mobile|              0.0|\n",
            "|     mobile|              0.0|\n",
            "|     mobile|              0.0|\n",
            "|     mobile|              0.0|\n",
            "|     mobile|              0.0|\n",
            "|     mobile|              0.0|\n",
            "|     mobile|              0.0|\n",
            "|     mobile|              0.0|\n",
            "|     mobile|              0.0|\n",
            "|     mobile|              0.0|\n",
            "|     mobile|              0.0|\n",
            "|     mobile|              0.0|\n",
            "|     mobile|              0.0|\n",
            "|     mobile|              0.0|\n",
            "|     mobile|              0.0|\n",
            "|     mobile|              0.0|\n",
            "|     mobile|              0.0|\n",
            "|     mobile|              0.0|\n",
            "|     mobile|              0.0|\n",
            "|     mobile|              0.0|\n",
            "|     mobile|              0.0|\n",
            "|     mobile|              0.0|\n",
            "|     mobile|              0.0|\n",
            "|     mobile|              0.0|\n",
            "|     mobile|              0.0|\n",
            "|     mobile|              0.0|\n",
            "|     mobile|              0.0|\n",
            "|     mobile|              0.0|\n",
            "|     mobile|              0.0|\n",
            "|     mobile|              0.0|\n",
            "|     mobile|              0.0|\n",
            "|     mobile|              0.0|\n",
            "|     mobile|              0.0|\n",
            "|     mobile|              0.0|\n",
            "|     mobile|              0.0|\n",
            "|     mobile|              0.0|\n",
            "|     mobile|              0.0|\n",
            "|     mobile|              0.0|\n",
            "|     mobile|              0.0|\n",
            "|     mobile|              0.0|\n",
            "|     mobile|              0.0|\n",
            "|     mobile|              0.0|\n",
            "|     mobile|              0.0|\n",
            "|     mobile|              0.0|\n",
            "|     mobile|              0.0|\n",
            "|     mobile|              0.0|\n",
            "|     mobile|              0.0|\n",
            "|     mobile|              0.0|\n",
            "|     mobile|              0.0|\n",
            "+-----------+-----------------+\n",
            "only showing top 100 rows\n",
            "\n"
          ]
        }
      ]
    },
    {
      "cell_type": "code",
      "source": [
        "df_indexed.filter(df_indexed.device_type != 'mobile').select('device_type', 'device_type_index').show()\n"
      ],
      "metadata": {
        "colab": {
          "base_uri": "https://localhost:8080/"
        },
        "id": "j0Ks7bA_OLa5",
        "outputId": "caa52afd-4b0c-41a2-8f98-b2f5c8f7c624"
      },
      "execution_count": null,
      "outputs": [
        {
          "output_type": "stream",
          "name": "stdout",
          "text": [
            "+-----------+-----------------+\n",
            "|device_type|device_type_index|\n",
            "+-----------+-----------------+\n",
            "|        pwa|              2.0|\n",
            "|        pwa|              2.0|\n",
            "|    desktop|              1.0|\n",
            "|        pwa|              2.0|\n",
            "|        pwa|              2.0|\n",
            "|        pwa|              2.0|\n",
            "|    desktop|              1.0|\n",
            "|        pwa|              2.0|\n",
            "|        pwa|              2.0|\n",
            "|    desktop|              1.0|\n",
            "|    desktop|              1.0|\n",
            "|        pwa|              2.0|\n",
            "|        pwa|              2.0|\n",
            "|    desktop|              1.0|\n",
            "|        pwa|              2.0|\n",
            "|    desktop|              1.0|\n",
            "|    desktop|              1.0|\n",
            "|    desktop|              1.0|\n",
            "|    desktop|              1.0|\n",
            "|        pwa|              2.0|\n",
            "+-----------+-----------------+\n",
            "only showing top 20 rows\n",
            "\n"
          ]
        }
      ]
    },
    {
      "cell_type": "code",
      "source": [
        "from pyspark.ml.feature import OneHotEncoder\n",
        "from pyspark.ml import Pipeline\n",
        "\n",
        "# Create a OneHotEncoder\n",
        "encoder = OneHotEncoder(inputCols=[\"device_type_index\"], outputCols=[\"device_type_encoded\"])\n",
        "\n",
        "# Combine StringIndexer and OneHotEncoder in a Pipeline\n",
        "pipeline = Pipeline(stages=[indexer, encoder])\n",
        "\n",
        "# Fit and transform the Pipeline to the DataFrame\n",
        "df_encoded = pipeline.fit(df).transform(df)\n",
        "\n",
        "# Show the results\n",
        "df_encoded.select(\"device_type\", \"device_type_index\", \"device_type_encoded\").show()\n"
      ],
      "metadata": {
        "colab": {
          "base_uri": "https://localhost:8080/"
        },
        "id": "0ZiOl6oMOMzL",
        "outputId": "d6aca9fb-12e1-4d07-e505-e46fc7f9e411"
      },
      "execution_count": null,
      "outputs": [
        {
          "output_type": "stream",
          "name": "stdout",
          "text": [
            "+-----------+-----------------+-------------------+\n",
            "|device_type|device_type_index|device_type_encoded|\n",
            "+-----------+-----------------+-------------------+\n",
            "|     mobile|              0.0|      (2,[0],[1.0])|\n",
            "|     mobile|              0.0|      (2,[0],[1.0])|\n",
            "|     mobile|              0.0|      (2,[0],[1.0])|\n",
            "|     mobile|              0.0|      (2,[0],[1.0])|\n",
            "|     mobile|              0.0|      (2,[0],[1.0])|\n",
            "|     mobile|              0.0|      (2,[0],[1.0])|\n",
            "|     mobile|              0.0|      (2,[0],[1.0])|\n",
            "|     mobile|              0.0|      (2,[0],[1.0])|\n",
            "|     mobile|              0.0|      (2,[0],[1.0])|\n",
            "|     mobile|              0.0|      (2,[0],[1.0])|\n",
            "|     mobile|              0.0|      (2,[0],[1.0])|\n",
            "|     mobile|              0.0|      (2,[0],[1.0])|\n",
            "|     mobile|              0.0|      (2,[0],[1.0])|\n",
            "|     mobile|              0.0|      (2,[0],[1.0])|\n",
            "|     mobile|              0.0|      (2,[0],[1.0])|\n",
            "|     mobile|              0.0|      (2,[0],[1.0])|\n",
            "|     mobile|              0.0|      (2,[0],[1.0])|\n",
            "|     mobile|              0.0|      (2,[0],[1.0])|\n",
            "|     mobile|              0.0|      (2,[0],[1.0])|\n",
            "|     mobile|              0.0|      (2,[0],[1.0])|\n",
            "+-----------+-----------------+-------------------+\n",
            "only showing top 20 rows\n",
            "\n"
          ]
        }
      ]
    },
    {
      "cell_type": "code",
      "source": [
        "df_encoded.filter(df_encoded.device_type != 'mobile').select('device_type', 'device_type_index', \"device_type_encoded\").show()\n"
      ],
      "metadata": {
        "colab": {
          "base_uri": "https://localhost:8080/"
        },
        "id": "Txs8ruSMO5IB",
        "outputId": "35fd08b1-9ffb-48ba-f940-ed5bb8b01a88"
      },
      "execution_count": null,
      "outputs": [
        {
          "output_type": "stream",
          "name": "stdout",
          "text": [
            "+-----------+-----------------+-------------------+\n",
            "|device_type|device_type_index|device_type_encoded|\n",
            "+-----------+-----------------+-------------------+\n",
            "|        pwa|              2.0|          (2,[],[])|\n",
            "|        pwa|              2.0|          (2,[],[])|\n",
            "|    desktop|              1.0|      (2,[1],[1.0])|\n",
            "|        pwa|              2.0|          (2,[],[])|\n",
            "|        pwa|              2.0|          (2,[],[])|\n",
            "|        pwa|              2.0|          (2,[],[])|\n",
            "|    desktop|              1.0|      (2,[1],[1.0])|\n",
            "|        pwa|              2.0|          (2,[],[])|\n",
            "|        pwa|              2.0|          (2,[],[])|\n",
            "|    desktop|              1.0|      (2,[1],[1.0])|\n",
            "|    desktop|              1.0|      (2,[1],[1.0])|\n",
            "|        pwa|              2.0|          (2,[],[])|\n",
            "|        pwa|              2.0|          (2,[],[])|\n",
            "|    desktop|              1.0|      (2,[1],[1.0])|\n",
            "|        pwa|              2.0|          (2,[],[])|\n",
            "|    desktop|              1.0|      (2,[1],[1.0])|\n",
            "|    desktop|              1.0|      (2,[1],[1.0])|\n",
            "|    desktop|              1.0|      (2,[1],[1.0])|\n",
            "|    desktop|              1.0|      (2,[1],[1.0])|\n",
            "|        pwa|              2.0|          (2,[],[])|\n",
            "+-----------+-----------------+-------------------+\n",
            "only showing top 20 rows\n",
            "\n"
          ]
        }
      ]
    },
    {
      "cell_type": "code",
      "source": [
        "df_encoded.select('device_type').groupBy('device_type').count().show()"
      ],
      "metadata": {
        "colab": {
          "base_uri": "https://localhost:8080/"
        },
        "id": "XrUXwylNPR2P",
        "outputId": "ba38faa0-ce44-46a3-feaa-a19174f003b6"
      },
      "execution_count": null,
      "outputs": [
        {
          "output_type": "stream",
          "name": "stdout",
          "text": [
            "+-----------+-----+\n",
            "|device_type|count|\n",
            "+-----------+-----+\n",
            "|    desktop|   97|\n",
            "|        pwa|   90|\n",
            "|     mobile|11528|\n",
            "+-----------+-----+\n",
            "\n"
          ]
        }
      ]
    },
    {
      "cell_type": "code",
      "source": [
        "df.dropna().count()"
      ],
      "metadata": {
        "colab": {
          "base_uri": "https://localhost:8080/"
        },
        "id": "ZSxUMSHRPXrb",
        "outputId": "66736385-5060-431d-b9e4-b07aa23a0ce8"
      },
      "execution_count": null,
      "outputs": [
        {
          "output_type": "execute_result",
          "data": {
            "text/plain": [
              "0"
            ]
          },
          "metadata": {},
          "execution_count": 38
        }
      ]
    },
    {
      "cell_type": "code",
      "source": [
        "# udf\n",
        "from pyspark.sql.functions import udf\n",
        "from pyspark.sql.types import StringType, IntegerType\n",
        "\n",
        "\n",
        "# in pyspark we've something called udf\n",
        "def custom_python_function(value):\n",
        "  if value == 'not-couple':\n",
        "    return 0\n",
        "  else:\n",
        "    return 1\n",
        "  # return value * 2\n",
        "\n",
        "udf_custom_function =udf(custom_python_function, StringType())\n",
        "\n",
        "\n",
        "df.withColumn('mod_total_adults', udf_custom_function(sf.col('couple'))).show()"
      ],
      "metadata": {
        "id": "wBVq91ReyDez"
      },
      "execution_count": null,
      "outputs": []
    },
    {
      "cell_type": "code",
      "source": [
        "# primary stuff in module test\n",
        "1. drift\n",
        "2. experiment tracking\n",
        "3. github\n",
        "4. docker"
      ],
      "metadata": {
        "id": "rwdCPH6ZUi9T"
      },
      "execution_count": null,
      "outputs": []
    }
  ]
}